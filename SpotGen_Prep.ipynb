{
 "cells": [
  {
   "cell_type": "code",
   "execution_count": 23,
   "metadata": {},
   "outputs": [],
   "source": [
    "import tensorflow as tf\n",
    "import pandas as pd\n",
    "import numpy as np\n",
    "import os\n",
    "import time\n",
    "import re\n",
    "import np_utils\n",
    "import seaborn as sns\n",
    "import matplotlib.pyplot as plt\n",
    "import string, os\n",
    "import nltk\n",
    "import re\n",
    "import keras\n",
    "import random\n",
    "import io\n",
    "from keras.utils import np_utils\n",
    "from keras.models import Sequential\n",
    "from keras.layers import LSTM, Dense, Dropout\n",
    "from tensorflow.keras.optimizers import Adamax\n",
    "import sys\n",
    "from PIL import Image\n",
    "from wordcloud import WordCloud, STOPWORDS, ImageColorGenerator\n",
    "from PIL import Image, ImageDraw, ImageFont\n",
    "import warnings\n",
    "warnings.filterwarnings(\"ignore\")\n",
    "import pickle"
   ]
  },
  {
   "cell_type": "code",
   "execution_count": 24,
   "metadata": {},
   "outputs": [],
   "source": [
    "df = pd.read_csv(\"filtered_track_df.csv\")"
   ]
  },
  {
   "cell_type": "code",
   "execution_count": 25,
   "metadata": {},
   "outputs": [
    {
     "data": {
      "text/html": [
       "<div>\n",
       "<style scoped>\n",
       "    .dataframe tbody tr th:only-of-type {\n",
       "        vertical-align: middle;\n",
       "    }\n",
       "\n",
       "    .dataframe tbody tr th {\n",
       "        vertical-align: top;\n",
       "    }\n",
       "\n",
       "    .dataframe thead th {\n",
       "        text-align: right;\n",
       "    }\n",
       "</style>\n",
       "<table border=\"1\" class=\"dataframe\">\n",
       "  <thead>\n",
       "    <tr style=\"text-align: right;\">\n",
       "      <th></th>\n",
       "      <th>artists_id</th>\n",
       "      <th>acousticness</th>\n",
       "      <th>danceability</th>\n",
       "      <th>disc_number</th>\n",
       "      <th>duration_ms</th>\n",
       "      <th>energy</th>\n",
       "      <th>href</th>\n",
       "      <th>id</th>\n",
       "      <th>instrumentalness</th>\n",
       "      <th>key</th>\n",
       "      <th>...</th>\n",
       "      <th>speechiness</th>\n",
       "      <th>tempo</th>\n",
       "      <th>time_signature</th>\n",
       "      <th>track_href</th>\n",
       "      <th>uri</th>\n",
       "      <th>valence</th>\n",
       "      <th>release_date</th>\n",
       "      <th>artists_name</th>\n",
       "      <th>genres</th>\n",
       "      <th>release_year</th>\n",
       "    </tr>\n",
       "  </thead>\n",
       "  <tbody>\n",
       "    <tr>\n",
       "      <th>0</th>\n",
       "      <td>68WwJXWrpo1yVOOIZjLSeT</td>\n",
       "      <td>0.0268</td>\n",
       "      <td>0.506</td>\n",
       "      <td>1.0</td>\n",
       "      <td>248777.0</td>\n",
       "      <td>0.741</td>\n",
       "      <td>https://api.spotify.com/v1/tracks/0UATU9OJxh4m...</td>\n",
       "      <td>0UATU9OJxh4m3fwDljdGZn</td>\n",
       "      <td>0.000027</td>\n",
       "      <td>1.0</td>\n",
       "      <td>...</td>\n",
       "      <td>0.0349</td>\n",
       "      <td>94.042</td>\n",
       "      <td>4.0</td>\n",
       "      <td>https://api.spotify.com/v1/tracks/0UATU9OJxh4m...</td>\n",
       "      <td>0UATU9OJxh4m3fwDljdGZn</td>\n",
       "      <td>0.236</td>\n",
       "      <td>2018-09-28</td>\n",
       "      <td>Evalyn</td>\n",
       "      <td>['electropop', 'indie electro-pop', 'indie pop...</td>\n",
       "      <td>2018</td>\n",
       "    </tr>\n",
       "    <tr>\n",
       "      <th>1</th>\n",
       "      <td>09xj0S68Y1OU1vHMCZAIvz</td>\n",
       "      <td>0.5050</td>\n",
       "      <td>0.487</td>\n",
       "      <td>1.0</td>\n",
       "      <td>171573.0</td>\n",
       "      <td>0.297</td>\n",
       "      <td>https://api.spotify.com/v1/tracks/4JH1M62gVDND...</td>\n",
       "      <td>4JH1M62gVDNDhDAUiQB3Qv</td>\n",
       "      <td>0.000052</td>\n",
       "      <td>11.0</td>\n",
       "      <td>...</td>\n",
       "      <td>0.0915</td>\n",
       "      <td>185.912</td>\n",
       "      <td>3.0</td>\n",
       "      <td>https://api.spotify.com/v1/tracks/4JH1M62gVDND...</td>\n",
       "      <td>4JH1M62gVDNDhDAUiQB3Qv</td>\n",
       "      <td>0.289</td>\n",
       "      <td>2001-08-21</td>\n",
       "      <td>Café Tacvba</td>\n",
       "      <td>['latin', 'latin alternative', 'latin rock', '...</td>\n",
       "      <td>2001</td>\n",
       "    </tr>\n",
       "    <tr>\n",
       "      <th>2</th>\n",
       "      <td>6pSsE5y0uJMwYj83KrPyf9</td>\n",
       "      <td>0.1330</td>\n",
       "      <td>0.629</td>\n",
       "      <td>1.0</td>\n",
       "      <td>207396.0</td>\n",
       "      <td>0.706</td>\n",
       "      <td>https://api.spotify.com/v1/tracks/0h7Ld5CvgzaU...</td>\n",
       "      <td>0h7Ld5CvgzaUN1zA3tdyPq</td>\n",
       "      <td>0.000000</td>\n",
       "      <td>1.0</td>\n",
       "      <td>...</td>\n",
       "      <td>0.4360</td>\n",
       "      <td>81.220</td>\n",
       "      <td>4.0</td>\n",
       "      <td>https://api.spotify.com/v1/tracks/0h7Ld5CvgzaU...</td>\n",
       "      <td>0h7Ld5CvgzaUN1zA3tdyPq</td>\n",
       "      <td>0.543</td>\n",
       "      <td>2019-01-25</td>\n",
       "      <td>Dawn Richard</td>\n",
       "      <td>['alternative r&amp;b', 'deep pop r&amp;b', 'escape ro...</td>\n",
       "      <td>2019</td>\n",
       "    </tr>\n",
       "    <tr>\n",
       "      <th>3</th>\n",
       "      <td>7slfeZO9LsJbWgpkIoXBUJ</td>\n",
       "      <td>0.4060</td>\n",
       "      <td>0.590</td>\n",
       "      <td>1.0</td>\n",
       "      <td>279000.0</td>\n",
       "      <td>0.597</td>\n",
       "      <td>https://api.spotify.com/v1/tracks/4S1bYWrLOC8s...</td>\n",
       "      <td>4S1bYWrLOC8smuy8kJzxKQ</td>\n",
       "      <td>0.000023</td>\n",
       "      <td>9.0</td>\n",
       "      <td>...</td>\n",
       "      <td>0.0275</td>\n",
       "      <td>121.051</td>\n",
       "      <td>4.0</td>\n",
       "      <td>https://api.spotify.com/v1/tracks/4S1bYWrLOC8s...</td>\n",
       "      <td>4S1bYWrLOC8smuy8kJzxKQ</td>\n",
       "      <td>0.466</td>\n",
       "      <td>1995-09-12</td>\n",
       "      <td>Ricky Martin</td>\n",
       "      <td>['dance pop', 'latin', 'latin pop', 'mexican p...</td>\n",
       "      <td>1995</td>\n",
       "    </tr>\n",
       "    <tr>\n",
       "      <th>4</th>\n",
       "      <td>09hVIj6vWgoCDtT03h8ZCa</td>\n",
       "      <td>0.0316</td>\n",
       "      <td>0.727</td>\n",
       "      <td>1.0</td>\n",
       "      <td>218773.0</td>\n",
       "      <td>0.380</td>\n",
       "      <td>https://api.spotify.com/v1/tracks/758mQT4zzlvB...</td>\n",
       "      <td>758mQT4zzlvBhy9PvNePwC</td>\n",
       "      <td>0.000000</td>\n",
       "      <td>7.0</td>\n",
       "      <td>...</td>\n",
       "      <td>0.3350</td>\n",
       "      <td>92.050</td>\n",
       "      <td>4.0</td>\n",
       "      <td>https://api.spotify.com/v1/tracks/758mQT4zzlvB...</td>\n",
       "      <td>758mQT4zzlvBhy9PvNePwC</td>\n",
       "      <td>0.455</td>\n",
       "      <td>1991-09-24</td>\n",
       "      <td>A Tribe Called Quest</td>\n",
       "      <td>['alternative hip hop', 'conscious hip hop', '...</td>\n",
       "      <td>1991</td>\n",
       "    </tr>\n",
       "  </tbody>\n",
       "</table>\n",
       "<p>5 rows × 28 columns</p>\n",
       "</div>"
      ],
      "text/plain": [
       "               artists_id  acousticness  danceability  disc_number  duration_ms  energy  \\\n",
       "0  68WwJXWrpo1yVOOIZjLSeT        0.0268         0.506          1.0     248777.0   0.741   \n",
       "1  09xj0S68Y1OU1vHMCZAIvz        0.5050         0.487          1.0     171573.0   0.297   \n",
       "2  6pSsE5y0uJMwYj83KrPyf9        0.1330         0.629          1.0     207396.0   0.706   \n",
       "3  7slfeZO9LsJbWgpkIoXBUJ        0.4060         0.590          1.0     279000.0   0.597   \n",
       "4  09hVIj6vWgoCDtT03h8ZCa        0.0316         0.727          1.0     218773.0   0.380   \n",
       "\n",
       "                                                href                      id  instrumentalness  \\\n",
       "0  https://api.spotify.com/v1/tracks/0UATU9OJxh4m...  0UATU9OJxh4m3fwDljdGZn          0.000027   \n",
       "1  https://api.spotify.com/v1/tracks/4JH1M62gVDND...  4JH1M62gVDNDhDAUiQB3Qv          0.000052   \n",
       "2  https://api.spotify.com/v1/tracks/0h7Ld5CvgzaU...  0h7Ld5CvgzaUN1zA3tdyPq          0.000000   \n",
       "3  https://api.spotify.com/v1/tracks/4S1bYWrLOC8s...  4S1bYWrLOC8smuy8kJzxKQ          0.000023   \n",
       "4  https://api.spotify.com/v1/tracks/758mQT4zzlvB...  758mQT4zzlvBhy9PvNePwC          0.000000   \n",
       "\n",
       "    key  ...  speechiness    tempo time_signature  \\\n",
       "0   1.0  ...       0.0349   94.042            4.0   \n",
       "1  11.0  ...       0.0915  185.912            3.0   \n",
       "2   1.0  ...       0.4360   81.220            4.0   \n",
       "3   9.0  ...       0.0275  121.051            4.0   \n",
       "4   7.0  ...       0.3350   92.050            4.0   \n",
       "\n",
       "                                          track_href                     uri valence  \\\n",
       "0  https://api.spotify.com/v1/tracks/0UATU9OJxh4m...  0UATU9OJxh4m3fwDljdGZn   0.236   \n",
       "1  https://api.spotify.com/v1/tracks/4JH1M62gVDND...  4JH1M62gVDNDhDAUiQB3Qv   0.289   \n",
       "2  https://api.spotify.com/v1/tracks/0h7Ld5CvgzaU...  0h7Ld5CvgzaUN1zA3tdyPq   0.543   \n",
       "3  https://api.spotify.com/v1/tracks/4S1bYWrLOC8s...  4S1bYWrLOC8smuy8kJzxKQ   0.466   \n",
       "4  https://api.spotify.com/v1/tracks/758mQT4zzlvB...  758mQT4zzlvBhy9PvNePwC   0.455   \n",
       "\n",
       "   release_date          artists_name                                             genres  \\\n",
       "0    2018-09-28                Evalyn  ['electropop', 'indie electro-pop', 'indie pop...   \n",
       "1    2001-08-21           Café Tacvba  ['latin', 'latin alternative', 'latin rock', '...   \n",
       "2    2019-01-25          Dawn Richard  ['alternative r&b', 'deep pop r&b', 'escape ro...   \n",
       "3    1995-09-12          Ricky Martin  ['dance pop', 'latin', 'latin pop', 'mexican p...   \n",
       "4    1991-09-24  A Tribe Called Quest  ['alternative hip hop', 'conscious hip hop', '...   \n",
       "\n",
       "   release_year  \n",
       "0          2018  \n",
       "1          2001  \n",
       "2          2019  \n",
       "3          1995  \n",
       "4          1991  \n",
       "\n",
       "[5 rows x 28 columns]"
      ]
     },
     "execution_count": 25,
     "metadata": {},
     "output_type": "execute_result"
    }
   ],
   "source": [
    "df.head()"
   ]
  },
  {
   "cell_type": "code",
   "execution_count": 26,
   "metadata": {},
   "outputs": [
    {
     "data": {
      "text/plain": [
       "(9460, 28)"
      ]
     },
     "execution_count": 26,
     "metadata": {},
     "output_type": "execute_result"
    }
   ],
   "source": [
    "df.shape"
   ]
  },
  {
   "cell_type": "code",
   "execution_count": 27,
   "metadata": {},
   "outputs": [
    {
     "data": {
      "text/plain": [
       "Index(['artists_id', 'acousticness', 'danceability', 'disc_number', 'duration_ms', 'energy',\n",
       "       'href', 'id', 'instrumentalness', 'key', 'liveness', 'loudness', 'lyrics', 'mode', 'name',\n",
       "       'playlist', 'popularity', 'preview_url', 'speechiness', 'tempo', 'time_signature',\n",
       "       'track_href', 'uri', 'valence', 'release_date', 'artists_name', 'genres', 'release_year'],\n",
       "      dtype='object')"
      ]
     },
     "execution_count": 27,
     "metadata": {},
     "output_type": "execute_result"
    }
   ],
   "source": [
    "df.columns"
   ]
  },
  {
   "cell_type": "code",
   "execution_count": 28,
   "metadata": {},
   "outputs": [
    {
     "data": {
      "text/plain": [
       "1418"
      ]
     },
     "execution_count": 28,
     "metadata": {},
     "output_type": "execute_result"
    }
   ],
   "source": [
    "len(pd.unique(df[\"genres\"]))"
   ]
  },
  {
   "cell_type": "code",
   "execution_count": 29,
   "metadata": {},
   "outputs": [],
   "source": [
    "def load_data():\n",
    "    df = pd.read_csv(\"filtered_track_df.csv\")\n",
    "    df['genres'] = df.genres.apply(lambda x: [i[1:-1] for i in str(x)[1:-1].split(\", \")])\n",
    "    exploded_track_df = df.explode(\"genres\")\n",
    "    return exploded_track_df"
   ]
  },
  {
   "cell_type": "code",
   "execution_count": 30,
   "metadata": {},
   "outputs": [],
   "source": [
    "exploded_track_df = load_data()"
   ]
  },
  {
   "cell_type": "code",
   "execution_count": 31,
   "metadata": {},
   "outputs": [],
   "source": [
    "genre_names = ['dance pop', 'electronic', 'electropop', 'hip hop', 'jazz', 'k-pop', 'latin', 'pop', 'pop rap', 'r&b', 'rock']\n",
    "exploded_track_df = exploded_track_df.explode(\"genres\")[exploded_track_df.explode(\"genres\")[\"genres\"].isin(genre_names)]"
   ]
  },
  {
   "cell_type": "code",
   "execution_count": 32,
   "metadata": {},
   "outputs": [
    {
     "data": {
      "text/plain": [
       "array(['electropop', 'latin', 'r&b', 'dance pop', 'pop', 'hip hop',\n",
       "       'pop rap', 'rock', 'electronic', 'k-pop', 'jazz'], dtype=object)"
      ]
     },
     "execution_count": 32,
     "metadata": {},
     "output_type": "execute_result"
    }
   ],
   "source": [
    "pd.unique(exploded_track_df['genres'])"
   ]
  },
  {
   "cell_type": "code",
   "execution_count": 33,
   "metadata": {},
   "outputs": [
    {
     "data": {
      "text/plain": [
       "genres\n",
       "dance pop     2519\n",
       "electronic     412\n",
       "electropop    1022\n",
       "hip hop        666\n",
       "jazz            76\n",
       "k-pop          608\n",
       "latin         1977\n",
       "pop           3499\n",
       "pop rap       1072\n",
       "r&b           1260\n",
       "rock          1703\n",
       "Name: id, dtype: int64"
      ]
     },
     "execution_count": 33,
     "metadata": {},
     "output_type": "execute_result"
    }
   ],
   "source": [
    "exploded_track_df.groupby(['genres'])['id'].count()"
   ]
  },
  {
   "cell_type": "code",
   "execution_count": 34,
   "metadata": {},
   "outputs": [],
   "source": [
    "elec = exploded_track_df[exploded_track_df[\"genres\"] == \"electronic\"]\n",
    "#jazz[\"lyrics\"] = jazz.lyrics.apply(lambda x: str(x).split(\".\"))"
   ]
  },
  {
   "cell_type": "code",
   "execution_count": 35,
   "metadata": {},
   "outputs": [],
   "source": [
    "elec = elec[[\"id\",\"lyrics\"]].drop(elec[elec.lyrics == \"-99\"].index)"
   ]
  },
  {
   "cell_type": "code",
   "execution_count": 39,
   "metadata": {},
   "outputs": [],
   "source": [
    "elec.to_csv(\"elec_lyrics.csv\", sep='\\t', encoding='utf-8')\n"
   ]
  },
  {
   "cell_type": "code",
   "execution_count": null,
   "metadata": {},
   "outputs": [
    {
     "name": "stdout",
     "output_type": "stream",
     "text": [
      "Number of unique characters: 76\n"
     ]
    }
   ],
   "source": [
    "#Lining up all the lyrics to create corpus\n",
    "Corpus =''\n",
    "for listitem in elec.lyrics:\n",
    "    Corpus += listitem\n",
    "    \n",
    "Corpus = Corpus.lower() #converting all alphabets to lowecase \n",
    "print(\"Number of unique characters:\", len(set(Corpus)))"
   ]
  },
  {
   "cell_type": "code",
   "execution_count": null,
   "metadata": {},
   "outputs": [
    {
     "name": "stdout",
     "output_type": "stream",
     "text": [
      "The unique characters: ['\\n', '\\r', ' ', '!', '\"', '&', \"'\", '(', ')', '+', ',', '-', '.', '/', '0', '1', '2', '3', '4', '5', '6', '7', '8', '9', ':', ';', '?', 'a', 'b', 'c', 'd', 'e', 'f', 'g', 'h', 'i', 'j', 'k', 'l', 'm', 'n', 'o', 'p', 'q', 'r', 's', 't', 'u', 'v', 'w', 'x', 'y', 'z', '¡', '´', '¿', 'ß', 'à', 'á', 'ä', 'ç', 'è', 'é', 'í', 'ñ', 'ó', 'ö', 'ú', 'ü', 'œ', '–', '—', '’', '“', '”', '…']\n"
     ]
    }
   ],
   "source": [
    "#To See all the unique characters present in the Corpus\n",
    "print(\"The unique characters:\",sorted(set(Corpus)))"
   ]
  },
  {
   "cell_type": "code",
   "execution_count": null,
   "metadata": {},
   "outputs": [],
   "source": [
    "#Keeping only a limited set of characters. \n",
    "to_remove = ['{', '}', '~', '©', 'à', 'á', 'ã', 'ä', 'ç', 'è', 'é', 'ê', 'ë', 'í', 'ñ', 'ó', 'ö', 'ü', 'ŏ',\n",
    "             'е', 'ا', 'س', 'ل', 'م', 'و', '\\u2005', '\\u200a', '\\u200b', '–', '—', '‘', '’', '‚', '“', '”', \n",
    "             '…', '\\u205f', '\\ufeff', '!', '&', '(', ')', '*', '-',  '/', ]\n",
    "for symbol in to_remove:\n",
    "    Corpus = Corpus.replace(symbol,\" \")"
   ]
  },
  {
   "cell_type": "code",
   "execution_count": null,
   "metadata": {},
   "outputs": [
    {
     "name": "stdout",
     "output_type": "stream",
     "text": [
      "The unique characters: ['\\n', '\\r', ' ', '\"', \"'\", '+', ',', '.', '0', '1', '2', '3', '4', '5', '6', '7', '8', '9', ':', ';', '?', 'a', 'b', 'c', 'd', 'e', 'f', 'g', 'h', 'i', 'j', 'k', 'l', 'm', 'n', 'o', 'p', 'q', 'r', 's', 't', 'u', 'v', 'w', 'x', 'y', 'z', '¡', '´', '¿', 'ß', 'ú', 'œ']\n"
     ]
    }
   ],
   "source": [
    "print(\"The unique characters:\",sorted(set(Corpus)))"
   ]
  },
  {
   "cell_type": "code",
   "execution_count": null,
   "metadata": {},
   "outputs": [
    {
     "name": "stdout",
     "output_type": "stream",
     "text": [
      "Total number of characters: 244181\n",
      "Number of unique characters: 53\n"
     ]
    }
   ],
   "source": [
    "# Storing all the unique characters present in my corpus to bult a mapping dic. \n",
    "symb = sorted(list(set(Corpus)))\n",
    "\n",
    "L_corpus = len(Corpus) #length of corpus\n",
    "L_symb = len(symb) #length of total unique characters\n",
    "\n",
    "#Building dictionary to access the vocabulary from indices and vice versa\n",
    "mapping = dict((c, i) for i, c in enumerate(symb))\n",
    "reverse_mapping = dict((i, c) for i, c in enumerate(symb))\n",
    "\n",
    "print(\"Total number of characters:\", L_corpus)\n",
    "print(\"Number of unique characters:\", L_symb)"
   ]
  },
  {
   "cell_type": "code",
   "execution_count": null,
   "metadata": {},
   "outputs": [
    {
     "name": "stdout",
     "output_type": "stream",
     "text": [
      "Total number of sequences in the Corpus: 244141\n"
     ]
    }
   ],
   "source": [
    "#Splitting the Corpus in equal length of strings and output target\n",
    "length = 40\n",
    "features = []\n",
    "targets = []\n",
    "for i in range(0, L_corpus - length, 1):\n",
    "    feature = Corpus[i:i + length]\n",
    "    target = Corpus[i + length]\n",
    "    features.append([mapping[j] for j in feature])\n",
    "    targets.append(mapping[target])\n",
    "    \n",
    "    \n",
    "L_datapoints = len(targets)\n",
    "print(\"Total number of sequences in the Corpus:\", L_datapoints)"
   ]
  },
  {
   "cell_type": "code",
   "execution_count": null,
   "metadata": {},
   "outputs": [],
   "source": [
    "f = open(\"text_electronic.txt\", \"a\")\n",
    "f.write(Corpus)\n",
    "f.close()"
   ]
  }
 ],
 "metadata": {
  "interpreter": {
   "hash": "2c43054f391929e55ec2dd53a69ee0bb0f7edf09332a90e4ae5e13ebf7dbd3da"
  },
  "kernelspec": {
   "display_name": "Python 3.6.13 ('bigdata_pj': venv)",
   "language": "python",
   "name": "python3"
  },
  "language_info": {
   "codemirror_mode": {
    "name": "ipython",
    "version": 3
   },
   "file_extension": ".py",
   "mimetype": "text/x-python",
   "name": "python",
   "nbconvert_exporter": "python",
   "pygments_lexer": "ipython3",
   "version": "3.6.13"
  },
  "orig_nbformat": 4
 },
 "nbformat": 4,
 "nbformat_minor": 2
}
