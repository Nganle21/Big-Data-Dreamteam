{
  "cells": [
    {
      "cell_type": "markdown",
      "metadata": {
        "colab_type": "text",
        "id": "view-in-github"
      },
      "source": [
        "<a href=\"https://colab.research.google.com/github/Nganle21/Big-Data-Dreamteam/blob/main/Ngan/PF_songfeatures.ipynb\" target=\"_parent\"><img src=\"https://colab.research.google.com/assets/colab-badge.svg\" alt=\"Open In Colab\"/></a>"
      ]
    },
    {
      "cell_type": "code",
      "execution_count": 1,
      "id": "1b51dc03-1c37-461d-a689-cae67f9ca124",
      "metadata": {
        "id": "1b51dc03-1c37-461d-a689-cae67f9ca124"
      },
      "outputs": [],
      "source": [
        "import spotipy\n",
        "import spotipy.util as util\n",
        "from spotipy.oauth2 import SpotifyClientCredentials\n",
        "\n",
        "cid = '6c8892a3331d4602830359f009d42765'\n",
        "secret = '2b147051b73d415c891fccec0d139b15'\n",
        "client_credentials_manager = SpotifyClientCredentials(client_id=cid, client_secret=secret)\n",
        "sp = spotipy.Spotify(client_credentials_manager = client_credentials_manager)\n",
        "\n",
        "\n",
        "import pandas as pd\n",
        "import numpy as np\n",
        "import matplotlib.pyplot as plt\n",
        "import seaborn as sns\n",
        "import json\n",
        "#from fbprophet import Prophet\n",
        "from sklearn.metrics import mean_squared_error\n",
        "from collections import Counter\n",
        "\n",
        "pd.set_option('display.max_columns', None)\n",
        "pd.set_option('display.max_rows', None)"
      ]
    },
    {
      "cell_type": "code",
      "execution_count": 4,
      "id": "a794b95d",
      "metadata": {
        "id": "a794b95d",
        "outputId": "83f08746-2243-4e35-a100-b55c804a61e4"
      },
      "outputs": [
        {
          "data": {
            "text/plain": [
              "[{'external_urls': {'spotify': 'https://open.spotify.com/artist/5YGY8feqx7naU7z4HrwZM6'},\n",
              "  'href': 'https://api.spotify.com/v1/artists/5YGY8feqx7naU7z4HrwZM6',\n",
              "  'id': '5YGY8feqx7naU7z4HrwZM6',\n",
              "  'name': 'Miley Cyrus',\n",
              "  'type': 'artist',\n",
              "  'uri': 'spotify:artist:5YGY8feqx7naU7z4HrwZM6'}]"
            ]
          },
          "execution_count": 4,
          "metadata": {},
          "output_type": "execute_result"
        }
      ],
      "source": [
        "name = [\"Miley Cirus\"]\n",
        "result = sp.search(name) \n",
        "result['tracks']['items'][1]['artists']"
      ]
    },
    {
      "cell_type": "code",
      "execution_count": 6,
      "id": "2fc05ff8",
      "metadata": {
        "id": "2fc05ff8",
        "outputId": "3d03a825-e232-4063-a510-6fb0cc5f52a3"
      },
      "outputs": [
        {
          "data": {
            "text/html": [
              "<div>\n",
              "<style scoped>\n",
              "    .dataframe tbody tr th:only-of-type {\n",
              "        vertical-align: middle;\n",
              "    }\n",
              "\n",
              "    .dataframe tbody tr th {\n",
              "        vertical-align: top;\n",
              "    }\n",
              "\n",
              "    .dataframe thead th {\n",
              "        text-align: right;\n",
              "    }\n",
              "</style>\n",
              "<table border=\"1\" class=\"dataframe\">\n",
              "  <thead>\n",
              "    <tr style=\"text-align: right;\">\n",
              "      <th></th>\n",
              "      <th>date</th>\n",
              "      <th>rank</th>\n",
              "      <th>song</th>\n",
              "      <th>artist</th>\n",
              "      <th>last-week</th>\n",
              "      <th>peak-rank</th>\n",
              "      <th>weeks-on-board</th>\n",
              "      <th>aSearch</th>\n",
              "      <th>searcher</th>\n",
              "    </tr>\n",
              "  </thead>\n",
              "  <tbody>\n",
              "    <tr>\n",
              "      <th>0</th>\n",
              "      <td>2021-11-06</td>\n",
              "      <td>1</td>\n",
              "      <td>Easy On Me</td>\n",
              "      <td>Adele</td>\n",
              "      <td>1.0</td>\n",
              "      <td>1</td>\n",
              "      <td>3</td>\n",
              "      <td>Adele</td>\n",
              "      <td>Easy On Me Adele</td>\n",
              "    </tr>\n",
              "    <tr>\n",
              "      <th>1</th>\n",
              "      <td>2021-11-06</td>\n",
              "      <td>2</td>\n",
              "      <td>Stay</td>\n",
              "      <td>The Kid LAROI &amp; Justin Bieber</td>\n",
              "      <td>2.0</td>\n",
              "      <td>1</td>\n",
              "      <td>16</td>\n",
              "      <td>The Kid</td>\n",
              "      <td>Stay The Kid</td>\n",
              "    </tr>\n",
              "    <tr>\n",
              "      <th>2</th>\n",
              "      <td>2021-11-06</td>\n",
              "      <td>3</td>\n",
              "      <td>Industry Baby</td>\n",
              "      <td>Lil Nas X &amp; Jack Harlow</td>\n",
              "      <td>3.0</td>\n",
              "      <td>1</td>\n",
              "      <td>14</td>\n",
              "      <td>Lil Nas</td>\n",
              "      <td>Industry Baby Lil Nas</td>\n",
              "    </tr>\n",
              "    <tr>\n",
              "      <th>3</th>\n",
              "      <td>2021-11-06</td>\n",
              "      <td>4</td>\n",
              "      <td>Fancy Like</td>\n",
              "      <td>Walker Hayes</td>\n",
              "      <td>4.0</td>\n",
              "      <td>3</td>\n",
              "      <td>19</td>\n",
              "      <td>Walker Hayes</td>\n",
              "      <td>Fancy Like Walker Hayes</td>\n",
              "    </tr>\n",
              "    <tr>\n",
              "      <th>4</th>\n",
              "      <td>2021-11-06</td>\n",
              "      <td>5</td>\n",
              "      <td>Bad Habits</td>\n",
              "      <td>Ed Sheeran</td>\n",
              "      <td>5.0</td>\n",
              "      <td>2</td>\n",
              "      <td>18</td>\n",
              "      <td>Ed Sheeran</td>\n",
              "      <td>Bad Habits Ed Sheeran</td>\n",
              "    </tr>\n",
              "  </tbody>\n",
              "</table>\n",
              "</div>"
            ],
            "text/plain": [
              "         date  rank           song                         artist  last-week  \\\n",
              "0  2021-11-06     1     Easy On Me                          Adele        1.0   \n",
              "1  2021-11-06     2           Stay  The Kid LAROI & Justin Bieber        2.0   \n",
              "2  2021-11-06     3  Industry Baby        Lil Nas X & Jack Harlow        3.0   \n",
              "3  2021-11-06     4     Fancy Like                   Walker Hayes        4.0   \n",
              "4  2021-11-06     5     Bad Habits                     Ed Sheeran        5.0   \n",
              "\n",
              "   peak-rank  weeks-on-board       aSearch                 searcher  \n",
              "0          1               3         Adele         Easy On Me Adele  \n",
              "1          1              16       The Kid             Stay The Kid  \n",
              "2          1              14       Lil Nas    Industry Baby Lil Nas  \n",
              "3          3              19  Walker Hayes  Fancy Like Walker Hayes  \n",
              "4          2              18    Ed Sheeran    Bad Habits Ed Sheeran  "
            ]
          },
          "execution_count": 6,
          "metadata": {},
          "output_type": "execute_result"
        }
      ],
      "source": [
        "billboard['aSearch'] = billboard['artist'].apply(lambda x : \" \".join(x.split(\" \")[:2]))\n",
        "billboard['searcher'] = billboard['song'] + \" \" + billboard['aSearch']\n",
        "billboard.head()"
      ]
    },
    {
      "cell_type": "code",
      "execution_count": 7,
      "id": "6fc6f102",
      "metadata": {
        "id": "6fc6f102",
        "outputId": "31efa2ec-f33c-4ff8-db18-0db524f6be6b"
      },
      "outputs": [
        {
          "data": {
            "text/plain": [
              "(26,)"
            ]
          },
          "execution_count": 7,
          "metadata": {},
          "output_type": "execute_result"
        }
      ],
      "source": [
        "billboard = billboard[billboard[\"artist\"]==\"Ed Sheeran\"]\n",
        "billboard = billboard[\"searcher\"].unique()\n",
        "billboard.shape\n"
      ]
    },
    {
      "cell_type": "code",
      "execution_count": 8,
      "id": "4f319fae",
      "metadata": {
        "id": "4f319fae"
      },
      "outputs": [],
      "source": [
        "billboard = pd.DataFrame(data = billboard, columns = [\"searcher\"])"
      ]
    },
    {
      "cell_type": "code",
      "execution_count": null,
      "id": "349317ab",
      "metadata": {
        "id": "349317ab",
        "outputId": "2481ffae-2ef7-4cff-b380-d819d2e6eaf8"
      },
      "outputs": [],
      "source": [
        "def getTrackURI(searcher):\n",
        "    result = sp.search(searcher)\n",
        "    try:\n",
        "        obj1 = result['tracks']['items'][0]['uri']\n",
        "        \n",
        "    except:\n",
        "        obj1 = None\n",
        "    return obj1\n",
        "\n",
        "def getArtists(searcher):\n",
        "    result = sp.search(searcher)\n",
        "    try:\n",
        "        obj2 = result['tracks']['items'][0]['artists']\n",
        "        names = []\n",
        "        for name in obj2:\n",
        "            names.append(name['name'])\n",
        "        obj2 = \",\".join(names)      \n",
        "    except:\n",
        "        obj2 = \"\"\n",
        "    return obj2\n",
        "\n",
        "\n",
        "\n",
        "billboard['uri'] = billboard['searcher'].apply(getTrackURI)\n",
        "billboard['artists'] = billboard['searcher'].apply(getArtists)\n",
        "\n",
        "billboard = billboard.dropna()\n",
        "billboard.head()"
      ]
    },
    {
      "cell_type": "code",
      "execution_count": 10,
      "id": "93cf2b1f",
      "metadata": {
        "id": "93cf2b1f"
      },
      "outputs": [],
      "source": [
        "audio_features = []\n",
        "for uri in billboard['uri'].values:\n",
        "    audio_features.append(sp.audio_features(uri)[0])"
      ]
    },
    {
      "cell_type": "code",
      "execution_count": 11,
      "id": "79d54d66",
      "metadata": {
        "id": "79d54d66",
        "outputId": "2fbfa0c3-45f9-46e8-e279-34fe15304725"
      },
      "outputs": [
        {
          "data": {
            "text/html": [
              "<div>\n",
              "<style scoped>\n",
              "    .dataframe tbody tr th:only-of-type {\n",
              "        vertical-align: middle;\n",
              "    }\n",
              "\n",
              "    .dataframe tbody tr th {\n",
              "        vertical-align: top;\n",
              "    }\n",
              "\n",
              "    .dataframe thead th {\n",
              "        text-align: right;\n",
              "    }\n",
              "</style>\n",
              "<table border=\"1\" class=\"dataframe\">\n",
              "  <thead>\n",
              "    <tr style=\"text-align: right;\">\n",
              "      <th></th>\n",
              "      <th>danceability</th>\n",
              "      <th>energy</th>\n",
              "      <th>key</th>\n",
              "      <th>loudness</th>\n",
              "      <th>mode</th>\n",
              "      <th>speechiness</th>\n",
              "      <th>acousticness</th>\n",
              "      <th>liveness</th>\n",
              "      <th>valence</th>\n",
              "      <th>tempo</th>\n",
              "      <th>duration_ms</th>\n",
              "      <th>time_signature</th>\n",
              "      <th>duration</th>\n",
              "    </tr>\n",
              "  </thead>\n",
              "  <tbody>\n",
              "    <tr>\n",
              "      <th>0</th>\n",
              "      <td>0.807</td>\n",
              "      <td>0.893</td>\n",
              "      <td>11</td>\n",
              "      <td>-3.745</td>\n",
              "      <td>0</td>\n",
              "      <td>0.0347</td>\n",
              "      <td>0.0451</td>\n",
              "      <td>0.3660</td>\n",
              "      <td>0.537</td>\n",
              "      <td>126.011</td>\n",
              "      <td>230747</td>\n",
              "      <td>4</td>\n",
              "      <td>3.845783</td>\n",
              "    </tr>\n",
              "    <tr>\n",
              "      <th>1</th>\n",
              "      <td>0.788</td>\n",
              "      <td>0.859</td>\n",
              "      <td>2</td>\n",
              "      <td>-2.724</td>\n",
              "      <td>1</td>\n",
              "      <td>0.0856</td>\n",
              "      <td>0.2810</td>\n",
              "      <td>0.0424</td>\n",
              "      <td>0.822</td>\n",
              "      <td>141.020</td>\n",
              "      <td>207853</td>\n",
              "      <td>4</td>\n",
              "      <td>3.464217</td>\n",
              "    </tr>\n",
              "    <tr>\n",
              "      <th>2</th>\n",
              "      <td>0.471</td>\n",
              "      <td>0.396</td>\n",
              "      <td>8</td>\n",
              "      <td>-6.654</td>\n",
              "      <td>1</td>\n",
              "      <td>0.0336</td>\n",
              "      <td>0.7700</td>\n",
              "      <td>0.0729</td>\n",
              "      <td>0.263</td>\n",
              "      <td>149.609</td>\n",
              "      <td>215507</td>\n",
              "      <td>4</td>\n",
              "      <td>3.591783</td>\n",
              "    </tr>\n",
              "    <tr>\n",
              "      <th>3</th>\n",
              "      <td>0.641</td>\n",
              "      <td>0.324</td>\n",
              "      <td>11</td>\n",
              "      <td>-5.851</td>\n",
              "      <td>1</td>\n",
              "      <td>0.0299</td>\n",
              "      <td>0.6980</td>\n",
              "      <td>0.3280</td>\n",
              "      <td>0.273</td>\n",
              "      <td>110.184</td>\n",
              "      <td>185487</td>\n",
              "      <td>4</td>\n",
              "      <td>3.091450</td>\n",
              "    </tr>\n",
              "    <tr>\n",
              "      <th>4</th>\n",
              "      <td>0.598</td>\n",
              "      <td>0.448</td>\n",
              "      <td>8</td>\n",
              "      <td>-6.312</td>\n",
              "      <td>1</td>\n",
              "      <td>0.0232</td>\n",
              "      <td>0.1620</td>\n",
              "      <td>0.1060</td>\n",
              "      <td>0.168</td>\n",
              "      <td>95.009</td>\n",
              "      <td>263400</td>\n",
              "      <td>3</td>\n",
              "      <td>4.390000</td>\n",
              "    </tr>\n",
              "  </tbody>\n",
              "</table>\n",
              "</div>"
            ],
            "text/plain": [
              "   danceability  energy  key  loudness  mode  speechiness  acousticness  \\\n",
              "0         0.807   0.893   11    -3.745     0       0.0347        0.0451   \n",
              "1         0.788   0.859    2    -2.724     1       0.0856        0.2810   \n",
              "2         0.471   0.396    8    -6.654     1       0.0336        0.7700   \n",
              "3         0.641   0.324   11    -5.851     1       0.0299        0.6980   \n",
              "4         0.598   0.448    8    -6.312     1       0.0232        0.1620   \n",
              "\n",
              "   liveness  valence    tempo  duration_ms  time_signature  duration  \n",
              "0    0.3660    0.537  126.011       230747               4  3.845783  \n",
              "1    0.0424    0.822  141.020       207853               4  3.464217  \n",
              "2    0.0729    0.263  149.609       215507               4  3.591783  \n",
              "3    0.3280    0.273  110.184       185487               4  3.091450  \n",
              "4    0.1060    0.168   95.009       263400               3  4.390000  "
            ]
          },
          "execution_count": 11,
          "metadata": {},
          "output_type": "execute_result"
        }
      ],
      "source": [
        "audio_features = pd.DataFrame(audio_features)[['danceability', 'energy', 'key', 'loudness', 'mode', 'speechiness',\n",
        "                             'acousticness', 'liveness', 'valence', 'tempo', 'duration_ms', 'time_signature']]\n",
        "audio_features['duration'] = audio_features['duration_ms']/60000\n",
        "audio_features.head()"
      ]
    },
    {
      "cell_type": "code",
      "execution_count": 12,
      "id": "354a3b41",
      "metadata": {
        "id": "354a3b41"
      },
      "outputs": [],
      "source": [
        "billDf = pd.concat([billboard, audio_features], axis=1)"
      ]
    },
    {
      "cell_type": "code",
      "execution_count": null,
      "id": "03e26f8e",
      "metadata": {
        "id": "03e26f8e"
      },
      "outputs": [],
      "source": [
        "newOrderURI = \"spotify:artist:1uNFoZAHBGtllmzznpCI3s\"\n",
        "results = sp.artist_albums(newOrderURI, album_type='album')\n",
        "albums = results['items']\n",
        "while results['next']:\n",
        "    results = sp.next(results)\n",
        "    albums.extend(results['items'])\n",
        "albums_list = []\n",
        "\n",
        "#find album id and put all together in one list\n",
        "for album in albums:\n",
        "    id = album['id']\n",
        "    albums_list.append(id)\n",
        "albums_list\n"
      ]
    },
    {
      "cell_type": "code",
      "execution_count": 116,
      "id": "f0b8554d",
      "metadata": {
        "id": "f0b8554d"
      },
      "outputs": [],
      "source": [
        "#find all avalble tracks via list of album\n",
        "tracks_list = []\n",
        "for i, album in enumerate(albums_list):\n",
        "        track = sp.album_tracks(album)\n",
        "        tracks_list.append(track)\n",
        "        \n"
      ]
    },
    {
      "cell_type": "code",
      "execution_count": null,
      "id": "14d0e852",
      "metadata": {
        "id": "14d0e852",
        "outputId": "d150409d-a548-4b91-e948-f881b3317281"
      },
      "outputs": [],
      "source": [
        "tracks_uri = []\n",
        "tracks_name = []\n",
        "#for a in range(len(albums_list))\n",
        "for list in tracks_list:\n",
        "    for i in range(len(list)):\n",
        "        track_uri = a['items'][i]['uri']\n",
        "        track_name = a['items'][i]['name']\n",
        "        tracks_uri.append(track_uri) \n",
        "        tracks_name.append(track_name) \n",
        "    \n",
        "print(tracks_name)   \n",
        "\n",
        "\n",
        "\n",
        "num_values = len(Counter(tracks_uri).keys())\n",
        "print(num_values)"
      ]
    },
    {
      "cell_type": "code",
      "execution_count": null,
      "id": "aa11885d",
      "metadata": {
        "id": "aa11885d"
      },
      "outputs": [],
      "source": [
        "tracks_uri = pd.DataFrame(data = tracks_uri, columns = ['uri'])\n"
      ]
    },
    {
      "cell_type": "code",
      "execution_count": null,
      "id": "59c65825",
      "metadata": {
        "id": "59c65825",
        "outputId": "fc21c72e-05a9-4612-fa9f-a66b73165432"
      },
      "outputs": [
        {
          "data": {
            "text/html": [
              "<div>\n",
              "<style scoped>\n",
              "    .dataframe tbody tr th:only-of-type {\n",
              "        vertical-align: middle;\n",
              "    }\n",
              "\n",
              "    .dataframe tbody tr th {\n",
              "        vertical-align: top;\n",
              "    }\n",
              "\n",
              "    .dataframe thead th {\n",
              "        text-align: right;\n",
              "    }\n",
              "</style>\n",
              "<table border=\"1\" class=\"dataframe\">\n",
              "  <thead>\n",
              "    <tr style=\"text-align: right;\">\n",
              "      <th></th>\n",
              "      <th>uri</th>\n",
              "      <th>danceability</th>\n",
              "      <th>energy</th>\n",
              "      <th>key</th>\n",
              "      <th>loudness</th>\n",
              "      <th>mode</th>\n",
              "      <th>speechiness</th>\n",
              "      <th>acousticness</th>\n",
              "      <th>liveness</th>\n",
              "      <th>valence</th>\n",
              "      <th>tempo</th>\n",
              "      <th>duration_ms</th>\n",
              "      <th>time_signature</th>\n",
              "      <th>duration</th>\n",
              "    </tr>\n",
              "  </thead>\n",
              "  <tbody>\n",
              "    <tr>\n",
              "      <th>0</th>\n",
              "      <td>spotify:track:6i4G85fdtDwK6UpQba337E</td>\n",
              "      <td>0.583</td>\n",
              "      <td>0.444</td>\n",
              "      <td>9</td>\n",
              "      <td>-8.601</td>\n",
              "      <td>1</td>\n",
              "      <td>0.0456</td>\n",
              "      <td>0.5930</td>\n",
              "      <td>0.3530</td>\n",
              "      <td>0.167</td>\n",
              "      <td>119.590</td>\n",
              "      <td>152796</td>\n",
              "      <td>4</td>\n",
              "      <td>2.546600</td>\n",
              "    </tr>\n",
              "    <tr>\n",
              "      <th>1</th>\n",
              "      <td>spotify:track:2t96tGXVqmNT9KbbIXyEP1</td>\n",
              "      <td>0.677</td>\n",
              "      <td>0.633</td>\n",
              "      <td>7</td>\n",
              "      <td>-7.831</td>\n",
              "      <td>1</td>\n",
              "      <td>0.0771</td>\n",
              "      <td>0.0314</td>\n",
              "      <td>0.1120</td>\n",
              "      <td>0.409</td>\n",
              "      <td>89.934</td>\n",
              "      <td>187239</td>\n",
              "      <td>4</td>\n",
              "      <td>3.120650</td>\n",
              "    </tr>\n",
              "    <tr>\n",
              "      <th>2</th>\n",
              "      <td>spotify:track:5RE1BlC2bVRL02T0wcLq2X</td>\n",
              "      <td>0.595</td>\n",
              "      <td>0.543</td>\n",
              "      <td>11</td>\n",
              "      <td>-8.149</td>\n",
              "      <td>1</td>\n",
              "      <td>0.0380</td>\n",
              "      <td>0.1270</td>\n",
              "      <td>0.0975</td>\n",
              "      <td>0.109</td>\n",
              "      <td>99.928</td>\n",
              "      <td>174406</td>\n",
              "      <td>4</td>\n",
              "      <td>2.906767</td>\n",
              "    </tr>\n",
              "    <tr>\n",
              "      <th>3</th>\n",
              "      <td>spotify:track:3Ic8V1CEjOY53OVpo2k1Ap</td>\n",
              "      <td>0.509</td>\n",
              "      <td>0.228</td>\n",
              "      <td>4</td>\n",
              "      <td>-8.680</td>\n",
              "      <td>1</td>\n",
              "      <td>0.0332</td>\n",
              "      <td>0.9200</td>\n",
              "      <td>0.1040</td>\n",
              "      <td>0.586</td>\n",
              "      <td>90.674</td>\n",
              "      <td>156468</td>\n",
              "      <td>4</td>\n",
              "      <td>2.607800</td>\n",
              "    </tr>\n",
              "    <tr>\n",
              "      <th>4</th>\n",
              "      <td>spotify:track:2HFHwTr1IBWheGoQtNNKtx</td>\n",
              "      <td>0.670</td>\n",
              "      <td>0.693</td>\n",
              "      <td>6</td>\n",
              "      <td>-8.340</td>\n",
              "      <td>1</td>\n",
              "      <td>0.3500</td>\n",
              "      <td>0.2000</td>\n",
              "      <td>0.0909</td>\n",
              "      <td>0.388</td>\n",
              "      <td>87.017</td>\n",
              "      <td>212093</td>\n",
              "      <td>4</td>\n",
              "      <td>3.534883</td>\n",
              "    </tr>\n",
              "  </tbody>\n",
              "</table>\n",
              "</div>"
            ],
            "text/plain": [
              "                                    uri  danceability  energy  key  loudness  \\\n",
              "0  spotify:track:6i4G85fdtDwK6UpQba337E         0.583   0.444    9    -8.601   \n",
              "1  spotify:track:2t96tGXVqmNT9KbbIXyEP1         0.677   0.633    7    -7.831   \n",
              "2  spotify:track:5RE1BlC2bVRL02T0wcLq2X         0.595   0.543   11    -8.149   \n",
              "3  spotify:track:3Ic8V1CEjOY53OVpo2k1Ap         0.509   0.228    4    -8.680   \n",
              "4  spotify:track:2HFHwTr1IBWheGoQtNNKtx         0.670   0.693    6    -8.340   \n",
              "\n",
              "   mode  speechiness  acousticness  liveness  valence    tempo  duration_ms  \\\n",
              "0     1       0.0456        0.5930    0.3530    0.167  119.590       152796   \n",
              "1     1       0.0771        0.0314    0.1120    0.409   89.934       187239   \n",
              "2     1       0.0380        0.1270    0.0975    0.109   99.928       174406   \n",
              "3     1       0.0332        0.9200    0.1040    0.586   90.674       156468   \n",
              "4     1       0.3500        0.2000    0.0909    0.388   87.017       212093   \n",
              "\n",
              "   time_signature  duration  \n",
              "0               4  2.546600  \n",
              "1               4  3.120650  \n",
              "2               4  2.906767  \n",
              "3               4  2.607800  \n",
              "4               4  3.534883  "
            ]
          },
          "execution_count": 33,
          "metadata": {},
          "output_type": "execute_result"
        }
      ],
      "source": [
        "audio_features = []\n",
        "for uri in tracks_uri.values:\n",
        "    audio_features.append(sp.audio_features(uri)[0])\n",
        "audio_features = pd.DataFrame(audio_features)[['danceability', 'energy', 'key', 'loudness', 'mode', 'speechiness',\n",
        "                             'acousticness', 'liveness', 'valence', 'tempo', 'duration_ms', 'time_signature']]\n",
        "audio_features['duration'] = audio_features['duration_ms']/60000\n",
        "audio_features = pd.concat([tracks_uri,audio_features],axis=1)\n",
        "audio_features.head()"
      ]
    },
    {
      "cell_type": "code",
      "execution_count": 15,
      "id": "c391232b",
      "metadata": {
        "id": "c391232b",
        "outputId": "86939086-fa10-466b-bdfd-21c58b8a8608"
      },
      "outputs": [
        {
          "data": {
            "text/plain": [
              "'1uNFoZAHBGtllmzznpCI3s'"
            ]
          },
          "execution_count": 15,
          "metadata": {},
          "output_type": "execute_result"
        }
      ],
      "source": [
        "name = 'Justin Bieber'\n",
        "a = sp.search(q='artist:' + name, type='artist')\n",
        "a['artists']['items'][0]['id']"
      ]
    },
    {
      "cell_type": "code",
      "execution_count": 16,
      "id": "4903067d",
      "metadata": {},
      "outputs": [],
      "source": [
        "artist_name= 'Justin Bieber'\n",
        "artistID = (sp.search(q='artist:' + name, type='artist'))['artists']['items'][0]['id']"
      ]
    }
  ],
  "metadata": {
    "colab": {
      "include_colab_link": true,
      "name": "PF_songfeatures.ipynb",
      "provenance": []
    },
    "kernelspec": {
      "display_name": "Python 3 (ipykernel)",
      "language": "python",
      "name": "python3"
    },
    "language_info": {
      "codemirror_mode": {
        "name": "ipython",
        "version": 3
      },
      "file_extension": ".py",
      "mimetype": "text/x-python",
      "name": "python",
      "nbconvert_exporter": "python",
      "pygments_lexer": "ipython3",
      "version": "3.7.9"
    }
  },
  "nbformat": 4,
  "nbformat_minor": 5
}
