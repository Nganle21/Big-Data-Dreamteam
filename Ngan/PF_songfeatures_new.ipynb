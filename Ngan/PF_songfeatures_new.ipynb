{
  "cells": [
    {
      "cell_type": "markdown",
      "metadata": {
        "id": "view-in-github",
        "colab_type": "text"
      },
      "source": [
        "<a href=\"https://colab.research.google.com/github/Nganle21/Big-Data-Dreamteam/blob/main/Ngan/PF_songfeatures_new.ipynb\" target=\"_parent\"><img src=\"https://colab.research.google.com/assets/colab-badge.svg\" alt=\"Open In Colab\"/></a>"
      ]
    },
    {
      "cell_type": "code",
      "execution_count": 5,
      "id": "1b51dc03-1c37-461d-a689-cae67f9ca124",
      "metadata": {
        "id": "1b51dc03-1c37-461d-a689-cae67f9ca124"
      },
      "outputs": [],
      "source": [
        "import spotipy\n",
        "import spotipy.util as util\n",
        "from spotipy.oauth2 import SpotifyClientCredentials\n",
        "import re\n",
        "\n",
        "cid = '6c8892a3331d4602830359f009d42765'\n",
        "secret = '2b147051b73d415c891fccec0d139b15'\n",
        "client_credentials_manager = SpotifyClientCredentials(client_id=cid, client_secret=secret)\n",
        "sp = spotipy.Spotify(client_credentials_manager = client_credentials_manager)\n",
        "\n",
        "\n",
        "import pandas as pd\n",
        "import numpy as np\n",
        "import matplotlib.pyplot as plt\n",
        "import seaborn as sns\n",
        "import json\n",
        "#from fbprophet import Prophet\n",
        "from sklearn.metrics import mean_squared_error\n",
        "from collections import Counter\n",
        "\n",
        "pd.set_option('display.max_columns', None)\n",
        "pd.set_option('display.max_rows', None)"
      ]
    },
    {
      "cell_type": "code",
      "source": [
        "pip install spotipy"
      ],
      "metadata": {
        "colab": {
          "base_uri": "https://localhost:8080/"
        },
        "id": "J_sNdfdApqoG",
        "outputId": "a59b9e00-c27c-4204-d863-960c980ae342"
      },
      "id": "J_sNdfdApqoG",
      "execution_count": 4,
      "outputs": [
        {
          "output_type": "stream",
          "name": "stdout",
          "text": [
            "Collecting spotipy\n",
            "  Downloading spotipy-2.19.0-py3-none-any.whl (27 kB)\n",
            "Collecting requests>=2.25.0\n",
            "  Downloading requests-2.27.1-py2.py3-none-any.whl (63 kB)\n",
            "\u001b[K     |████████████████████████████████| 63 kB 1.9 MB/s \n",
            "\u001b[?25hRequirement already satisfied: six>=1.15.0 in /usr/local/lib/python3.7/dist-packages (from spotipy) (1.15.0)\n",
            "Collecting urllib3>=1.26.0\n",
            "  Downloading urllib3-1.26.9-py2.py3-none-any.whl (138 kB)\n",
            "\u001b[K     |████████████████████████████████| 138 kB 14.9 MB/s \n",
            "\u001b[?25hRequirement already satisfied: charset-normalizer~=2.0.0 in /usr/local/lib/python3.7/dist-packages (from requests>=2.25.0->spotipy) (2.0.12)\n",
            "Requirement already satisfied: idna<4,>=2.5 in /usr/local/lib/python3.7/dist-packages (from requests>=2.25.0->spotipy) (2.10)\n",
            "Requirement already satisfied: certifi>=2017.4.17 in /usr/local/lib/python3.7/dist-packages (from requests>=2.25.0->spotipy) (2021.10.8)\n",
            "Installing collected packages: urllib3, requests, spotipy\n",
            "  Attempting uninstall: urllib3\n",
            "    Found existing installation: urllib3 1.24.3\n",
            "    Uninstalling urllib3-1.24.3:\n",
            "      Successfully uninstalled urllib3-1.24.3\n",
            "  Attempting uninstall: requests\n",
            "    Found existing installation: requests 2.23.0\n",
            "    Uninstalling requests-2.23.0:\n",
            "      Successfully uninstalled requests-2.23.0\n",
            "\u001b[31mERROR: pip's dependency resolver does not currently take into account all the packages that are installed. This behaviour is the source of the following dependency conflicts.\n",
            "google-colab 1.0.0 requires requests~=2.23.0, but you have requests 2.27.1 which is incompatible.\n",
            "datascience 0.10.6 requires folium==0.2.1, but you have folium 0.8.3 which is incompatible.\u001b[0m\n",
            "Successfully installed requests-2.27.1 spotipy-2.19.0 urllib3-1.26.9\n"
          ]
        }
      ]
    },
    {
      "cell_type": "code",
      "source": [
        "artistDf = pd.read_csv('/content/drive/MyDrive/Colab Notebooks/artistDf.csv')"
      ],
      "metadata": {
        "id": "WCAAWeRPBb1T"
      },
      "id": "WCAAWeRPBb1T",
      "execution_count": 7,
      "outputs": []
    },
    {
      "cell_type": "code",
      "source": [
        "artistDf = artistDf.head(100)"
      ],
      "metadata": {
        "id": "bBnpwbtpD-e0"
      },
      "id": "bBnpwbtpD-e0",
      "execution_count": 8,
      "outputs": []
    },
    {
      "cell_type": "code",
      "execution_count": 9,
      "id": "90979b07",
      "metadata": {
        "id": "90979b07"
      },
      "outputs": [],
      "source": [
        "#Artist details\n",
        "artist_name= 'Tyga'\n",
        "artistID = (sp.search(q='artist:' + artist_name, type='artist'))['artists']['items'][0]['id']\n",
        "artistName = (sp.search(q='artist:' + artist_name, type='artist'))['artists']['items'][0]['name']\n",
        "artistGenre  = (sp.search(q='artist:' + artist_name, type='artist'))['artists']['items'][0]['genres']\n",
        "\n",
        "#search for album\n",
        "albumResults = sp.artist_albums(artistID, limit=50)\n",
        "albumResults = albumResults['items']\n",
        "z=0\n",
        "tracks_info = []\n",
        "\n",
        "#Create DF to store data\n",
        "df_artists = pd.DataFrame()\n",
        "df_albums = pd.DataFrame()\n",
        "\n",
        "# Create a empty set \n",
        "artists_searched = set()\n",
        "artists_searched.add(artist_name)\n",
        "        \n",
        "## Extract artist data and fill database\n",
        "df_artists = df_artists.append({'artist_id': artistID,\n",
        "                                    'artist_name':artistName,\n",
        "                                    'genres':artistGenre},\n",
        "                                    ignore_index=True\n",
        "                                       )\n",
        "\n",
        "# Loop over album\n",
        "for album in albumResults:\n",
        "            \n",
        "    ## Extract album data and fill database\n",
        "    albumID = album['id']\n",
        "    album_name =  album['name']\n",
        "    df_albums = df_albums.append({'artist_name':album['artists'][0]['name'],\n",
        "                                          'artist_id':album['artists'][0]['id'],\n",
        "                                          'album_id': album['id'],\n",
        "                                          'album_name':album['name'],\n",
        "                                          'release_date':album['release_date'],\n",
        "                                          'total_tracks':album['total_tracks'],\n",
        "                                          'type':album['album_group']},\n",
        "                                          ignore_index=True\n",
        "                                         )     \n",
        "df_albums= df_albums.astype({'total_tracks':int}) \n",
        "df_albums= df_albums.drop_duplicates(subset=['album_name'])\n",
        "\n",
        "#Deleting duplicated albums\n",
        "k=0\n",
        "Not_good_words=['Remix','Edition','Accoustic','Version','Deluxe','Acoustic']\n",
        "TODEL=[]\n",
        "for alb in df_albums.album_name.drop_duplicates().tolist():\n",
        "    alb_sp=re.split('(\\W+)',alb)\n",
        "    if len(alb_sp)!=0:\n",
        "        for s in alb_sp:\n",
        "            if s in Not_good_words:\n",
        "                TODEL.append(k)\n",
        "    k=k+1\n",
        "alb=np.array(df_albums.album_name.drop_duplicates().tolist())\n",
        "#Taking the most significative ones\n",
        "\n",
        "ALB=[]\n",
        "for a in range(len(alb)):\n",
        "    if a not in TODEL:\n",
        "        ALB.append(alb[a])\n",
        "LIST_ALB_TITLE=[]\n",
        "for a in ALB:\n",
        "    alb_sp=a.split()\n",
        "    LIST_ALB_TITLE.append(sp)\n",
        "\n",
        "df_albums=df_albums[(df_albums.album_name.isin(ALB))]\n",
        "    \n"
      ]
    },
    {
      "cell_type": "code",
      "source": [
        "\n",
        "#Create DF to store data\n",
        "df_artists = pd.DataFrame()\n",
        "df_albums = pd.DataFrame()\n",
        "\n",
        "for artist_name in artistDf.Artist:\n",
        "  #Artist details\n",
        "  #artist_name= 'Tyga'\n",
        "  artistID = (sp.search(q='artist:' + artist_name, type='artist'))['artists']['items'][0]['id']\n",
        "  artistName = (sp.search(q='artist:' + artist_name, type='artist'))['artists']['items'][0]['name']\n",
        "  artistGenre  = (sp.search(q='artist:' + artist_name, type='artist'))['artists']['items'][0]['genres']\n",
        "\n",
        "  #search for album\n",
        "  albumResults = sp.artist_albums(artistID, limit=50)\n",
        "  albumResults = albumResults['items']\n",
        "  z=0\n",
        "  tracks_info = []\n",
        "\n",
        "  # Create a empty set \n",
        "  artists_searched = set()\n",
        "  artists_searched.add(artist_name)\n",
        "          \n",
        "  ## Extract artist data and fill database\n",
        "  df_artists = df_artists.append({'artist_id': artistID,\n",
        "                                      'artist_name':artistName,\n",
        "                                      'genres':artistGenre},\n",
        "                                      ignore_index=True\n",
        "                                        )\n",
        "\n",
        "  # Loop over album\n",
        "  for album in albumResults:\n",
        "              \n",
        "      ## Extract album data and fill database\n",
        "      albumID = album['id']\n",
        "      album_name =  album['name']\n",
        "      df_albums = df_albums.append({'artist_name':album['artists'][0]['name'],\n",
        "                                            'artist_id':album['artists'][0]['id'],\n",
        "                                            'album_id': album['id'],\n",
        "                                            'album_name':album['name'],\n",
        "                                            'release_date':album['release_date'],\n",
        "                                            'total_tracks':album['total_tracks'],\n",
        "                                            'type':album['album_group']},\n",
        "                                            ignore_index=True\n",
        "                                          )     \n",
        "  df_albums= df_albums.astype({'total_tracks':int}) \n",
        "  df_albums= df_albums.drop_duplicates(subset=['album_name'])\n",
        "\n",
        "  #Deleting duplicated albums\n",
        "  k=0\n",
        "  Not_good_words=['Remix','Edition','Accoustic','Version','Deluxe','Acoustic']\n",
        "  TODEL=[]\n",
        "  for alb in df_albums.album_name.drop_duplicates().tolist():\n",
        "      alb_sp=re.split('(\\W+)',alb)\n",
        "      if len(alb_sp)!=0:\n",
        "          for s in alb_sp:\n",
        "              if s in Not_good_words:\n",
        "                  TODEL.append(k)\n",
        "      k=k+1\n",
        "  alb=np.array(df_albums.album_name.drop_duplicates().tolist())\n",
        "  #Taking the most significative ones\n",
        "\n",
        "  ALB=[]\n",
        "  for a in range(len(alb)):\n",
        "      if a not in TODEL:\n",
        "          ALB.append(alb[a])\n",
        "  LIST_ALB_TITLE=[]\n",
        "  for a in ALB:\n",
        "      alb_sp=a.split()\n",
        "      LIST_ALB_TITLE.append(sp)\n",
        "\n",
        "  df_albums=df_albums[(df_albums.album_name.isin(ALB))]\n",
        "      \n"
      ],
      "metadata": {
        "id": "_wLOl4M7rvCd"
      },
      "id": "_wLOl4M7rvCd",
      "execution_count": 10,
      "outputs": []
    },
    {
      "cell_type": "code",
      "source": [
        "#df_albums.to_csv('/content/drive/MyDrive/Colab Notebooks/albums.csv')"
      ],
      "metadata": {
        "id": "T8Tz1_K_CW_m"
      },
      "id": "T8Tz1_K_CW_m",
      "execution_count": 11,
      "outputs": []
    },
    {
      "cell_type": "code",
      "source": [
        "df_albums.shape"
      ],
      "metadata": {
        "colab": {
          "base_uri": "https://localhost:8080/"
        },
        "id": "0-faGyZxxtYM",
        "outputId": "6f342fb3-6031-41f5-a406-2f1b9b672040"
      },
      "id": "0-faGyZxxtYM",
      "execution_count": 12,
      "outputs": [
        {
          "data": {
            "text/plain": [
              "(3110, 7)"
            ]
          },
          "execution_count": null,
          "metadata": {},
          "output_type": "execute_result"
        }
      ]
    },
    {
      "cell_type": "code",
      "execution_count": 30,
      "id": "0e7a0f90",
      "metadata": {
        "id": "0e7a0f90"
      },
      "outputs": [],
      "source": [
        "for id in df_albums['album_id']:\n",
        "    # TRACK DETAILS\n",
        "    trackResults = sp.album_tracks(id)\n",
        "    trackResults = trackResults['items']  \n",
        "    ## Loop over tracks\n",
        "    for track in trackResults:\n",
        "                \n",
        "        artists_names =[]\n",
        "        artists_ids = []\n",
        "        artists_genres = []\n",
        "        \n",
        "        for artist in track['artists']:\n",
        "            artists_names.append(artist['name'])\n",
        "            artists_ids.append(artist['id'])\n",
        "            artists_genres.append(artistGenre)\n",
        "\n",
        "            ## Extract track data and fill database\n",
        "        #if (artistID in artists_ids or artist_name in artists_names):\n",
        "            #z+=1\n",
        "            track_info = [id,artists_ids[0],  \n",
        "                            artists_names[0], \n",
        "                            track['uri'],\n",
        "                            track['name'],\n",
        "                            artists_genres[0]]\n",
        "            tracks_info.append(track_info)\n",
        "#create df_tracks df and drop duplicates\n",
        "df_tracks = pd.DataFrame(data = tracks_info,columns=['album_id','artist_id','artist_name','track_uri','track_name','genres'])\n",
        "df_tracks=df_tracks.drop_duplicates(subset=['track_name','track_uri'])\n",
        "#join with df_album for release dates\n",
        "df_tracks =(pd.merge(df_tracks,df_albums,how ='left',left_on = 'album_id',right_on='album_id',suffixes=('', '_y')))\n",
        "#df_tracks = df_tracks[df_tracks.columns.drop(list(df_tracks.filter(regex='_y')))]\n"
      ]
    },
    {
      "cell_type": "code",
      "source": [
        "df_tracks.shape"
      ],
      "metadata": {
        "colab": {
          "base_uri": "https://localhost:8080/"
        },
        "id": "XaF1AbnBtzp-",
        "outputId": "3ab7953e-c8d7-41ef-e151-eb914f471143"
      },
      "id": "XaF1AbnBtzp-",
      "execution_count": 31,
      "outputs": [
        {
          "output_type": "execute_result",
          "data": {
            "text/plain": [
              "(41397, 12)"
            ]
          },
          "metadata": {},
          "execution_count": 31
        }
      ]
    },
    {
      "cell_type": "code",
      "source": [
        "#df_tracks.to_csv('/content/drive/MyDrive/Colab Notebooks/tracks.csv')"
      ],
      "metadata": {
        "id": "rwf34UHlFIdL"
      },
      "id": "rwf34UHlFIdL",
      "execution_count": 32,
      "outputs": []
    },
    {
      "cell_type": "code",
      "source": [
        "df_tracks = pd.read_csv('/content/drive/MyDrive/Colab Notebooks/tracks.csv')"
      ],
      "metadata": {
        "id": "SwdRDETtjpGd"
      },
      "id": "SwdRDETtjpGd",
      "execution_count": 33,
      "outputs": []
    },
    {
      "cell_type": "code",
      "source": [
        "df_tracks = df_tracks.head(500)"
      ],
      "metadata": {
        "id": "3zCRZMYpheit"
      },
      "id": "3zCRZMYpheit",
      "execution_count": 35,
      "outputs": []
    },
    {
      "cell_type": "code",
      "execution_count": 36,
      "id": "bd672ca3",
      "metadata": {
        "colab": {
          "base_uri": "https://localhost:8080/",
          "height": 531
        },
        "id": "bd672ca3",
        "outputId": "e8339b3a-af92-458b-fa9f-84eee8b032a4"
      },
      "outputs": [
        {
          "output_type": "execute_result",
          "data": {
            "text/plain": [
              "          track_name                             track_uri artist_name  \\\n",
              "0              Tides  spotify:track:2JiHR4gCDjXwYVRDmwdk95  Ed Sheeran   \n",
              "1            Shivers  spotify:track:50nfwKoDiSYg8zOCREWAm5  Ed Sheeran   \n",
              "2        First Times  spotify:track:5QYnNhTKsN3kE7OaqILA1U  Ed Sheeran   \n",
              "3         Bad Habits  spotify:track:3rmo8F54jFF8OgYsqTxm5d  Ed Sheeran   \n",
              "4  Overpass Graffiti  spotify:track:4btFHqumCO31GksfuBLLv3  Ed Sheeran   \n",
              "\n",
              "  release_date                                             genres  \\\n",
              "0   2021-10-29  ['latin', 'latin hip hop', 'panamanian pop', '...   \n",
              "1   2021-10-29  ['latin', 'latin hip hop', 'panamanian pop', '...   \n",
              "2   2021-10-29  ['latin', 'latin hip hop', 'panamanian pop', '...   \n",
              "3   2021-10-29  ['latin', 'latin hip hop', 'panamanian pop', '...   \n",
              "4   2021-10-29  ['latin', 'latin hip hop', 'panamanian pop', '...   \n",
              "\n",
              "   danceability  energy  key  loudness  mode  speechiness  acousticness  \\\n",
              "0         0.631   0.825   11    -3.971     1       0.0433       0.01670   \n",
              "1         0.788   0.859    2    -2.724     1       0.0856       0.28100   \n",
              "2         0.587   0.267    8    -9.206     1       0.0349       0.84000   \n",
              "3         0.807   0.893   11    -3.745     0       0.0347       0.04510   \n",
              "4         0.520   0.849    9    -3.794     0       0.1860       0.00253   \n",
              "\n",
              "   liveness  valence    tempo  duration_ms  time_signature  duration  \n",
              "0    0.1220    0.427  129.942       195760               3  3.262667  \n",
              "1    0.0424    0.822  141.020       207853               4  3.464217  \n",
              "2    0.1210    0.352   98.845       185853               4  3.097550  \n",
              "3    0.3660    0.537  126.011       230747               4  3.845783  \n",
              "4    0.1190    0.774  175.908       236907               4  3.948450  "
            ],
            "text/html": [
              "\n",
              "  <div id=\"df-f91ef91b-9342-40e7-927c-bdd4d9db5e6b\">\n",
              "    <div class=\"colab-df-container\">\n",
              "      <div>\n",
              "<style scoped>\n",
              "    .dataframe tbody tr th:only-of-type {\n",
              "        vertical-align: middle;\n",
              "    }\n",
              "\n",
              "    .dataframe tbody tr th {\n",
              "        vertical-align: top;\n",
              "    }\n",
              "\n",
              "    .dataframe thead th {\n",
              "        text-align: right;\n",
              "    }\n",
              "</style>\n",
              "<table border=\"1\" class=\"dataframe\">\n",
              "  <thead>\n",
              "    <tr style=\"text-align: right;\">\n",
              "      <th></th>\n",
              "      <th>track_name</th>\n",
              "      <th>track_uri</th>\n",
              "      <th>artist_name</th>\n",
              "      <th>release_date</th>\n",
              "      <th>genres</th>\n",
              "      <th>danceability</th>\n",
              "      <th>energy</th>\n",
              "      <th>key</th>\n",
              "      <th>loudness</th>\n",
              "      <th>mode</th>\n",
              "      <th>speechiness</th>\n",
              "      <th>acousticness</th>\n",
              "      <th>liveness</th>\n",
              "      <th>valence</th>\n",
              "      <th>tempo</th>\n",
              "      <th>duration_ms</th>\n",
              "      <th>time_signature</th>\n",
              "      <th>duration</th>\n",
              "    </tr>\n",
              "  </thead>\n",
              "  <tbody>\n",
              "    <tr>\n",
              "      <th>0</th>\n",
              "      <td>Tides</td>\n",
              "      <td>spotify:track:2JiHR4gCDjXwYVRDmwdk95</td>\n",
              "      <td>Ed Sheeran</td>\n",
              "      <td>2021-10-29</td>\n",
              "      <td>['latin', 'latin hip hop', 'panamanian pop', '...</td>\n",
              "      <td>0.631</td>\n",
              "      <td>0.825</td>\n",
              "      <td>11</td>\n",
              "      <td>-3.971</td>\n",
              "      <td>1</td>\n",
              "      <td>0.0433</td>\n",
              "      <td>0.01670</td>\n",
              "      <td>0.1220</td>\n",
              "      <td>0.427</td>\n",
              "      <td>129.942</td>\n",
              "      <td>195760</td>\n",
              "      <td>3</td>\n",
              "      <td>3.262667</td>\n",
              "    </tr>\n",
              "    <tr>\n",
              "      <th>1</th>\n",
              "      <td>Shivers</td>\n",
              "      <td>spotify:track:50nfwKoDiSYg8zOCREWAm5</td>\n",
              "      <td>Ed Sheeran</td>\n",
              "      <td>2021-10-29</td>\n",
              "      <td>['latin', 'latin hip hop', 'panamanian pop', '...</td>\n",
              "      <td>0.788</td>\n",
              "      <td>0.859</td>\n",
              "      <td>2</td>\n",
              "      <td>-2.724</td>\n",
              "      <td>1</td>\n",
              "      <td>0.0856</td>\n",
              "      <td>0.28100</td>\n",
              "      <td>0.0424</td>\n",
              "      <td>0.822</td>\n",
              "      <td>141.020</td>\n",
              "      <td>207853</td>\n",
              "      <td>4</td>\n",
              "      <td>3.464217</td>\n",
              "    </tr>\n",
              "    <tr>\n",
              "      <th>2</th>\n",
              "      <td>First Times</td>\n",
              "      <td>spotify:track:5QYnNhTKsN3kE7OaqILA1U</td>\n",
              "      <td>Ed Sheeran</td>\n",
              "      <td>2021-10-29</td>\n",
              "      <td>['latin', 'latin hip hop', 'panamanian pop', '...</td>\n",
              "      <td>0.587</td>\n",
              "      <td>0.267</td>\n",
              "      <td>8</td>\n",
              "      <td>-9.206</td>\n",
              "      <td>1</td>\n",
              "      <td>0.0349</td>\n",
              "      <td>0.84000</td>\n",
              "      <td>0.1210</td>\n",
              "      <td>0.352</td>\n",
              "      <td>98.845</td>\n",
              "      <td>185853</td>\n",
              "      <td>4</td>\n",
              "      <td>3.097550</td>\n",
              "    </tr>\n",
              "    <tr>\n",
              "      <th>3</th>\n",
              "      <td>Bad Habits</td>\n",
              "      <td>spotify:track:3rmo8F54jFF8OgYsqTxm5d</td>\n",
              "      <td>Ed Sheeran</td>\n",
              "      <td>2021-10-29</td>\n",
              "      <td>['latin', 'latin hip hop', 'panamanian pop', '...</td>\n",
              "      <td>0.807</td>\n",
              "      <td>0.893</td>\n",
              "      <td>11</td>\n",
              "      <td>-3.745</td>\n",
              "      <td>0</td>\n",
              "      <td>0.0347</td>\n",
              "      <td>0.04510</td>\n",
              "      <td>0.3660</td>\n",
              "      <td>0.537</td>\n",
              "      <td>126.011</td>\n",
              "      <td>230747</td>\n",
              "      <td>4</td>\n",
              "      <td>3.845783</td>\n",
              "    </tr>\n",
              "    <tr>\n",
              "      <th>4</th>\n",
              "      <td>Overpass Graffiti</td>\n",
              "      <td>spotify:track:4btFHqumCO31GksfuBLLv3</td>\n",
              "      <td>Ed Sheeran</td>\n",
              "      <td>2021-10-29</td>\n",
              "      <td>['latin', 'latin hip hop', 'panamanian pop', '...</td>\n",
              "      <td>0.520</td>\n",
              "      <td>0.849</td>\n",
              "      <td>9</td>\n",
              "      <td>-3.794</td>\n",
              "      <td>0</td>\n",
              "      <td>0.1860</td>\n",
              "      <td>0.00253</td>\n",
              "      <td>0.1190</td>\n",
              "      <td>0.774</td>\n",
              "      <td>175.908</td>\n",
              "      <td>236907</td>\n",
              "      <td>4</td>\n",
              "      <td>3.948450</td>\n",
              "    </tr>\n",
              "  </tbody>\n",
              "</table>\n",
              "</div>\n",
              "      <button class=\"colab-df-convert\" onclick=\"convertToInteractive('df-f91ef91b-9342-40e7-927c-bdd4d9db5e6b')\"\n",
              "              title=\"Convert this dataframe to an interactive table.\"\n",
              "              style=\"display:none;\">\n",
              "        \n",
              "  <svg xmlns=\"http://www.w3.org/2000/svg\" height=\"24px\"viewBox=\"0 0 24 24\"\n",
              "       width=\"24px\">\n",
              "    <path d=\"M0 0h24v24H0V0z\" fill=\"none\"/>\n",
              "    <path d=\"M18.56 5.44l.94 2.06.94-2.06 2.06-.94-2.06-.94-.94-2.06-.94 2.06-2.06.94zm-11 1L8.5 8.5l.94-2.06 2.06-.94-2.06-.94L8.5 2.5l-.94 2.06-2.06.94zm10 10l.94 2.06.94-2.06 2.06-.94-2.06-.94-.94-2.06-.94 2.06-2.06.94z\"/><path d=\"M17.41 7.96l-1.37-1.37c-.4-.4-.92-.59-1.43-.59-.52 0-1.04.2-1.43.59L10.3 9.45l-7.72 7.72c-.78.78-.78 2.05 0 2.83L4 21.41c.39.39.9.59 1.41.59.51 0 1.02-.2 1.41-.59l7.78-7.78 2.81-2.81c.8-.78.8-2.07 0-2.86zM5.41 20L4 18.59l7.72-7.72 1.47 1.35L5.41 20z\"/>\n",
              "  </svg>\n",
              "      </button>\n",
              "      \n",
              "  <style>\n",
              "    .colab-df-container {\n",
              "      display:flex;\n",
              "      flex-wrap:wrap;\n",
              "      gap: 12px;\n",
              "    }\n",
              "\n",
              "    .colab-df-convert {\n",
              "      background-color: #E8F0FE;\n",
              "      border: none;\n",
              "      border-radius: 50%;\n",
              "      cursor: pointer;\n",
              "      display: none;\n",
              "      fill: #1967D2;\n",
              "      height: 32px;\n",
              "      padding: 0 0 0 0;\n",
              "      width: 32px;\n",
              "    }\n",
              "\n",
              "    .colab-df-convert:hover {\n",
              "      background-color: #E2EBFA;\n",
              "      box-shadow: 0px 1px 2px rgba(60, 64, 67, 0.3), 0px 1px 3px 1px rgba(60, 64, 67, 0.15);\n",
              "      fill: #174EA6;\n",
              "    }\n",
              "\n",
              "    [theme=dark] .colab-df-convert {\n",
              "      background-color: #3B4455;\n",
              "      fill: #D2E3FC;\n",
              "    }\n",
              "\n",
              "    [theme=dark] .colab-df-convert:hover {\n",
              "      background-color: #434B5C;\n",
              "      box-shadow: 0px 1px 3px 1px rgba(0, 0, 0, 0.15);\n",
              "      filter: drop-shadow(0px 1px 2px rgba(0, 0, 0, 0.3));\n",
              "      fill: #FFFFFF;\n",
              "    }\n",
              "  </style>\n",
              "\n",
              "      <script>\n",
              "        const buttonEl =\n",
              "          document.querySelector('#df-f91ef91b-9342-40e7-927c-bdd4d9db5e6b button.colab-df-convert');\n",
              "        buttonEl.style.display =\n",
              "          google.colab.kernel.accessAllowed ? 'block' : 'none';\n",
              "\n",
              "        async function convertToInteractive(key) {\n",
              "          const element = document.querySelector('#df-f91ef91b-9342-40e7-927c-bdd4d9db5e6b');\n",
              "          const dataTable =\n",
              "            await google.colab.kernel.invokeFunction('convertToInteractive',\n",
              "                                                     [key], {});\n",
              "          if (!dataTable) return;\n",
              "\n",
              "          const docLinkHtml = 'Like what you see? Visit the ' +\n",
              "            '<a target=\"_blank\" href=https://colab.research.google.com/notebooks/data_table.ipynb>data table notebook</a>'\n",
              "            + ' to learn more about interactive tables.';\n",
              "          element.innerHTML = '';\n",
              "          dataTable['output_type'] = 'display_data';\n",
              "          await google.colab.output.renderOutput(dataTable, element);\n",
              "          const docLink = document.createElement('div');\n",
              "          docLink.innerHTML = docLinkHtml;\n",
              "          element.appendChild(docLink);\n",
              "        }\n",
              "      </script>\n",
              "    </div>\n",
              "  </div>\n",
              "  "
            ]
          },
          "metadata": {},
          "execution_count": 36
        }
      ],
      "source": [
        "audio_features = []\n",
        "for uri in df_tracks['track_uri'].values:\n",
        "    audio_features.append(sp.audio_features(uri)[0])\n",
        "audio_features = pd.DataFrame(audio_features)[['danceability', 'energy', 'key', 'loudness', 'mode', 'speechiness', 'acousticness', 'liveness', 'valence', 'tempo', 'duration_ms', 'time_signature']]\n",
        "audio_features['duration'] = audio_features['duration_ms']/60000\n",
        "audio_features = pd.concat([df_tracks['track_name'],df_tracks['track_uri'],df_tracks['artist_name'],df_tracks['release_date'],df_tracks['genres'],audio_features],axis=1)\n",
        "audio_features.head()"
      ]
    },
    {
      "cell_type": "code",
      "source": [
        "audio_features.shape"
      ],
      "metadata": {
        "id": "A_rFAYzkjeko"
      },
      "id": "A_rFAYzkjeko",
      "execution_count": null,
      "outputs": []
    },
    {
      "cell_type": "code",
      "source": [
        "audio_features.to_csv('/content/drive/MyDrive/Colab Notebooks/audio_features.csv')"
      ],
      "metadata": {
        "colab": {
          "base_uri": "https://localhost:8080/",
          "height": 222
        },
        "id": "Z9vgc6207BUt",
        "outputId": "b7cd4853-8fe6-4798-c240-585bcf1f25a3"
      },
      "id": "Z9vgc6207BUt",
      "execution_count": 17,
      "outputs": [
        {
          "output_type": "error",
          "ename": "AttributeError",
          "evalue": "ignored",
          "traceback": [
            "\u001b[0;31m---------------------------------------------------------------------------\u001b[0m",
            "\u001b[0;31mAttributeError\u001b[0m                            Traceback (most recent call last)",
            "\u001b[0;32m<ipython-input-17-d22e2e27452b>\u001b[0m in \u001b[0;36m<module>\u001b[0;34m()\u001b[0m\n\u001b[0;32m----> 1\u001b[0;31m \u001b[0maudio_features\u001b[0m\u001b[0;34m.\u001b[0m\u001b[0mto_csv\u001b[0m\u001b[0;34m(\u001b[0m\u001b[0;34m'/content/drive/MyDrive/Colab Notebooks/audio_features.csv'\u001b[0m\u001b[0;34m)\u001b[0m\u001b[0;34m\u001b[0m\u001b[0;34m\u001b[0m\u001b[0m\n\u001b[0m",
            "\u001b[0;31mAttributeError\u001b[0m: 'list' object has no attribute 'to_csv'"
          ]
        }
      ]
    },
    {
      "cell_type": "code",
      "source": [
        "from google.colab import drive\n",
        "drive.mount('/content/drive')"
      ],
      "metadata": {
        "colab": {
          "base_uri": "https://localhost:8080/"
        },
        "id": "MWt9VZWb7Gz1",
        "outputId": "aab1ae76-062c-4d0d-d710-8a9873314047"
      },
      "id": "MWt9VZWb7Gz1",
      "execution_count": 3,
      "outputs": [
        {
          "output_type": "stream",
          "name": "stdout",
          "text": [
            "Mounted at /content/drive\n"
          ]
        }
      ]
    }
  ],
  "metadata": {
    "colab": {
      "name": "PF_songfeatures.ipynb",
      "provenance": [],
      "include_colab_link": true
    },
    "kernelspec": {
      "display_name": "Python 3 (ipykernel)",
      "language": "python",
      "name": "python3"
    },
    "language_info": {
      "codemirror_mode": {
        "name": "ipython",
        "version": 3
      },
      "file_extension": ".py",
      "mimetype": "text/x-python",
      "name": "python",
      "nbconvert_exporter": "python",
      "pygments_lexer": "ipython3",
      "version": "3.7.9"
    },
    "accelerator": "GPU"
  },
  "nbformat": 4,
  "nbformat_minor": 5
}