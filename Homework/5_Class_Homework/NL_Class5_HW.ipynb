{
  "cells": [
    {
      "cell_type": "markdown",
      "metadata": {
        "id": "view-in-github",
        "colab_type": "text"
      },
      "source": [
        "<a href=\"https://colab.research.google.com/github/Nganle21/Big-Data-Dreamteam/blob/main/Homework/5_Class_Homework/NL_Class5_HW.ipynb\" target=\"_parent\"><img src=\"https://colab.research.google.com/assets/colab-badge.svg\" alt=\"Open In Colab\"/></a>"
      ]
    },
    {
      "cell_type": "markdown",
      "source": [
        "### Libraries"
      ],
      "metadata": {
        "id": "L0HoGesYBC1E"
      }
    },
    {
      "cell_type": "code",
      "source": [
        "from google.colab import drive\n",
        "drive.mount('/content/drive')\n",
        "TWSM_path = \"/content/drive/MyDrive/teaching/TWSM/\"\n",
        "\n",
        "#from TWSM import *\n",
        "from tensorflow import keras\n",
        "from tensorflow.keras.models import Sequential\n",
        "from tensorflow.keras.layers import Dense\n",
        "from tensorflow.keras import layers\n",
        "from keras.callbacks import EarlyStopping\n",
        "import spacy\n",
        "## Import packages\n",
        "import pickle\n",
        "import pandas as pd\n",
        "from gensim.models import Word2Vec\n",
        "import time\n",
        "import numpy as np\n",
        "# run this from a normal command line\n",
        "#!python -m spacy download en_core_web_md #160MB\n",
        "\n",
        "#can I download this to a local file instead and load it fom drive?\n"
      ],
      "metadata": {
        "id": "4k1Km8WrvyWM",
        "colab": {
          "base_uri": "https://localhost:8080/"
        },
        "outputId": "967b4d23-429d-48c5-c39f-59eab948743f"
      },
      "execution_count": 1,
      "outputs": [
        {
          "output_type": "stream",
          "name": "stdout",
          "text": [
            "Drive already mounted at /content/drive; to attempt to forcibly remount, call drive.mount(\"/content/drive\", force_remount=True).\n"
          ]
        }
      ]
    },
    {
      "cell_type": "markdown",
      "source": [
        "**IMD Movie Reviews**"
      ],
      "metadata": {
        "id": "e3ofzmU3fbUH"
      }
    },
    {
      "cell_type": "code",
      "source": [
        "from tensorflow.keras.datasets import imdb\n",
        "(train_data, train_labels), (test_data, test_labels) = imdb.load_data(\n",
        "    num_words=10000)"
      ],
      "metadata": {
        "id": "inHlYXX-gCJx"
      },
      "execution_count": 2,
      "outputs": []
    },
    {
      "cell_type": "markdown",
      "source": [
        "#### Tasks\n",
        "\n",
        "1. Train a word2vec model of dimension $100$ on the IMD data. (considering words appearing in more than 50 documents) Save the model if you like.\n",
        "\n",
        "2. Compute the embedding for each review (average word2vec)\n",
        "\n",
        "3. Fit a keras classifier to the embedded reviews. (2 hidden layers of size 40 each) Report/Monitor the accuracy on the test data.\n",
        "\n",
        "4. Load the bing sentiment dictionary. Compute two separate embeddings for the negative and positive sentiments.\n",
        "\n",
        "5. Compute the similarity between these two vectors and a few selected reviews. Does it agree with their label?\n"
      ],
      "metadata": {
        "id": "eA-8MKLQjT1U"
      }
    },
    {
      "cell_type": "markdown",
      "source": [
        "-------------------------------------------\n",
        "## Solution"
      ],
      "metadata": {
        "id": "tv2nL5C6s4_8"
      }
    },
    {
      "cell_type": "markdown",
      "source": [
        "1. Train a word2vec model of dimension  100  on the IMD data. (considering words appearing in more than 50 documents) Save the model if you like."
      ],
      "metadata": {
        "id": "yxjOqevxYXDJ"
      }
    },
    {
      "cell_type": "markdown",
      "source": [
        "**Decoding reviews back to text**"
      ],
      "metadata": {
        "id": "64rsTCsVZRXW"
      }
    },
    {
      "cell_type": "code",
      "source": [
        "word_index = imdb.get_word_index()\n",
        "reverse_word_index = dict(\n",
        "    [(value, key) for (key, value) in word_index.items()])\n",
        "decoded_review = \" \".join(\n",
        "    [reverse_word_index.get(i - 3, \"?\") for i in train_data[0]])\n",
        "\n",
        "decoded_review"
      ],
      "metadata": {
        "colab": {
          "base_uri": "https://localhost:8080/",
          "height": 122
        },
        "id": "IivO2H-vYV20",
        "outputId": "708eae53-fbb7-4315-bc49-ae54583617a5"
      },
      "execution_count": 3,
      "outputs": [
        {
          "output_type": "execute_result",
          "data": {
            "text/plain": [
              "\"? this film was just brilliant casting location scenery story direction everyone's really suited the part they played and you could just imagine being there robert ? is an amazing actor and now the same being director ? father came from the same scottish island as myself so i loved the fact there was a real connection with this film the witty remarks throughout the film were great it was just brilliant so much that i bought the film as soon as it was released for ? and would recommend it to everyone to watch and the fly fishing was amazing really cried at the end it was so sad and you know what they say if you cry at a film it must have been good and this definitely was also ? to the two little boy's that played the ? of norman and paul they were just brilliant children are often left out of the ? list i think because the stars that play them all grown up are such a big profile for the whole film but these children are amazing and should be praised for what they have done don't you think the whole story was so lovely because it was true and was someone's life after all that was shared with us all\""
            ],
            "application/vnd.google.colaboratory.intrinsic+json": {
              "type": "string"
            }
          },
          "metadata": {},
          "execution_count": 3
        }
      ]
    },
    {
      "cell_type": "code",
      "source": [
        "N=len(train_data)\n",
        "decoded_reviews = [\"\" for x in range(N)]\n",
        "\n",
        "for j in range(N):\n",
        "  decoded_reviews[j] = \" \".join(\n",
        "    [reverse_word_index.get(i - 3, \"?\") for i in train_data[j]])"
      ],
      "metadata": {
        "id": "EIXbbRwaZaQC"
      },
      "execution_count": 4,
      "outputs": []
    },
    {
      "cell_type": "code",
      "source": [
        "decoded_reviews[1]"
      ],
      "metadata": {
        "colab": {
          "base_uri": "https://localhost:8080/",
          "height": 122
        },
        "id": "tBpixu8QZbd3",
        "outputId": "1f49d665-57e0-4ca3-ebe8-d1520acce753"
      },
      "execution_count": 5,
      "outputs": [
        {
          "output_type": "execute_result",
          "data": {
            "text/plain": [
              "\"? big hair big boobs bad music and a giant safety pin these are the words to best describe this terrible movie i love cheesy horror movies and i've seen hundreds but this had got to be on of the worst ever made the plot is paper thin and ridiculous the acting is an abomination the script is completely laughable the best is the end showdown with the cop and how he worked out who the killer is it's just so damn terribly written the clothes are sickening and funny in equal ? the hair is big lots of boobs ? men wear those cut ? shirts that show off their ? sickening that men actually wore them and the music is just ? trash that plays over and over again in almost every scene there is trashy music boobs and ? taking away bodies and the gym still doesn't close for ? all joking aside this is a truly bad film whose only charm is to look back on the disaster that was the 80's and have a good old laugh at how bad everything was back then\""
            ],
            "application/vnd.google.colaboratory.intrinsic+json": {
              "type": "string"
            }
          },
          "metadata": {},
          "execution_count": 5
        }
      ]
    },
    {
      "cell_type": "code",
      "source": [
        "df = pd.DataFrame(decoded_reviews,columns=['reviews'])\n",
        "df.head()"
      ],
      "metadata": {
        "colab": {
          "base_uri": "https://localhost:8080/",
          "height": 206
        },
        "id": "xzX7CmH6Zq2a",
        "outputId": "bdc4ea1f-2aa1-461e-de0f-75814ae42262"
      },
      "execution_count": 6,
      "outputs": [
        {
          "output_type": "execute_result",
          "data": {
            "text/plain": [
              "                                             reviews\n",
              "0  ? this film was just brilliant casting locatio...\n",
              "1  ? big hair big boobs bad music and a giant saf...\n",
              "2  ? this has to be one of the worst films of the...\n",
              "3  ? the ? ? at storytelling the traditional sort...\n",
              "4  ? worst mistake of my life br br i picked this..."
            ],
            "text/html": [
              "\n",
              "  <div id=\"df-fde762a1-64fc-4861-ba5f-742cb009cc5f\">\n",
              "    <div class=\"colab-df-container\">\n",
              "      <div>\n",
              "<style scoped>\n",
              "    .dataframe tbody tr th:only-of-type {\n",
              "        vertical-align: middle;\n",
              "    }\n",
              "\n",
              "    .dataframe tbody tr th {\n",
              "        vertical-align: top;\n",
              "    }\n",
              "\n",
              "    .dataframe thead th {\n",
              "        text-align: right;\n",
              "    }\n",
              "</style>\n",
              "<table border=\"1\" class=\"dataframe\">\n",
              "  <thead>\n",
              "    <tr style=\"text-align: right;\">\n",
              "      <th></th>\n",
              "      <th>reviews</th>\n",
              "    </tr>\n",
              "  </thead>\n",
              "  <tbody>\n",
              "    <tr>\n",
              "      <th>0</th>\n",
              "      <td>? this film was just brilliant casting locatio...</td>\n",
              "    </tr>\n",
              "    <tr>\n",
              "      <th>1</th>\n",
              "      <td>? big hair big boobs bad music and a giant saf...</td>\n",
              "    </tr>\n",
              "    <tr>\n",
              "      <th>2</th>\n",
              "      <td>? this has to be one of the worst films of the...</td>\n",
              "    </tr>\n",
              "    <tr>\n",
              "      <th>3</th>\n",
              "      <td>? the ? ? at storytelling the traditional sort...</td>\n",
              "    </tr>\n",
              "    <tr>\n",
              "      <th>4</th>\n",
              "      <td>? worst mistake of my life br br i picked this...</td>\n",
              "    </tr>\n",
              "  </tbody>\n",
              "</table>\n",
              "</div>\n",
              "      <button class=\"colab-df-convert\" onclick=\"convertToInteractive('df-fde762a1-64fc-4861-ba5f-742cb009cc5f')\"\n",
              "              title=\"Convert this dataframe to an interactive table.\"\n",
              "              style=\"display:none;\">\n",
              "        \n",
              "  <svg xmlns=\"http://www.w3.org/2000/svg\" height=\"24px\"viewBox=\"0 0 24 24\"\n",
              "       width=\"24px\">\n",
              "    <path d=\"M0 0h24v24H0V0z\" fill=\"none\"/>\n",
              "    <path d=\"M18.56 5.44l.94 2.06.94-2.06 2.06-.94-2.06-.94-.94-2.06-.94 2.06-2.06.94zm-11 1L8.5 8.5l.94-2.06 2.06-.94-2.06-.94L8.5 2.5l-.94 2.06-2.06.94zm10 10l.94 2.06.94-2.06 2.06-.94-2.06-.94-.94-2.06-.94 2.06-2.06.94z\"/><path d=\"M17.41 7.96l-1.37-1.37c-.4-.4-.92-.59-1.43-.59-.52 0-1.04.2-1.43.59L10.3 9.45l-7.72 7.72c-.78.78-.78 2.05 0 2.83L4 21.41c.39.39.9.59 1.41.59.51 0 1.02-.2 1.41-.59l7.78-7.78 2.81-2.81c.8-.78.8-2.07 0-2.86zM5.41 20L4 18.59l7.72-7.72 1.47 1.35L5.41 20z\"/>\n",
              "  </svg>\n",
              "      </button>\n",
              "      \n",
              "  <style>\n",
              "    .colab-df-container {\n",
              "      display:flex;\n",
              "      flex-wrap:wrap;\n",
              "      gap: 12px;\n",
              "    }\n",
              "\n",
              "    .colab-df-convert {\n",
              "      background-color: #E8F0FE;\n",
              "      border: none;\n",
              "      border-radius: 50%;\n",
              "      cursor: pointer;\n",
              "      display: none;\n",
              "      fill: #1967D2;\n",
              "      height: 32px;\n",
              "      padding: 0 0 0 0;\n",
              "      width: 32px;\n",
              "    }\n",
              "\n",
              "    .colab-df-convert:hover {\n",
              "      background-color: #E2EBFA;\n",
              "      box-shadow: 0px 1px 2px rgba(60, 64, 67, 0.3), 0px 1px 3px 1px rgba(60, 64, 67, 0.15);\n",
              "      fill: #174EA6;\n",
              "    }\n",
              "\n",
              "    [theme=dark] .colab-df-convert {\n",
              "      background-color: #3B4455;\n",
              "      fill: #D2E3FC;\n",
              "    }\n",
              "\n",
              "    [theme=dark] .colab-df-convert:hover {\n",
              "      background-color: #434B5C;\n",
              "      box-shadow: 0px 1px 3px 1px rgba(0, 0, 0, 0.15);\n",
              "      filter: drop-shadow(0px 1px 2px rgba(0, 0, 0, 0.3));\n",
              "      fill: #FFFFFF;\n",
              "    }\n",
              "  </style>\n",
              "\n",
              "      <script>\n",
              "        const buttonEl =\n",
              "          document.querySelector('#df-fde762a1-64fc-4861-ba5f-742cb009cc5f button.colab-df-convert');\n",
              "        buttonEl.style.display =\n",
              "          google.colab.kernel.accessAllowed ? 'block' : 'none';\n",
              "\n",
              "        async function convertToInteractive(key) {\n",
              "          const element = document.querySelector('#df-fde762a1-64fc-4861-ba5f-742cb009cc5f');\n",
              "          const dataTable =\n",
              "            await google.colab.kernel.invokeFunction('convertToInteractive',\n",
              "                                                     [key], {});\n",
              "          if (!dataTable) return;\n",
              "\n",
              "          const docLinkHtml = 'Like what you see? Visit the ' +\n",
              "            '<a target=\"_blank\" href=https://colab.research.google.com/notebooks/data_table.ipynb>data table notebook</a>'\n",
              "            + ' to learn more about interactive tables.';\n",
              "          element.innerHTML = '';\n",
              "          dataTable['output_type'] = 'display_data';\n",
              "          await google.colab.output.renderOutput(dataTable, element);\n",
              "          const docLink = document.createElement('div');\n",
              "          docLink.innerHTML = docLinkHtml;\n",
              "          element.appendChild(docLink);\n",
              "        }\n",
              "      </script>\n",
              "    </div>\n",
              "  </div>\n",
              "  "
            ]
          },
          "metadata": {},
          "execution_count": 6
        }
      ]
    },
    {
      "cell_type": "markdown",
      "source": [
        "**Train the model**"
      ],
      "metadata": {
        "id": "p-SDuQnibxdS"
      }
    },
    {
      "cell_type": "code",
      "source": [
        "corpus_gen = [text.split() for text in df['reviews']]"
      ],
      "metadata": {
        "id": "XNSvGmf0chHK"
      },
      "execution_count": 7,
      "outputs": []
    },
    {
      "cell_type": "code",
      "source": [
        "#Initiate the model\n",
        "model = Word2Vec(corpus_gen,size = 100, min_count=50)"
      ],
      "metadata": {
        "id": "x_M_0Uqmfbd6"
      },
      "execution_count": 8,
      "outputs": []
    },
    {
      "cell_type": "markdown",
      "source": [
        "2. Compute the embedding for each review (average word2vec)"
      ],
      "metadata": {
        "id": "0_WdU_Lqfmx9"
      }
    },
    {
      "cell_type": "code",
      "source": [
        "# Document representation for the text\n",
        "corpus_w2v=[[model.wv[word] for word in doc if word in model.wv.vocab.keys()] for doc in corpus_gen]\n",
        "positive=[i for i in range(len(corpus_gen)) if len(corpus_w2v[i])>0]\n",
        "\n",
        "corpus_w2v2=[corpus_w2v[i] for i in positive]\n",
        "data_lemma2=[df.reviews[i] for i in positive]\n",
        "\n",
        "# Document average representation\n",
        "corpus_w2v_avg_clean=[sum(words)/len(words) for words in corpus_w2v2]\n",
        "\n",
        "# This corpus can be used later in clustering and classification tasks\n",
        "print(corpus_w2v_avg_clean[10])"
      ],
      "metadata": {
        "colab": {
          "base_uri": "https://localhost:8080/"
        },
        "id": "RLn8u1eVtMxu",
        "outputId": "ae6f88f8-31d6-4ff5-fafa-22e17b9b2440"
      },
      "execution_count": 9,
      "outputs": [
        {
          "output_type": "stream",
          "name": "stdout",
          "text": [
            "[-0.02587457  0.12125243 -0.07703658 -0.09273658  0.2062093   0.01872417\n",
            "  0.10475525 -0.03388595 -0.1413352   0.34731728 -0.04533882 -0.01131528\n",
            "  0.3496904  -0.4039448   0.45530647 -0.18528908  0.26129973  0.2037166\n",
            "  0.31207967 -0.30518758  0.03584414  0.10527425  0.3887858  -0.16679484\n",
            "  0.24499726 -0.01163679  0.17101601  0.16031884  0.46000695 -0.06819597\n",
            " -0.09551626  0.43941355 -0.03175586  0.09009441 -0.15976363 -0.36974254\n",
            "  0.2357684  -0.09436192  0.15688723  0.22375971 -0.30374736  0.25787428\n",
            "  0.09940811 -0.15682393 -0.02389922 -0.22317141 -0.14723614 -0.11609909\n",
            " -0.19747399  0.10536131 -0.06637546  0.41939774  0.14526668 -0.40693247\n",
            " -0.17365833 -0.06517812  0.10798814 -0.31526843 -0.01034788  0.11273001\n",
            " -0.11844624  0.12405759  0.27787873  0.0587026   0.2556273  -0.19284178\n",
            " -0.2800718   0.19736804 -0.03338406  0.06313796  0.02479621  0.63636166\n",
            "  0.05225824  0.57321995 -0.1498804  -0.20688829 -0.24129327  0.3205293\n",
            " -0.51940095  0.15376636 -0.0009469  -0.5070945   0.1832182  -0.07135351\n",
            " -0.16770865  0.28136772  0.06870538 -0.28929964  0.19653413 -0.08665159\n",
            " -0.22635944 -0.02769113  0.36318102  0.62316084  0.37999463  0.0702294\n",
            " -0.11152962  0.37482652  0.35286215 -0.19804698]\n"
          ]
        }
      ]
    },
    {
      "cell_type": "markdown",
      "source": [
        "3. Fit a keras classifier to the embedded reviews. (2 hidden layers of size 40 each) Report/Monitor the accuracy on the test data."
      ],
      "metadata": {
        "id": "IsAImgrluwWO"
      }
    },
    {
      "cell_type": "code",
      "source": [
        "# Model configuration\n",
        "loss_function = 'binary_crossentropy'\n",
        "optimizer = 'adam'\n",
        "additional_metrics = ['accuracy']\n",
        "number_of_epochs = 100\n",
        "verbosity_mode = 1\n",
        "validation_split = 0.30\n",
        "input_dim = 100\n",
        "batch_size = 64"
      ],
      "metadata": {
        "id": "l0I6CPZbyDzt"
      },
      "execution_count": 10,
      "outputs": []
    },
    {
      "cell_type": "code",
      "source": [
        "model_clf = Sequential()\n",
        "model_clf.add(Dense(40, input_dim = 100, activation='relu'))\n",
        "model_clf.add(Dense(40, activation='relu'))\n",
        "model_clf.add(Dense(1, activation='sigmoid'))\n",
        "callback = EarlyStopping(monitor='accuracy', patience=15, mode = 'auto')"
      ],
      "metadata": {
        "id": "9VSXXFMfuzG0"
      },
      "execution_count": 11,
      "outputs": []
    },
    {
      "cell_type": "code",
      "source": [
        "# Compile the model\n",
        "model_clf.compile(optimizer=optimizer, loss=loss_function, metrics=additional_metrics)\n"
      ],
      "metadata": {
        "id": "f1NlF7RNyAU8"
      },
      "execution_count": 12,
      "outputs": []
    },
    {
      "cell_type": "code",
      "source": [
        "# Train the model\n",
        "history = model_clf.fit(np.array(corpus_w2v_avg_clean), train_labels, epochs=number_of_epochs, verbose=verbosity_mode, validation_split=validation_split, callbacks = callback, batch_size = batch_size)"
      ],
      "metadata": {
        "colab": {
          "base_uri": "https://localhost:8080/"
        },
        "id": "s0enQOKMyVfg",
        "outputId": "97c08dea-590a-473b-d575-379f68549f4c"
      },
      "execution_count": 13,
      "outputs": [
        {
          "output_type": "stream",
          "name": "stdout",
          "text": [
            "Epoch 1/100\n",
            "274/274 [==============================] - 2s 4ms/step - loss: 0.4872 - accuracy: 0.7678 - val_loss: 0.4055 - val_accuracy: 0.8187\n",
            "Epoch 2/100\n",
            "274/274 [==============================] - 1s 3ms/step - loss: 0.3912 - accuracy: 0.8282 - val_loss: 0.3745 - val_accuracy: 0.8371\n",
            "Epoch 3/100\n",
            "274/274 [==============================] - 1s 3ms/step - loss: 0.3798 - accuracy: 0.8361 - val_loss: 0.3741 - val_accuracy: 0.8360\n",
            "Epoch 4/100\n",
            "274/274 [==============================] - 1s 3ms/step - loss: 0.3767 - accuracy: 0.8331 - val_loss: 0.3649 - val_accuracy: 0.8423\n",
            "Epoch 5/100\n",
            "274/274 [==============================] - 1s 3ms/step - loss: 0.3743 - accuracy: 0.8334 - val_loss: 0.3702 - val_accuracy: 0.8375\n",
            "Epoch 6/100\n",
            "274/274 [==============================] - 1s 3ms/step - loss: 0.3676 - accuracy: 0.8400 - val_loss: 0.3582 - val_accuracy: 0.8460\n",
            "Epoch 7/100\n",
            "274/274 [==============================] - 1s 3ms/step - loss: 0.3640 - accuracy: 0.8419 - val_loss: 0.3701 - val_accuracy: 0.8351\n",
            "Epoch 8/100\n",
            "274/274 [==============================] - 1s 3ms/step - loss: 0.3643 - accuracy: 0.8411 - val_loss: 0.3611 - val_accuracy: 0.8429\n",
            "Epoch 9/100\n",
            "274/274 [==============================] - 1s 3ms/step - loss: 0.3613 - accuracy: 0.8436 - val_loss: 0.3593 - val_accuracy: 0.8436\n",
            "Epoch 10/100\n",
            "274/274 [==============================] - 1s 3ms/step - loss: 0.3588 - accuracy: 0.8426 - val_loss: 0.3568 - val_accuracy: 0.8455\n",
            "Epoch 11/100\n",
            "274/274 [==============================] - 1s 3ms/step - loss: 0.3551 - accuracy: 0.8464 - val_loss: 0.3662 - val_accuracy: 0.8399\n",
            "Epoch 12/100\n",
            "274/274 [==============================] - 1s 3ms/step - loss: 0.3549 - accuracy: 0.8455 - val_loss: 0.3580 - val_accuracy: 0.8456\n",
            "Epoch 13/100\n",
            "274/274 [==============================] - 1s 3ms/step - loss: 0.3521 - accuracy: 0.8470 - val_loss: 0.3616 - val_accuracy: 0.8437\n",
            "Epoch 14/100\n",
            "274/274 [==============================] - 1s 3ms/step - loss: 0.3514 - accuracy: 0.8479 - val_loss: 0.3654 - val_accuracy: 0.8401\n",
            "Epoch 15/100\n",
            "274/274 [==============================] - 1s 3ms/step - loss: 0.3490 - accuracy: 0.8472 - val_loss: 0.3588 - val_accuracy: 0.8444\n",
            "Epoch 16/100\n",
            "274/274 [==============================] - 1s 3ms/step - loss: 0.3456 - accuracy: 0.8509 - val_loss: 0.3886 - val_accuracy: 0.8283\n",
            "Epoch 17/100\n",
            "274/274 [==============================] - 1s 3ms/step - loss: 0.3460 - accuracy: 0.8507 - val_loss: 0.3962 - val_accuracy: 0.8228\n",
            "Epoch 18/100\n",
            "274/274 [==============================] - 1s 3ms/step - loss: 0.3425 - accuracy: 0.8516 - val_loss: 0.3581 - val_accuracy: 0.8435\n",
            "Epoch 19/100\n",
            "274/274 [==============================] - 1s 3ms/step - loss: 0.3410 - accuracy: 0.8526 - val_loss: 0.3680 - val_accuracy: 0.8408\n",
            "Epoch 20/100\n",
            "274/274 [==============================] - 1s 3ms/step - loss: 0.3373 - accuracy: 0.8547 - val_loss: 0.3575 - val_accuracy: 0.8448\n",
            "Epoch 21/100\n",
            "274/274 [==============================] - 1s 3ms/step - loss: 0.3362 - accuracy: 0.8548 - val_loss: 0.3615 - val_accuracy: 0.8445\n",
            "Epoch 22/100\n",
            "274/274 [==============================] - 1s 3ms/step - loss: 0.3349 - accuracy: 0.8552 - val_loss: 0.3622 - val_accuracy: 0.8400\n",
            "Epoch 23/100\n",
            "274/274 [==============================] - 1s 3ms/step - loss: 0.3322 - accuracy: 0.8569 - val_loss: 0.3567 - val_accuracy: 0.8468\n",
            "Epoch 24/100\n",
            "274/274 [==============================] - 1s 3ms/step - loss: 0.3319 - accuracy: 0.8567 - val_loss: 0.3583 - val_accuracy: 0.8445\n",
            "Epoch 25/100\n",
            "274/274 [==============================] - 1s 3ms/step - loss: 0.3281 - accuracy: 0.8609 - val_loss: 0.3584 - val_accuracy: 0.8431\n",
            "Epoch 26/100\n",
            "274/274 [==============================] - 1s 3ms/step - loss: 0.3266 - accuracy: 0.8601 - val_loss: 0.3607 - val_accuracy: 0.8441\n",
            "Epoch 27/100\n",
            "274/274 [==============================] - 1s 3ms/step - loss: 0.3267 - accuracy: 0.8581 - val_loss: 0.3672 - val_accuracy: 0.8403\n",
            "Epoch 28/100\n",
            "274/274 [==============================] - 1s 3ms/step - loss: 0.3237 - accuracy: 0.8625 - val_loss: 0.3613 - val_accuracy: 0.8415\n",
            "Epoch 29/100\n",
            "274/274 [==============================] - 1s 3ms/step - loss: 0.3217 - accuracy: 0.8625 - val_loss: 0.3613 - val_accuracy: 0.8444\n",
            "Epoch 30/100\n",
            "274/274 [==============================] - 1s 3ms/step - loss: 0.3198 - accuracy: 0.8660 - val_loss: 0.3631 - val_accuracy: 0.8391\n",
            "Epoch 31/100\n",
            "274/274 [==============================] - 1s 3ms/step - loss: 0.3178 - accuracy: 0.8640 - val_loss: 0.3633 - val_accuracy: 0.8415\n",
            "Epoch 32/100\n",
            "274/274 [==============================] - 1s 3ms/step - loss: 0.3217 - accuracy: 0.8608 - val_loss: 0.3623 - val_accuracy: 0.8411\n",
            "Epoch 33/100\n",
            "274/274 [==============================] - 1s 3ms/step - loss: 0.3138 - accuracy: 0.8683 - val_loss: 0.3684 - val_accuracy: 0.8372\n",
            "Epoch 34/100\n",
            "274/274 [==============================] - 1s 3ms/step - loss: 0.3120 - accuracy: 0.8672 - val_loss: 0.3666 - val_accuracy: 0.8403\n",
            "Epoch 35/100\n",
            "274/274 [==============================] - 1s 3ms/step - loss: 0.3115 - accuracy: 0.8685 - val_loss: 0.3759 - val_accuracy: 0.8337\n",
            "Epoch 36/100\n",
            "274/274 [==============================] - 1s 3ms/step - loss: 0.3084 - accuracy: 0.8690 - val_loss: 0.3677 - val_accuracy: 0.8384\n",
            "Epoch 37/100\n",
            "274/274 [==============================] - 1s 3ms/step - loss: 0.3090 - accuracy: 0.8690 - val_loss: 0.3668 - val_accuracy: 0.8409\n",
            "Epoch 38/100\n",
            "274/274 [==============================] - 1s 3ms/step - loss: 0.3072 - accuracy: 0.8705 - val_loss: 0.3747 - val_accuracy: 0.8385\n",
            "Epoch 39/100\n",
            "274/274 [==============================] - 1s 3ms/step - loss: 0.3082 - accuracy: 0.8719 - val_loss: 0.3653 - val_accuracy: 0.8433\n",
            "Epoch 40/100\n",
            "274/274 [==============================] - 1s 3ms/step - loss: 0.3047 - accuracy: 0.8726 - val_loss: 0.3679 - val_accuracy: 0.8413\n",
            "Epoch 41/100\n",
            "274/274 [==============================] - 1s 3ms/step - loss: 0.3002 - accuracy: 0.8731 - val_loss: 0.3694 - val_accuracy: 0.8411\n",
            "Epoch 42/100\n",
            "274/274 [==============================] - 1s 3ms/step - loss: 0.3010 - accuracy: 0.8731 - val_loss: 0.3715 - val_accuracy: 0.8416\n",
            "Epoch 43/100\n",
            "274/274 [==============================] - 1s 3ms/step - loss: 0.3008 - accuracy: 0.8743 - val_loss: 0.3776 - val_accuracy: 0.8368\n",
            "Epoch 44/100\n",
            "274/274 [==============================] - 1s 3ms/step - loss: 0.2986 - accuracy: 0.8744 - val_loss: 0.3911 - val_accuracy: 0.8321\n",
            "Epoch 45/100\n",
            "274/274 [==============================] - 1s 3ms/step - loss: 0.2966 - accuracy: 0.8724 - val_loss: 0.3799 - val_accuracy: 0.8321\n",
            "Epoch 46/100\n",
            "274/274 [==============================] - 1s 3ms/step - loss: 0.2943 - accuracy: 0.8764 - val_loss: 0.3763 - val_accuracy: 0.8364\n",
            "Epoch 47/100\n",
            "274/274 [==============================] - 1s 3ms/step - loss: 0.2928 - accuracy: 0.8766 - val_loss: 0.3746 - val_accuracy: 0.8392\n",
            "Epoch 48/100\n",
            "274/274 [==============================] - 1s 3ms/step - loss: 0.2934 - accuracy: 0.8768 - val_loss: 0.3740 - val_accuracy: 0.8403\n",
            "Epoch 49/100\n",
            "274/274 [==============================] - 1s 3ms/step - loss: 0.2888 - accuracy: 0.8791 - val_loss: 0.3809 - val_accuracy: 0.8381\n",
            "Epoch 50/100\n",
            "274/274 [==============================] - 1s 3ms/step - loss: 0.2900 - accuracy: 0.8779 - val_loss: 0.3840 - val_accuracy: 0.8341\n",
            "Epoch 51/100\n",
            "274/274 [==============================] - 1s 3ms/step - loss: 0.2884 - accuracy: 0.8765 - val_loss: 0.3864 - val_accuracy: 0.8336\n",
            "Epoch 52/100\n",
            "274/274 [==============================] - 1s 3ms/step - loss: 0.2866 - accuracy: 0.8786 - val_loss: 0.3889 - val_accuracy: 0.8335\n",
            "Epoch 53/100\n",
            "274/274 [==============================] - 1s 5ms/step - loss: 0.2845 - accuracy: 0.8810 - val_loss: 0.3973 - val_accuracy: 0.8300\n",
            "Epoch 54/100\n",
            "274/274 [==============================] - 1s 5ms/step - loss: 0.2837 - accuracy: 0.8821 - val_loss: 0.3864 - val_accuracy: 0.8332\n",
            "Epoch 55/100\n",
            "274/274 [==============================] - 1s 5ms/step - loss: 0.2810 - accuracy: 0.8846 - val_loss: 0.3813 - val_accuracy: 0.8379\n",
            "Epoch 56/100\n",
            "274/274 [==============================] - 1s 3ms/step - loss: 0.2809 - accuracy: 0.8829 - val_loss: 0.3806 - val_accuracy: 0.8405\n",
            "Epoch 57/100\n",
            "274/274 [==============================] - 1s 3ms/step - loss: 0.2790 - accuracy: 0.8820 - val_loss: 0.3931 - val_accuracy: 0.8388\n",
            "Epoch 58/100\n",
            "274/274 [==============================] - 1s 3ms/step - loss: 0.2761 - accuracy: 0.8829 - val_loss: 0.3925 - val_accuracy: 0.8341\n",
            "Epoch 59/100\n",
            "274/274 [==============================] - 1s 3ms/step - loss: 0.2764 - accuracy: 0.8846 - val_loss: 0.3882 - val_accuracy: 0.8376\n",
            "Epoch 60/100\n",
            "274/274 [==============================] - 1s 3ms/step - loss: 0.2767 - accuracy: 0.8839 - val_loss: 0.4048 - val_accuracy: 0.8312\n",
            "Epoch 61/100\n",
            "274/274 [==============================] - 1s 3ms/step - loss: 0.2741 - accuracy: 0.8853 - val_loss: 0.3880 - val_accuracy: 0.8361\n",
            "Epoch 62/100\n",
            "274/274 [==============================] - 1s 3ms/step - loss: 0.2764 - accuracy: 0.8852 - val_loss: 0.4078 - val_accuracy: 0.8259\n",
            "Epoch 63/100\n",
            "274/274 [==============================] - 1s 3ms/step - loss: 0.2699 - accuracy: 0.8877 - val_loss: 0.3990 - val_accuracy: 0.8355\n",
            "Epoch 64/100\n",
            "274/274 [==============================] - 1s 3ms/step - loss: 0.2705 - accuracy: 0.8861 - val_loss: 0.4121 - val_accuracy: 0.8281\n",
            "Epoch 65/100\n",
            "274/274 [==============================] - 1s 3ms/step - loss: 0.2681 - accuracy: 0.8875 - val_loss: 0.4130 - val_accuracy: 0.8248\n",
            "Epoch 66/100\n",
            "274/274 [==============================] - 1s 3ms/step - loss: 0.2684 - accuracy: 0.8866 - val_loss: 0.4044 - val_accuracy: 0.8313\n",
            "Epoch 67/100\n",
            "274/274 [==============================] - 1s 3ms/step - loss: 0.2671 - accuracy: 0.8873 - val_loss: 0.4062 - val_accuracy: 0.8328\n",
            "Epoch 68/100\n",
            "274/274 [==============================] - 1s 3ms/step - loss: 0.2647 - accuracy: 0.8896 - val_loss: 0.4030 - val_accuracy: 0.8293\n",
            "Epoch 69/100\n",
            "274/274 [==============================] - 1s 3ms/step - loss: 0.2634 - accuracy: 0.8895 - val_loss: 0.4066 - val_accuracy: 0.8360\n",
            "Epoch 70/100\n",
            "274/274 [==============================] - 1s 3ms/step - loss: 0.2631 - accuracy: 0.8899 - val_loss: 0.4090 - val_accuracy: 0.8297\n",
            "Epoch 71/100\n",
            "274/274 [==============================] - 1s 3ms/step - loss: 0.2624 - accuracy: 0.8901 - val_loss: 0.4117 - val_accuracy: 0.8328\n",
            "Epoch 72/100\n",
            "274/274 [==============================] - 1s 3ms/step - loss: 0.2648 - accuracy: 0.8883 - val_loss: 0.4053 - val_accuracy: 0.8316\n",
            "Epoch 73/100\n",
            "274/274 [==============================] - 1s 3ms/step - loss: 0.2581 - accuracy: 0.8937 - val_loss: 0.4115 - val_accuracy: 0.8359\n",
            "Epoch 74/100\n",
            "274/274 [==============================] - 1s 3ms/step - loss: 0.2594 - accuracy: 0.8912 - val_loss: 0.4061 - val_accuracy: 0.8292\n",
            "Epoch 75/100\n",
            "274/274 [==============================] - 1s 3ms/step - loss: 0.2559 - accuracy: 0.8937 - val_loss: 0.4120 - val_accuracy: 0.8329\n",
            "Epoch 76/100\n",
            "274/274 [==============================] - 1s 3ms/step - loss: 0.2570 - accuracy: 0.8923 - val_loss: 0.4154 - val_accuracy: 0.8301\n",
            "Epoch 77/100\n",
            "274/274 [==============================] - 1s 3ms/step - loss: 0.2572 - accuracy: 0.8938 - val_loss: 0.4179 - val_accuracy: 0.8295\n",
            "Epoch 78/100\n",
            "274/274 [==============================] - 1s 3ms/step - loss: 0.2554 - accuracy: 0.8928 - val_loss: 0.4210 - val_accuracy: 0.8271\n",
            "Epoch 79/100\n",
            "274/274 [==============================] - 1s 3ms/step - loss: 0.2535 - accuracy: 0.8957 - val_loss: 0.4283 - val_accuracy: 0.8279\n",
            "Epoch 80/100\n",
            "274/274 [==============================] - 1s 3ms/step - loss: 0.2499 - accuracy: 0.8959 - val_loss: 0.4273 - val_accuracy: 0.8299\n",
            "Epoch 81/100\n",
            "274/274 [==============================] - 1s 3ms/step - loss: 0.2493 - accuracy: 0.8982 - val_loss: 0.4261 - val_accuracy: 0.8288\n",
            "Epoch 82/100\n",
            "274/274 [==============================] - 1s 3ms/step - loss: 0.2499 - accuracy: 0.8938 - val_loss: 0.4307 - val_accuracy: 0.8205\n",
            "Epoch 83/100\n",
            "274/274 [==============================] - 1s 3ms/step - loss: 0.2469 - accuracy: 0.8969 - val_loss: 0.4310 - val_accuracy: 0.8287\n",
            "Epoch 84/100\n",
            "274/274 [==============================] - 1s 3ms/step - loss: 0.2463 - accuracy: 0.8975 - val_loss: 0.4291 - val_accuracy: 0.8291\n",
            "Epoch 85/100\n",
            "274/274 [==============================] - 1s 3ms/step - loss: 0.2444 - accuracy: 0.8980 - val_loss: 0.4232 - val_accuracy: 0.8292\n",
            "Epoch 86/100\n",
            "274/274 [==============================] - 1s 3ms/step - loss: 0.2454 - accuracy: 0.8983 - val_loss: 0.4281 - val_accuracy: 0.8265\n",
            "Epoch 87/100\n",
            "274/274 [==============================] - 1s 3ms/step - loss: 0.2439 - accuracy: 0.8986 - val_loss: 0.4344 - val_accuracy: 0.8261\n",
            "Epoch 88/100\n",
            "274/274 [==============================] - 1s 3ms/step - loss: 0.2432 - accuracy: 0.9010 - val_loss: 0.4376 - val_accuracy: 0.8273\n",
            "Epoch 89/100\n",
            "274/274 [==============================] - 2s 6ms/step - loss: 0.2403 - accuracy: 0.9019 - val_loss: 0.4504 - val_accuracy: 0.8217\n",
            "Epoch 90/100\n",
            "274/274 [==============================] - 1s 5ms/step - loss: 0.2411 - accuracy: 0.9006 - val_loss: 0.4328 - val_accuracy: 0.8263\n",
            "Epoch 91/100\n",
            "274/274 [==============================] - 2s 6ms/step - loss: 0.2391 - accuracy: 0.9012 - val_loss: 0.4444 - val_accuracy: 0.8247\n",
            "Epoch 92/100\n",
            "274/274 [==============================] - 2s 7ms/step - loss: 0.2388 - accuracy: 0.9012 - val_loss: 0.4439 - val_accuracy: 0.8255\n",
            "Epoch 93/100\n",
            "274/274 [==============================] - 1s 5ms/step - loss: 0.2361 - accuracy: 0.9026 - val_loss: 0.4422 - val_accuracy: 0.8267\n",
            "Epoch 94/100\n",
            "274/274 [==============================] - 2s 6ms/step - loss: 0.2346 - accuracy: 0.9045 - val_loss: 0.4497 - val_accuracy: 0.8257\n",
            "Epoch 95/100\n",
            "274/274 [==============================] - 1s 5ms/step - loss: 0.2352 - accuracy: 0.9029 - val_loss: 0.4481 - val_accuracy: 0.8251\n",
            "Epoch 96/100\n",
            "274/274 [==============================] - 2s 6ms/step - loss: 0.2321 - accuracy: 0.9047 - val_loss: 0.4619 - val_accuracy: 0.8229\n",
            "Epoch 97/100\n",
            "274/274 [==============================] - 2s 7ms/step - loss: 0.2313 - accuracy: 0.9053 - val_loss: 0.4626 - val_accuracy: 0.8237\n",
            "Epoch 98/100\n",
            "274/274 [==============================] - 2s 7ms/step - loss: 0.2308 - accuracy: 0.9062 - val_loss: 0.4636 - val_accuracy: 0.8221\n",
            "Epoch 99/100\n",
            "274/274 [==============================] - 2s 6ms/step - loss: 0.2291 - accuracy: 0.9077 - val_loss: 0.4621 - val_accuracy: 0.8225\n",
            "Epoch 100/100\n",
            "274/274 [==============================] - 2s 7ms/step - loss: 0.2289 - accuracy: 0.9073 - val_loss: 0.4577 - val_accuracy: 0.8257\n"
          ]
        }
      ]
    },
    {
      "cell_type": "markdown",
      "source": [
        "Repeat the same process for test data"
      ],
      "metadata": {
        "id": "M6MW2Hsj02xX"
      }
    },
    {
      "cell_type": "code",
      "source": [
        "#copy this chunk from Philipp\n",
        "N=len(test_data)\n",
        "decoded_reviews_test = [\"\" for x in range(N)]\n",
        "\n",
        "for j in range(N):\n",
        "  decoded_reviews_test[j] = \" \".join(\n",
        "    [reverse_word_index.get(i - 3, \"?\") for i in test_data[j]])\n",
        "  \n",
        "# Get rid of beginning \"?\"\n",
        "decoded_reviews_test = [review[2:] for review in decoded_reviews_test]\n",
        "\n",
        "# Prepare the dataset for the word2vec model\n",
        "corpus_test=[doc.split() for doc in decoded_reviews_test]\n",
        "\n",
        "# Document representation for the text\n",
        "corpus_w2v_test=[[model.wv[word] for word in doc if word in model.wv.vocab.keys()] for doc in corpus_test]\n",
        "positive_test=[i for i in range(len(corpus_test)) if len(corpus_w2v_test[i])>0]\n",
        "\n",
        "corpus_w2v2_test=[corpus_w2v_test[i] for i in positive_test]\n",
        "\n",
        "# Document average representation\n",
        "corpus_w2v_avg_clean_test=[sum(words)/len(words) for words in corpus_w2v2_test]"
      ],
      "metadata": {
        "id": "w8VW6tMh02AC"
      },
      "execution_count": 15,
      "outputs": []
    },
    {
      "cell_type": "code",
      "source": [
        "score = model_clf.evaluate(np.array(corpus_w2v_avg_clean_test), test_labels, verbose=0)\n",
        "print('Test loss:', score[0])\n",
        "print('Test accuracy:', score[1])"
      ],
      "metadata": {
        "colab": {
          "base_uri": "https://localhost:8080/"
        },
        "id": "7zS9fG-31n2k",
        "outputId": "a3f38148-42d8-4833-a411-13bcbfdc0d31"
      },
      "execution_count": 18,
      "outputs": [
        {
          "output_type": "stream",
          "name": "stdout",
          "text": [
            "Test loss: 0.4664921760559082\n",
            "Test accuracy: 0.8197600245475769\n"
          ]
        }
      ]
    },
    {
      "cell_type": "code",
      "source": [
        "import matplotlib.pyplot as plt\n",
        "# Visualize history\n",
        "# Plot history: Validation loss\n",
        "plt.plot(history.history['loss'])\n",
        "plt.title('Validation loss history')\n",
        "plt.ylabel('Loss value')\n",
        "plt.xlabel('No. epoch')\n",
        "plt.show()\n",
        "\n",
        "# Plot history: Accuracy\n",
        "plt.plot(history.history['accuracy'])\n",
        "plt.title('Validation accuracy history')\n",
        "plt.ylabel('Accuracy value (%)')\n",
        "plt.xlabel('No. epoch')\n",
        "plt.show()"
      ],
      "metadata": {
        "colab": {
          "base_uri": "https://localhost:8080/",
          "height": 573
        },
        "id": "uDtz2U-x3t5P",
        "outputId": "d2a68780-0e54-4a3c-bbf6-4e1f814b1f19"
      },
      "execution_count": 19,
      "outputs": [
        {
          "output_type": "display_data",
          "data": {
            "text/plain": [
              "<Figure size 432x288 with 1 Axes>"
            ],
            "image/png": "[encoded data removed]"
          },
          "metadata": {
            "needs_background": "light"
          }
        },
        {
          "output_type": "display_data",
          "data": {
            "text/plain": [
              "<Figure size 432x288 with 1 Axes>"
            ],
            "image/png": "[encoded data removed]"
          },
          "metadata": {
            "needs_background": "light"
          }
        }
      ]
    }
  ],
  "metadata": {
    "colab": {
      "name": "NL_Class5_HW.ipynb",
      "provenance": [],
      "collapsed_sections": [],
      "include_colab_link": true
    },
    "kernelspec": {
      "display_name": "Python 3",
      "language": "python",
      "name": "python3"
    },
    "language_info": {
      "codemirror_mode": {
        "name": "ipython",
        "version": 3
      },
      "file_extension": ".py",
      "mimetype": "text/x-python",
      "name": "python",
      "nbconvert_exporter": "python",
      "pygments_lexer": "ipython3",
      "version": "3.8.3"
    }
  },
  "nbformat": 4,
  "nbformat_minor": 0
}