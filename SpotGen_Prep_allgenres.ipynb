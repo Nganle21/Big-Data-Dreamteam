{
  "cells": [
    {
      "cell_type": "code",
      "execution_count": 2,
      "metadata": {
        "colab": {
          "base_uri": "https://localhost:8080/"
        },
        "id": "Uzs60TTvNPFK",
        "outputId": "7e6cf895-810b-4106-c4c4-05388ba6c09b"
      },
      "outputs": [
        {
          "name": "stdout",
          "output_type": "stream",
          "text": [
            "Looking in indexes: https://pypi.org/simple, https://us-python.pkg.dev/colab-wheels/public/simple/\n",
            "Collecting np_utils\n",
            "  Downloading np_utils-0.6.0.tar.gz (61 kB)\n",
            "\u001b[K     |████████████████████████████████| 61 kB 571 kB/s \n",
            "\u001b[?25hRequirement already satisfied: numpy>=1.0 in /usr/local/lib/python3.7/dist-packages (from np_utils) (1.21.6)\n",
            "Building wheels for collected packages: np-utils\n",
            "  Building wheel for np-utils (setup.py) ... \u001b[?25l\u001b[?25hdone\n",
            "  Created wheel for np-utils: filename=np_utils-0.6.0-py3-none-any.whl size=56459 sha256=50393ef079fde7b06a8f3b24990b5ebce1dcc5c6e931b7f0d1818ecbb9c9b537\n",
            "  Stored in directory: /root/.cache/pip/wheels/d2/83/71/a781667865955ae7dc18e5a4038401deb56d96eb85d3a5f1c0\n",
            "Successfully built np-utils\n",
            "Installing collected packages: np-utils\n",
            "Successfully installed np-utils-0.6.0\n"
          ]
        }
      ],
      "source": [
        "!pip install np_utils"
      ]
    },
    {
      "cell_type": "code",
      "execution_count": null,
      "metadata": {},
      "outputs": [],
      "source": [
        "!pip install gcsfs"
      ]
    },
    {
      "cell_type": "code",
      "execution_count": 3,
      "metadata": {
        "id": "WoX2oW7hiIfv"
      },
      "outputs": [],
      "source": [
        "import tensorflow as tf\n",
        "import pandas as pd\n",
        "import numpy as np\n",
        "import os\n",
        "import time\n",
        "import re\n",
        "import np_utils\n",
        "import seaborn as sns\n",
        "import matplotlib.pyplot as plt\n",
        "import string, os\n",
        "import nltk\n",
        "import re\n",
        "import keras\n",
        "import random\n",
        "import io\n",
        "from keras.utils import np_utils\n",
        "from keras.models import Sequential\n",
        "from keras.layers import LSTM, Dense, Dropout\n",
        "#from tensorflow.keras.optimizers import Adamax\n",
        "import sys\n",
        "from PIL import Image\n",
        "from wordcloud import WordCloud, STOPWORDS, ImageColorGenerator\n",
        "from PIL import Image, ImageDraw, ImageFont\n",
        "import warnings\n",
        "warnings.filterwarnings(\"ignore\")\n",
        "import pickle\n",
        "import gcsfs"
      ]
    },
    {
      "cell_type": "code",
      "execution_count": 4,
      "metadata": {
        "colab": {
          "base_uri": "https://localhost:8080/"
        },
        "id": "Hmu0L-P1PQl-",
        "outputId": "70a68d42-1620-4030-cfb6-f6541dd48e87"
      },
      "outputs": [
        {
          "name": "stdout",
          "output_type": "stream",
          "text": [
            "Mounted at /content/drive\n"
          ]
        }
      ],
      "source": [
        "from google.colab import drive\n",
        "drive.mount('/content/drive')"
      ]
    },
    {
      "cell_type": "code",
      "execution_count": null,
      "metadata": {},
      "outputs": [],
      "source": [
        "\n",
        "with fs.open('big-data-lyrician/filtered_track_df.csv') as f:\n",
        "fs = gcsfs.GCSFileSystem()    df = pd.read_csv(f)\n",
        "\n",
        "df"
      ]
    },
    {
      "cell_type": "code",
      "execution_count": 6,
      "metadata": {
        "colab": {
          "base_uri": "https://localhost:8080/",
          "height": 560
        },
        "id": "Ozqb_TO6iIgD",
        "outputId": "58dfea73-90f1-4e93-fb9e-e0170f2d01fc"
      },
      "outputs": [
        {
          "data": {
            "text/html": [
              "\n",
              "  <div id=\"df-d79c7f63-bb8a-4fb7-ab62-794906a48c28\">\n",
              "    <div class=\"colab-df-container\">\n",
              "      <div>\n",
              "<style scoped>\n",
              "    .dataframe tbody tr th:only-of-type {\n",
              "        vertical-align: middle;\n",
              "    }\n",
              "\n",
              "    .dataframe tbody tr th {\n",
              "        vertical-align: top;\n",
              "    }\n",
              "\n",
              "    .dataframe thead th {\n",
              "        text-align: right;\n",
              "    }\n",
              "</style>\n",
              "<table border=\"1\" class=\"dataframe\">\n",
              "  <thead>\n",
              "    <tr style=\"text-align: right;\">\n",
              "      <th></th>\n",
              "      <th>artists_id</th>\n",
              "      <th>acousticness</th>\n",
              "      <th>danceability</th>\n",
              "      <th>disc_number</th>\n",
              "      <th>duration_ms</th>\n",
              "      <th>energy</th>\n",
              "      <th>href</th>\n",
              "      <th>id</th>\n",
              "      <th>instrumentalness</th>\n",
              "      <th>key</th>\n",
              "      <th>...</th>\n",
              "      <th>speechiness</th>\n",
              "      <th>tempo</th>\n",
              "      <th>time_signature</th>\n",
              "      <th>track_href</th>\n",
              "      <th>uri</th>\n",
              "      <th>valence</th>\n",
              "      <th>release_date</th>\n",
              "      <th>artists_name</th>\n",
              "      <th>genres</th>\n",
              "      <th>release_year</th>\n",
              "    </tr>\n",
              "  </thead>\n",
              "  <tbody>\n",
              "    <tr>\n",
              "      <th>0</th>\n",
              "      <td>68WwJXWrpo1yVOOIZjLSeT</td>\n",
              "      <td>0.0268</td>\n",
              "      <td>0.506</td>\n",
              "      <td>1.0</td>\n",
              "      <td>248777.0</td>\n",
              "      <td>0.741</td>\n",
              "      <td>https://api.spotify.com/v1/tracks/0UATU9OJxh4m...</td>\n",
              "      <td>0UATU9OJxh4m3fwDljdGZn</td>\n",
              "      <td>0.000027</td>\n",
              "      <td>1.0</td>\n",
              "      <td>...</td>\n",
              "      <td>0.0349</td>\n",
              "      <td>94.042</td>\n",
              "      <td>4.0</td>\n",
              "      <td>https://api.spotify.com/v1/tracks/0UATU9OJxh4m...</td>\n",
              "      <td>0UATU9OJxh4m3fwDljdGZn</td>\n",
              "      <td>0.236</td>\n",
              "      <td>2018-09-28</td>\n",
              "      <td>Evalyn</td>\n",
              "      <td>['electropop', 'indie electro-pop', 'indie pop...</td>\n",
              "      <td>2018</td>\n",
              "    </tr>\n",
              "    <tr>\n",
              "      <th>1</th>\n",
              "      <td>6pSsE5y0uJMwYj83KrPyf9</td>\n",
              "      <td>0.1330</td>\n",
              "      <td>0.629</td>\n",
              "      <td>1.0</td>\n",
              "      <td>207396.0</td>\n",
              "      <td>0.706</td>\n",
              "      <td>https://api.spotify.com/v1/tracks/0h7Ld5CvgzaU...</td>\n",
              "      <td>0h7Ld5CvgzaUN1zA3tdyPq</td>\n",
              "      <td>0.000000</td>\n",
              "      <td>1.0</td>\n",
              "      <td>...</td>\n",
              "      <td>0.4360</td>\n",
              "      <td>81.220</td>\n",
              "      <td>4.0</td>\n",
              "      <td>https://api.spotify.com/v1/tracks/0h7Ld5CvgzaU...</td>\n",
              "      <td>0h7Ld5CvgzaUN1zA3tdyPq</td>\n",
              "      <td>0.543</td>\n",
              "      <td>2019-01-25</td>\n",
              "      <td>Dawn Richard</td>\n",
              "      <td>['alternative r&amp;b', 'deep pop r&amp;b', 'escape ro...</td>\n",
              "      <td>2019</td>\n",
              "    </tr>\n",
              "    <tr>\n",
              "      <th>2</th>\n",
              "      <td>09hVIj6vWgoCDtT03h8ZCa</td>\n",
              "      <td>0.0316</td>\n",
              "      <td>0.727</td>\n",
              "      <td>1.0</td>\n",
              "      <td>218773.0</td>\n",
              "      <td>0.380</td>\n",
              "      <td>https://api.spotify.com/v1/tracks/758mQT4zzlvB...</td>\n",
              "      <td>758mQT4zzlvBhy9PvNePwC</td>\n",
              "      <td>0.000000</td>\n",
              "      <td>7.0</td>\n",
              "      <td>...</td>\n",
              "      <td>0.3350</td>\n",
              "      <td>92.050</td>\n",
              "      <td>4.0</td>\n",
              "      <td>https://api.spotify.com/v1/tracks/758mQT4zzlvB...</td>\n",
              "      <td>758mQT4zzlvBhy9PvNePwC</td>\n",
              "      <td>0.455</td>\n",
              "      <td>1991-09-24</td>\n",
              "      <td>A Tribe Called Quest</td>\n",
              "      <td>['alternative hip hop', 'conscious hip hop', '...</td>\n",
              "      <td>1991</td>\n",
              "    </tr>\n",
              "    <tr>\n",
              "      <th>3</th>\n",
              "      <td>09hVIj6vWgoCDtT03h8ZCa</td>\n",
              "      <td>0.1140</td>\n",
              "      <td>0.887</td>\n",
              "      <td>1.0</td>\n",
              "      <td>217467.0</td>\n",
              "      <td>0.419</td>\n",
              "      <td>https://api.spotify.com/v1/tracks/6GAemDMWAXa8...</td>\n",
              "      <td>6GAemDMWAXa8wZOBkO1gar</td>\n",
              "      <td>0.268000</td>\n",
              "      <td>10.0</td>\n",
              "      <td>...</td>\n",
              "      <td>0.3530</td>\n",
              "      <td>96.149</td>\n",
              "      <td>4.0</td>\n",
              "      <td>https://api.spotify.com/v1/tracks/6GAemDMWAXa8...</td>\n",
              "      <td>6GAemDMWAXa8wZOBkO1gar</td>\n",
              "      <td>0.576</td>\n",
              "      <td>1991-09-24</td>\n",
              "      <td>A Tribe Called Quest</td>\n",
              "      <td>['alternative hip hop', 'conscious hip hop', '...</td>\n",
              "      <td>1991</td>\n",
              "    </tr>\n",
              "    <tr>\n",
              "      <th>4</th>\n",
              "      <td>09hVIj6vWgoCDtT03h8ZCa</td>\n",
              "      <td>0.1980</td>\n",
              "      <td>0.674</td>\n",
              "      <td>1.0</td>\n",
              "      <td>260000.0</td>\n",
              "      <td>0.582</td>\n",
              "      <td>https://api.spotify.com/v1/tracks/5id38dZomKgo...</td>\n",
              "      <td>5id38dZomKgo2h4ccxTyzT</td>\n",
              "      <td>0.000400</td>\n",
              "      <td>0.0</td>\n",
              "      <td>...</td>\n",
              "      <td>0.2300</td>\n",
              "      <td>92.650</td>\n",
              "      <td>4.0</td>\n",
              "      <td>https://api.spotify.com/v1/tracks/5id38dZomKgo...</td>\n",
              "      <td>5id38dZomKgo2h4ccxTyzT</td>\n",
              "      <td>0.690</td>\n",
              "      <td>1992-06-01</td>\n",
              "      <td>A Tribe Called Quest</td>\n",
              "      <td>['alternative hip hop', 'conscious hip hop', '...</td>\n",
              "      <td>1992</td>\n",
              "    </tr>\n",
              "  </tbody>\n",
              "</table>\n",
              "<p>5 rows × 28 columns</p>\n",
              "</div>\n",
              "      <button class=\"colab-df-convert\" onclick=\"convertToInteractive('df-d79c7f63-bb8a-4fb7-ab62-794906a48c28')\"\n",
              "              title=\"Convert this dataframe to an interactive table.\"\n",
              "              style=\"display:none;\">\n",
              "        \n",
              "  <svg xmlns=\"http://www.w3.org/2000/svg\" height=\"24px\"viewBox=\"0 0 24 24\"\n",
              "       width=\"24px\">\n",
              "    <path d=\"M0 0h24v24H0V0z\" fill=\"none\"/>\n",
              "    <path d=\"M18.56 5.44l.94 2.06.94-2.06 2.06-.94-2.06-.94-.94-2.06-.94 2.06-2.06.94zm-11 1L8.5 8.5l.94-2.06 2.06-.94-2.06-.94L8.5 2.5l-.94 2.06-2.06.94zm10 10l.94 2.06.94-2.06 2.06-.94-2.06-.94-.94-2.06-.94 2.06-2.06.94z\"/><path d=\"M17.41 7.96l-1.37-1.37c-.4-.4-.92-.59-1.43-.59-.52 0-1.04.2-1.43.59L10.3 9.45l-7.72 7.72c-.78.78-.78 2.05 0 2.83L4 21.41c.39.39.9.59 1.41.59.51 0 1.02-.2 1.41-.59l7.78-7.78 2.81-2.81c.8-.78.8-2.07 0-2.86zM5.41 20L4 18.59l7.72-7.72 1.47 1.35L5.41 20z\"/>\n",
              "  </svg>\n",
              "      </button>\n",
              "      \n",
              "  <style>\n",
              "    .colab-df-container {\n",
              "      display:flex;\n",
              "      flex-wrap:wrap;\n",
              "      gap: 12px;\n",
              "    }\n",
              "\n",
              "    .colab-df-convert {\n",
              "      background-color: #E8F0FE;\n",
              "      border: none;\n",
              "      border-radius: 50%;\n",
              "      cursor: pointer;\n",
              "      display: none;\n",
              "      fill: #1967D2;\n",
              "      height: 32px;\n",
              "      padding: 0 0 0 0;\n",
              "      width: 32px;\n",
              "    }\n",
              "\n",
              "    .colab-df-convert:hover {\n",
              "      background-color: #E2EBFA;\n",
              "      box-shadow: 0px 1px 2px rgba(60, 64, 67, 0.3), 0px 1px 3px 1px rgba(60, 64, 67, 0.15);\n",
              "      fill: #174EA6;\n",
              "    }\n",
              "\n",
              "    [theme=dark] .colab-df-convert {\n",
              "      background-color: #3B4455;\n",
              "      fill: #D2E3FC;\n",
              "    }\n",
              "\n",
              "    [theme=dark] .colab-df-convert:hover {\n",
              "      background-color: #434B5C;\n",
              "      box-shadow: 0px 1px 3px 1px rgba(0, 0, 0, 0.15);\n",
              "      filter: drop-shadow(0px 1px 2px rgba(0, 0, 0, 0.3));\n",
              "      fill: #FFFFFF;\n",
              "    }\n",
              "  </style>\n",
              "\n",
              "      <script>\n",
              "        const buttonEl =\n",
              "          document.querySelector('#df-d79c7f63-bb8a-4fb7-ab62-794906a48c28 button.colab-df-convert');\n",
              "        buttonEl.style.display =\n",
              "          google.colab.kernel.accessAllowed ? 'block' : 'none';\n",
              "\n",
              "        async function convertToInteractive(key) {\n",
              "          const element = document.querySelector('#df-d79c7f63-bb8a-4fb7-ab62-794906a48c28');\n",
              "          const dataTable =\n",
              "            await google.colab.kernel.invokeFunction('convertToInteractive',\n",
              "                                                     [key], {});\n",
              "          if (!dataTable) return;\n",
              "\n",
              "          const docLinkHtml = 'Like what you see? Visit the ' +\n",
              "            '<a target=\"_blank\" href=https://colab.research.google.com/notebooks/data_table.ipynb>data table notebook</a>'\n",
              "            + ' to learn more about interactive tables.';\n",
              "          element.innerHTML = '';\n",
              "          dataTable['output_type'] = 'display_data';\n",
              "          await google.colab.output.renderOutput(dataTable, element);\n",
              "          const docLink = document.createElement('div');\n",
              "          docLink.innerHTML = docLinkHtml;\n",
              "          element.appendChild(docLink);\n",
              "        }\n",
              "      </script>\n",
              "    </div>\n",
              "  </div>\n",
              "  "
            ],
            "text/plain": [
              "               artists_id  acousticness  danceability  disc_number  \\\n",
              "0  68WwJXWrpo1yVOOIZjLSeT        0.0268         0.506          1.0   \n",
              "1  6pSsE5y0uJMwYj83KrPyf9        0.1330         0.629          1.0   \n",
              "2  09hVIj6vWgoCDtT03h8ZCa        0.0316         0.727          1.0   \n",
              "3  09hVIj6vWgoCDtT03h8ZCa        0.1140         0.887          1.0   \n",
              "4  09hVIj6vWgoCDtT03h8ZCa        0.1980         0.674          1.0   \n",
              "\n",
              "   duration_ms  energy                                               href  \\\n",
              "0     248777.0   0.741  https://api.spotify.com/v1/tracks/0UATU9OJxh4m...   \n",
              "1     207396.0   0.706  https://api.spotify.com/v1/tracks/0h7Ld5CvgzaU...   \n",
              "2     218773.0   0.380  https://api.spotify.com/v1/tracks/758mQT4zzlvB...   \n",
              "3     217467.0   0.419  https://api.spotify.com/v1/tracks/6GAemDMWAXa8...   \n",
              "4     260000.0   0.582  https://api.spotify.com/v1/tracks/5id38dZomKgo...   \n",
              "\n",
              "                       id  instrumentalness   key  ...  speechiness   tempo  \\\n",
              "0  0UATU9OJxh4m3fwDljdGZn          0.000027   1.0  ...       0.0349  94.042   \n",
              "1  0h7Ld5CvgzaUN1zA3tdyPq          0.000000   1.0  ...       0.4360  81.220   \n",
              "2  758mQT4zzlvBhy9PvNePwC          0.000000   7.0  ...       0.3350  92.050   \n",
              "3  6GAemDMWAXa8wZOBkO1gar          0.268000  10.0  ...       0.3530  96.149   \n",
              "4  5id38dZomKgo2h4ccxTyzT          0.000400   0.0  ...       0.2300  92.650   \n",
              "\n",
              "  time_signature                                         track_href  \\\n",
              "0            4.0  https://api.spotify.com/v1/tracks/0UATU9OJxh4m...   \n",
              "1            4.0  https://api.spotify.com/v1/tracks/0h7Ld5CvgzaU...   \n",
              "2            4.0  https://api.spotify.com/v1/tracks/758mQT4zzlvB...   \n",
              "3            4.0  https://api.spotify.com/v1/tracks/6GAemDMWAXa8...   \n",
              "4            4.0  https://api.spotify.com/v1/tracks/5id38dZomKgo...   \n",
              "\n",
              "                      uri valence  release_date          artists_name  \\\n",
              "0  0UATU9OJxh4m3fwDljdGZn   0.236    2018-09-28                Evalyn   \n",
              "1  0h7Ld5CvgzaUN1zA3tdyPq   0.543    2019-01-25          Dawn Richard   \n",
              "2  758mQT4zzlvBhy9PvNePwC   0.455    1991-09-24  A Tribe Called Quest   \n",
              "3  6GAemDMWAXa8wZOBkO1gar   0.576    1991-09-24  A Tribe Called Quest   \n",
              "4  5id38dZomKgo2h4ccxTyzT   0.690    1992-06-01  A Tribe Called Quest   \n",
              "\n",
              "                                              genres  release_year  \n",
              "0  ['electropop', 'indie electro-pop', 'indie pop...          2018  \n",
              "1  ['alternative r&b', 'deep pop r&b', 'escape ro...          2019  \n",
              "2  ['alternative hip hop', 'conscious hip hop', '...          1991  \n",
              "3  ['alternative hip hop', 'conscious hip hop', '...          1991  \n",
              "4  ['alternative hip hop', 'conscious hip hop', '...          1992  \n",
              "\n",
              "[5 rows x 28 columns]"
            ]
          },
          "execution_count": 6,
          "metadata": {},
          "output_type": "execute_result"
        }
      ],
      "source": [
        "df.head()"
      ]
    },
    {
      "cell_type": "code",
      "execution_count": 7,
      "metadata": {
        "colab": {
          "base_uri": "https://localhost:8080/"
        },
        "id": "59HfQRvwiIhF",
        "outputId": "fcb2987b-a053-4327-8dd3-edb53d45607e"
      },
      "outputs": [
        {
          "data": {
            "text/plain": [
              "(3486, 28)"
            ]
          },
          "execution_count": 7,
          "metadata": {},
          "output_type": "execute_result"
        }
      ],
      "source": [
        "df.shape"
      ]
    },
    {
      "cell_type": "code",
      "execution_count": 8,
      "metadata": {
        "colab": {
          "base_uri": "https://localhost:8080/"
        },
        "id": "ec_EKugwiIhH",
        "outputId": "dab859d6-62e5-4506-96e8-66073e62e895"
      },
      "outputs": [
        {
          "data": {
            "text/plain": [
              "Index(['artists_id', 'acousticness', 'danceability', 'disc_number',\n",
              "       'duration_ms', 'energy', 'href', 'id', 'instrumentalness', 'key',\n",
              "       'liveness', 'loudness', 'lyrics', 'mode', 'name', 'playlist',\n",
              "       'popularity', 'preview_url', 'speechiness', 'tempo', 'time_signature',\n",
              "       'track_href', 'uri', 'valence', 'release_date', 'artists_name',\n",
              "       'genres', 'release_year'],\n",
              "      dtype='object')"
            ]
          },
          "execution_count": 8,
          "metadata": {},
          "output_type": "execute_result"
        }
      ],
      "source": [
        "df.columns"
      ]
    },
    {
      "cell_type": "code",
      "execution_count": 9,
      "metadata": {
        "colab": {
          "base_uri": "https://localhost:8080/"
        },
        "id": "Y-xlO9S5iIhI",
        "outputId": "df7a15e4-4e9e-49be-a924-d555e4d10d8c"
      },
      "outputs": [
        {
          "data": {
            "text/plain": [
              "975"
            ]
          },
          "execution_count": 9,
          "metadata": {},
          "output_type": "execute_result"
        }
      ],
      "source": [
        "len(pd.unique(df[\"genres\"]))"
      ]
    },
    {
      "cell_type": "code",
      "execution_count": 10,
      "metadata": {
        "id": "Gc34Z5bPiIhP"
      },
      "outputs": [],
      "source": [
        "def load_data():\n",
        "    df = pd.read_csv(\"filtered_track_df.csv\")\n",
        "    df['genres'] = df.genres.apply(lambda x: [i[1:-1] for i in str(x)[1:-1].split(\", \")])\n",
        "    exploded_track_df = df.explode(\"genres\")\n",
        "    return exploded_track_df"
      ]
    },
    {
      "cell_type": "code",
      "execution_count": 11,
      "metadata": {
        "id": "IwP-AQ8riIhW"
      },
      "outputs": [],
      "source": [
        "exploded_track_df = load_data()"
      ]
    },
    {
      "cell_type": "code",
      "execution_count": 12,
      "metadata": {
        "id": "NN7_NM8xiIhb"
      },
      "outputs": [],
      "source": [
        "genre_names = ['dance pop', 'electronic', 'electropop', 'hip hop', 'jazz', 'k-pop', 'latin', 'pop', 'pop rap', 'r&b', 'rock']\n",
        "exploded_track_df = exploded_track_df.explode(\"genres\")[exploded_track_df.explode(\"genres\")[\"genres\"].isin(genre_names)]"
      ]
    },
    {
      "cell_type": "code",
      "execution_count": 13,
      "metadata": {
        "colab": {
          "base_uri": "https://localhost:8080/"
        },
        "id": "WY58G8s8iIh2",
        "outputId": "6a0ac977-60bf-4d68-8d62-83c05a9b1644"
      },
      "outputs": [
        {
          "data": {
            "text/plain": [
              "array(['electropop', 'r&b', 'hip hop', 'pop rap', 'rock', 'dance pop',\n",
              "       'pop', 'latin', 'k-pop', 'electronic', 'jazz'], dtype=object)"
            ]
          },
          "execution_count": 13,
          "metadata": {},
          "output_type": "execute_result"
        }
      ],
      "source": [
        "pd.unique(exploded_track_df['genres'])"
      ]
    },
    {
      "cell_type": "code",
      "execution_count": 14,
      "metadata": {
        "colab": {
          "base_uri": "https://localhost:8080/"
        },
        "id": "CTLJLDAIiIh3",
        "outputId": "3598a9ec-09c6-40e3-86c5-24b6a7b64ae6"
      },
      "outputs": [
        {
          "data": {
            "text/plain": [
              "genres\n",
              "dance pop     1136\n",
              "electronic     116\n",
              "electropop     538\n",
              "hip hop        336\n",
              "jazz            13\n",
              "k-pop          117\n",
              "latin           48\n",
              "pop           1518\n",
              "pop rap        574\n",
              "r&b            695\n",
              "rock           845\n",
              "Name: id, dtype: int64"
            ]
          },
          "execution_count": 14,
          "metadata": {},
          "output_type": "execute_result"
        }
      ],
      "source": [
        "exploded_track_df.groupby(['genres'])['id'].count()"
      ]
    },
    {
      "cell_type": "code",
      "execution_count": 15,
      "metadata": {
        "colab": {
          "base_uri": "https://localhost:8080/"
        },
        "id": "808_6Pr7iIiO",
        "outputId": "344b71c8-f307-4e85-9f1f-ed9513a2f62b"
      },
      "outputs": [
        {
          "name": "stdout",
          "output_type": "stream",
          "text": [
            "dance pop\n",
            "Number of unique characters: 555\n",
            "Total number of characters: 2132413\n",
            "Number of unique characters: 525\n",
            "Total number of sequences in the Corpus: 2132373\n",
            "electronic\n",
            "Number of unique characters: 58\n",
            "Total number of characters: 150925\n",
            "Number of unique characters: 45\n",
            "Total number of sequences in the Corpus: 150885\n",
            "electropop\n",
            "Number of unique characters: 135\n",
            "Total number of characters: 796487\n",
            "Number of unique characters: 112\n",
            "Total number of sequences in the Corpus: 796447\n",
            "hip hop\n",
            "Number of unique characters: 210\n",
            "Total number of characters: 909431\n",
            "Number of unique characters: 177\n",
            "Total number of sequences in the Corpus: 909391\n",
            "jazz\n",
            "Number of unique characters: 40\n",
            "Total number of characters: 13019\n",
            "Number of unique characters: 35\n",
            "Total number of sequences in the Corpus: 12979\n",
            "k-pop\n",
            "Number of unique characters: 1107\n",
            "Total number of characters: 374767\n",
            "Number of unique characters: 1093\n",
            "Total number of sequences in the Corpus: 374727\n",
            "latin\n",
            "Number of unique characters: 140\n",
            "Total number of characters: 72420\n",
            "Number of unique characters: 127\n",
            "Total number of sequences in the Corpus: 72380\n",
            "pop\n",
            "Number of unique characters: 209\n",
            "Total number of characters: 2753809\n",
            "Number of unique characters: 181\n",
            "Total number of sequences in the Corpus: 2753769\n",
            "pop rap\n",
            "Number of unique characters: 182\n",
            "Total number of characters: 1478574\n",
            "Number of unique characters: 154\n",
            "Total number of sequences in the Corpus: 1478534\n",
            "r&b\n",
            "Number of unique characters: 84\n",
            "Total number of characters: 1319857\n",
            "Number of unique characters: 59\n",
            "Total number of sequences in the Corpus: 1319817\n",
            "rock\n",
            "Number of unique characters: 74\n",
            "Total number of characters: 1051028\n",
            "Number of unique characters: 52\n",
            "Total number of sequences in the Corpus: 1050988\n"
          ]
        }
      ],
      "source": [
        "for genre in genre_names:\n",
        "  print(genre)\n",
        "  genre_track = exploded_track_df[exploded_track_df[\"genres\"] == genre]\n",
        "  #elec = exploded_track_df[exploded_track_df[\"genres\"] == \"electronic\"]\n",
        "#jazz[\"lyrics\"] = jazz.lyrics.apply(lambda x: str(x).split(\".\"))\n",
        "\n",
        "  genre_track = genre_track[[\"id\",\"lyrics\"]].drop(genre_track[genre_track.lyrics == \"-99\"].index)\n",
        "\n",
        "  #genre_track.to_csv(\"{0}_lyrics.csv\".format(genre), sep='\\t', encoding='utf-8')\n",
        "\n",
        "#Lining up all the lyrics to create corpus\n",
        "  Corpus =''\n",
        "  for listitem in genre_track.lyrics:\n",
        "    Corpus += listitem\n",
        "    \n",
        "  Corpus = Corpus.lower() #converting all alphabets to lowecase \n",
        "  print(\"Number of unique characters:\", len(set(Corpus)))\n",
        "\n",
        "#Keeping only a limited set of characters. \n",
        "  to_remove = ['{', '}', '~', '©', 'à', 'á', 'ã', 'ä', 'ç', 'è', 'é', 'ê', 'ë', 'í', 'ñ', 'ó', 'ö', 'ü', 'ŏ',\n",
        "             'е', 'ا', 'س', 'ل', 'م', 'و', '\\u2005', '\\u200a', '\\u200b', '–', '—', '‘', '’', '‚', '“', '”', \n",
        "             '…', '\\u205f', '\\ufeff', '!', '&', '(', ')', '*', '-',  '/', ]\n",
        "  for symbol in to_remove:\n",
        "    Corpus = Corpus.replace(symbol,\" \")\n",
        "\n",
        "# Storing all the unique characters present in my corpus to bult a mapping dic. \n",
        "  symb = sorted(list(set(Corpus)))\n",
        "\n",
        "  L_corpus = len(Corpus) #length of corpus\n",
        "  L_symb = len(symb) #length of total unique characters\n",
        "\n",
        "#Building dictionary to access the vocabulary from indices and vice versa\n",
        "  mapping = dict((c, i) for i, c in enumerate(symb))\n",
        "  reverse_mapping = dict((i, c) for i, c in enumerate(symb))\n",
        "\n",
        "  print(\"Total number of characters:\", L_corpus)\n",
        "  print(\"Number of unique characters:\", L_symb)\n",
        "\n",
        "#Splitting the Corpus in equal length of strings and output target\n",
        "  length = 40\n",
        "  features = []\n",
        "  targets = []\n",
        "  for i in range(0, L_corpus - length, 1):\n",
        "    feature = Corpus[i:i + length]\n",
        "    target = Corpus[i + length]\n",
        "    features.append([mapping[j] for j in feature])\n",
        "    targets.append(mapping[target])\n",
        "    \n",
        "  L_datapoints = len(targets)\n",
        "  print(\"Total number of sequences in the Corpus:\", L_datapoints)\n",
        "\n",
        "  f = open(\"text_{0}.txt\".format(genre), \"a\")\n",
        "  f.write(Corpus)\n",
        "  f.close()"
      ]
    }
  ],
  "metadata": {
    "colab": {
      "name": "SpotGen_Prep_allgenres.ipynb",
      "provenance": []
    },
    "interpreter": {
      "hash": "2c43054f391929e55ec2dd53a69ee0bb0f7edf09332a90e4ae5e13ebf7dbd3da"
    },
    "kernelspec": {
      "display_name": "Python 3.6.13 ('bigdata_pj': venv)",
      "language": "python",
      "name": "python3"
    },
    "language_info": {
      "codemirror_mode": {
        "name": "ipython",
        "version": 3
      },
      "file_extension": ".py",
      "mimetype": "text/x-python",
      "name": "python",
      "nbconvert_exporter": "python",
      "pygments_lexer": "ipython3",
      "version": "3.6.13"
    },
    "orig_nbformat": 4
  },
  "nbformat": 4,
  "nbformat_minor": 0
}
