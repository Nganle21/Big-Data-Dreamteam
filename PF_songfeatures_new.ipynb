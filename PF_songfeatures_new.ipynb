{
  "cells": [
    {
      "cell_type": "markdown",
      "metadata": {
        "id": "view-in-github",
        "colab_type": "text"
      },
      "source": [
        "<a href=\"https://colab.research.google.com/github/Nganle21/Big-Data-Dreamteam/blob/main/PF_songfeatures_new.ipynb\" target=\"_parent\"><img src=\"https://colab.research.google.com/assets/colab-badge.svg\" alt=\"Open In Colab\"/></a>"
      ]
    },
    {
      "cell_type": "code",
      "execution_count": null,
      "id": "1b51dc03-1c37-461d-a689-cae67f9ca124",
      "metadata": {
        "id": "1b51dc03-1c37-461d-a689-cae67f9ca124"
      },
      "outputs": [],
      "source": [
        "import spotipy\n",
        "import spotipy.util as util\n",
        "from spotipy.oauth2 import SpotifyClientCredentials\n",
        "import re\n",
        "\n",
        "cid = '6c8892a3331d4602830359f009d42765'\n",
        "secret = '2b147051b73d415c891fccec0d139b15'\n",
        "client_credentials_manager = SpotifyClientCredentials(client_id=cid, client_secret=secret)\n",
        "sp = spotipy.Spotify(client_credentials_manager = client_credentials_manager)\n",
        "\n",
        "\n",
        "import pandas as pd\n",
        "import numpy as np\n",
        "import matplotlib.pyplot as plt\n",
        "import seaborn as sns\n",
        "import json\n",
        "#from fbprophet import Prophet\n",
        "from sklearn.metrics import mean_squared_error\n",
        "from collections import Counter\n",
        "\n",
        "pd.set_option('display.max_columns', None)\n",
        "pd.set_option('display.max_rows', None)"
      ]
    },
    {
      "cell_type": "code",
      "source": [
        "pip install spotipy"
      ],
      "metadata": {
        "colab": {
          "base_uri": "https://localhost:8080/"
        },
        "id": "J_sNdfdApqoG",
        "outputId": "0588a281-035f-49ac-fb64-0569ddbbf680"
      },
      "id": "J_sNdfdApqoG",
      "execution_count": null,
      "outputs": [
        {
          "output_type": "stream",
          "name": "stdout",
          "text": [
            "Collecting spotipy\n",
            "  Downloading spotipy-2.19.0-py3-none-any.whl (27 kB)\n",
            "Collecting requests>=2.25.0\n",
            "  Downloading requests-2.27.1-py2.py3-none-any.whl (63 kB)\n",
            "\u001b[K     |████████████████████████████████| 63 kB 2.1 MB/s \n",
            "\u001b[?25hRequirement already satisfied: six>=1.15.0 in /usr/local/lib/python3.7/dist-packages (from spotipy) (1.15.0)\n",
            "Collecting urllib3>=1.26.0\n",
            "  Downloading urllib3-1.26.9-py2.py3-none-any.whl (138 kB)\n",
            "\u001b[K     |████████████████████████████████| 138 kB 67.5 MB/s \n",
            "\u001b[?25hRequirement already satisfied: charset-normalizer~=2.0.0 in /usr/local/lib/python3.7/dist-packages (from requests>=2.25.0->spotipy) (2.0.12)\n",
            "Requirement already satisfied: idna<4,>=2.5 in /usr/local/lib/python3.7/dist-packages (from requests>=2.25.0->spotipy) (2.10)\n",
            "Requirement already satisfied: certifi>=2017.4.17 in /usr/local/lib/python3.7/dist-packages (from requests>=2.25.0->spotipy) (2021.10.8)\n",
            "Installing collected packages: urllib3, requests, spotipy\n",
            "  Attempting uninstall: urllib3\n",
            "    Found existing installation: urllib3 1.24.3\n",
            "    Uninstalling urllib3-1.24.3:\n",
            "      Successfully uninstalled urllib3-1.24.3\n",
            "  Attempting uninstall: requests\n",
            "    Found existing installation: requests 2.23.0\n",
            "    Uninstalling requests-2.23.0:\n",
            "      Successfully uninstalled requests-2.23.0\n",
            "\u001b[31mERROR: pip's dependency resolver does not currently take into account all the packages that are installed. This behaviour is the source of the following dependency conflicts.\n",
            "google-colab 1.0.0 requires requests~=2.23.0, but you have requests 2.27.1 which is incompatible.\n",
            "datascience 0.10.6 requires folium==0.2.1, but you have folium 0.8.3 which is incompatible.\u001b[0m\n",
            "Successfully installed requests-2.27.1 spotipy-2.19.0 urllib3-1.26.9\n"
          ]
        }
      ]
    },
    {
      "cell_type": "code",
      "source": [
        "artistDf = pd.read_csv('/content/drive/MyDrive/Colab Notebooks/artistDf.csv')"
      ],
      "metadata": {
        "id": "WCAAWeRPBb1T"
      },
      "id": "WCAAWeRPBb1T",
      "execution_count": null,
      "outputs": []
    },
    {
      "cell_type": "code",
      "source": [
        "artistDf = pd.DataFrame(artistDf.iloc[200:300,]).reset_index()"
      ],
      "metadata": {
        "id": "bBnpwbtpD-e0"
      },
      "id": "bBnpwbtpD-e0",
      "execution_count": null,
      "outputs": []
    },
    {
      "cell_type": "code",
      "execution_count": null,
      "id": "90979b07",
      "metadata": {
        "id": "90979b07"
      },
      "outputs": [],
      "source": [
        "#Artist details\n",
        "artist_name= 'Tyga'\n",
        "artistID = (sp.search(q='artist:' + artist_name, type='artist'))['artists']['items'][0]['id']\n",
        "artistName = (sp.search(q='artist:' + artist_name, type='artist'))['artists']['items'][0]['name']\n",
        "artistGenre  = (sp.search(q='artist:' + artist_name, type='artist'))['artists']['items'][0]['genres']\n",
        "\n",
        "#search for album\n",
        "albumResults = sp.artist_albums(artistID, limit=50)\n",
        "albumResults = albumResults['items']\n",
        "z=0\n",
        "tracks_info = []\n",
        "\n",
        "#Create DF to store data\n",
        "df_artists = pd.DataFrame()\n",
        "df_albums = pd.DataFrame()\n",
        "\n",
        "# Create a empty set \n",
        "artists_searched = set()\n",
        "artists_searched.add(artist_name)\n",
        "        \n",
        "## Extract artist data and fill database\n",
        "df_artists = df_artists.append({'artist_id': artistID,\n",
        "                                    'artist_name':artistName,\n",
        "                                    'genres':artistGenre},\n",
        "                                    ignore_index=True\n",
        "                                       )\n",
        "\n",
        "# Loop over album\n",
        "for album in albumResults:\n",
        "            \n",
        "    ## Extract album data and fill database\n",
        "    albumID = album['id']\n",
        "    album_name =  album['name']\n",
        "    df_albums = df_albums.append({'artist_name':album['artists'][0]['name'],\n",
        "                                          'artist_id':album['artists'][0]['id'],\n",
        "                                          'album_id': album['id'],\n",
        "                                          'album_name':album['name'],\n",
        "                                          'release_date':album['release_date'],\n",
        "                                          'total_tracks':album['total_tracks'],\n",
        "                                          'type':album['album_group']},\n",
        "                                          ignore_index=True\n",
        "                                         )     \n",
        "df_albums= df_albums.astype({'total_tracks':int}) \n",
        "df_albums= df_albums.drop_duplicates(subset=['album_name'])\n",
        "\n",
        "#Deleting duplicated albums\n",
        "k=0\n",
        "Not_good_words=['Remix','Edition','Accoustic','Version','Deluxe','Acoustic']\n",
        "TODEL=[]\n",
        "for alb in df_albums.album_name.drop_duplicates().tolist():\n",
        "    alb_sp=re.split('(\\W+)',alb)\n",
        "    if len(alb_sp)!=0:\n",
        "        for s in alb_sp:\n",
        "            if s in Not_good_words:\n",
        "                TODEL.append(k)\n",
        "    k=k+1\n",
        "alb=np.array(df_albums.album_name.drop_duplicates().tolist())\n",
        "#Taking the most significative ones\n",
        "\n",
        "ALB=[]\n",
        "for a in range(len(alb)):\n",
        "    if a not in TODEL:\n",
        "        ALB.append(alb[a])\n",
        "LIST_ALB_TITLE=[]\n",
        "for a in ALB:\n",
        "    alb_sp=a.split()\n",
        "    LIST_ALB_TITLE.append(sp)\n",
        "\n",
        "df_albums=df_albums[(df_albums.album_name.isin(ALB))]\n",
        "    \n"
      ]
    },
    {
      "cell_type": "code",
      "source": [
        "\n",
        "#Create DF to store data\n",
        "df_artists = pd.DataFrame()\n",
        "df_albums = pd.DataFrame()\n",
        "\n",
        "for artist_name in artistDf.Artist:\n",
        "  #Artist details\n",
        "  #artist_name= 'Tyga'\n",
        "  artistID = (sp.search(q='artist:' + artist_name, type='artist'))['artists']['items'][0]['id']\n",
        "  artistName = (sp.search(q='artist:' + artist_name, type='artist'))['artists']['items'][0]['name']\n",
        "  artistGenre  = (sp.search(q='artist:' + artist_name, type='artist'))['artists']['items'][0]['genres']\n",
        "\n",
        "  #search for album\n",
        "  albumResults = sp.artist_albums(artistID, limit=50)\n",
        "  albumResults = albumResults['items']\n",
        "  z=0\n",
        "  tracks_info = []\n",
        "\n",
        "  # Create a empty set \n",
        "  artists_searched = set()\n",
        "  artists_searched.add(artist_name)\n",
        "          \n",
        "  ## Extract artist data and fill database\n",
        "  df_artists = df_artists.append({'artist_id': artistID,\n",
        "                                      'artist_name':artistName,\n",
        "                                      'genres':artistGenre},\n",
        "                                      ignore_index=True\n",
        "                                        )\n",
        "\n",
        "  # Loop over album\n",
        "  for album in albumResults:\n",
        "              \n",
        "      ## Extract album data and fill database\n",
        "      albumID = album['id']\n",
        "      album_name =  album['name']\n",
        "      df_albums = df_albums.append({'artist_name':album['artists'][0]['name'],\n",
        "                                            'artist_id':album['artists'][0]['id'],\n",
        "                                            'album_id': album['id'],\n",
        "                                            'album_name':album['name'],\n",
        "                                            'release_date':album['release_date'],\n",
        "                                            'total_tracks':album['total_tracks'],\n",
        "                                            'type':album['album_group']},\n",
        "                                            ignore_index=True\n",
        "                                          )     \n",
        "  df_albums= df_albums.astype({'total_tracks':int}) \n",
        "  df_albums= df_albums.drop_duplicates(subset=['album_name'])\n",
        "\n",
        "  #Deleting duplicated albums\n",
        "  k=0\n",
        "  Not_good_words=['Remix','Edition','Accoustic','Version','Deluxe','Acoustic']\n",
        "  TODEL=[]\n",
        "  for alb in df_albums.album_name.drop_duplicates().tolist():\n",
        "      alb_sp=re.split('(\\W+)',alb)\n",
        "      if len(alb_sp)!=0:\n",
        "          for s in alb_sp:\n",
        "              if s in Not_good_words:\n",
        "                  TODEL.append(k)\n",
        "      k=k+1\n",
        "  alb=np.array(df_albums.album_name.drop_duplicates().tolist())\n",
        "  #Taking the most significative ones\n",
        "\n",
        "  ALB=[]\n",
        "  for a in range(len(alb)):\n",
        "      if a not in TODEL:\n",
        "          ALB.append(alb[a])\n",
        "  LIST_ALB_TITLE=[]\n",
        "  for a in ALB:\n",
        "      alb_sp=a.split()\n",
        "      LIST_ALB_TITLE.append(sp)\n",
        "\n",
        "  df_albums=df_albums[(df_albums.album_name.isin(ALB))]\n",
        "      \n"
      ],
      "metadata": {
        "id": "_wLOl4M7rvCd"
      },
      "id": "_wLOl4M7rvCd",
      "execution_count": null,
      "outputs": []
    },
    {
      "cell_type": "code",
      "source": [
        "#df_albums.to_csv('/content/drive/MyDrive/Colab Notebooks/albums_200_300.csv')"
      ],
      "metadata": {
        "id": "T8Tz1_K_CW_m"
      },
      "id": "T8Tz1_K_CW_m",
      "execution_count": null,
      "outputs": []
    },
    {
      "cell_type": "code",
      "source": [
        "df_albums = pd.read_csv('/content/drive/MyDrive/Colab Notebooks/albums_200_300.csv')"
      ],
      "metadata": {
        "id": "0-faGyZxxtYM"
      },
      "id": "0-faGyZxxtYM",
      "execution_count": null,
      "outputs": []
    },
    {
      "cell_type": "code",
      "execution_count": null,
      "id": "0e7a0f90",
      "metadata": {
        "id": "0e7a0f90"
      },
      "outputs": [],
      "source": [
        "for id in df_albums['album_id']:\n",
        "    # TRACK DETAILS\n",
        "    trackResults = sp.album_tracks(id)\n",
        "    trackResults = trackResults['items']  \n",
        "    ## Loop over tracks\n",
        "    for track in trackResults:\n",
        "                \n",
        "        artists_names =[]\n",
        "        artists_ids = []\n",
        "        artists_genres = []\n",
        "        \n",
        "        for artist in track['artists']:\n",
        "            artists_names.append(artist['name'])\n",
        "            artists_ids.append(artist['id'])\n",
        "            artists_genres.append(artistGenre)\n",
        "\n",
        "            ## Extract track data and fill database\n",
        "        #if (artistID in artists_ids or artist_name in artists_names):\n",
        "            #z+=1\n",
        "            track_info = [id,artists_ids[0],  \n",
        "                            artists_names[0], \n",
        "                            track['uri'],\n",
        "                            track['name'],\n",
        "                            artists_genres[0]]\n",
        "            tracks_info.append(track_info)\n",
        "#create df_tracks df and drop duplicates\n",
        "df_tracks = pd.DataFrame(data = tracks_info,columns=['album_id','artist_id','artist_name','track_uri','track_name','genres'])\n",
        "df_tracks=df_tracks.drop_duplicates(subset=['track_name','track_uri'])\n",
        "#join with df_album for release dates\n",
        "df_tracks =(pd.merge(df_tracks,df_albums,how ='left',left_on = 'album_id',right_on='album_id',suffixes=('', '_y')))\n",
        "#df_tracks = df_tracks[df_tracks.columns.drop(list(df_tracks.filter(regex='_y')))]\n"
      ]
    },
    {
      "cell_type": "code",
      "source": [
        "df_tracks.shape"
      ],
      "metadata": {
        "id": "XaF1AbnBtzp-",
        "colab": {
          "base_uri": "https://localhost:8080/"
        },
        "outputId": "d1b5f5ee-8293-47d7-c6fb-defcbc293c1c"
      },
      "id": "XaF1AbnBtzp-",
      "execution_count": null,
      "outputs": [
        {
          "output_type": "execute_result",
          "data": {
            "text/plain": [
              "(37182, 13)"
            ]
          },
          "metadata": {},
          "execution_count": 56
        }
      ]
    },
    {
      "cell_type": "code",
      "source": [
        "#df_tracks.to_csv('/content/drive/MyDrive/Colab Notebooks/tracks_200_300.csv')"
      ],
      "metadata": {
        "id": "rwf34UHlFIdL"
      },
      "id": "rwf34UHlFIdL",
      "execution_count": null,
      "outputs": []
    },
    {
      "cell_type": "code",
      "source": [
        "df_tracks = pd.read_csv('/content/drive/MyDrive/Colab Notebooks/tracks_200_300.csv')"
      ],
      "metadata": {
        "id": "SwdRDETtjpGd"
      },
      "id": "SwdRDETtjpGd",
      "execution_count": null,
      "outputs": []
    },
    {
      "cell_type": "code",
      "source": [
        "df_tracks = pd.DataFrame(df_tracks.iloc[15000:37183]).reset_index()"
      ],
      "metadata": {
        "id": "Attuv00TlRz4"
      },
      "id": "Attuv00TlRz4",
      "execution_count": null,
      "outputs": []
    },
    {
      "cell_type": "code",
      "execution_count": null,
      "id": "bd672ca3",
      "metadata": {
        "id": "bd672ca3",
        "colab": {
          "base_uri": "https://localhost:8080/",
          "height": 704
        },
        "outputId": "b013b4e1-30ec-43c4-9404-5114a8c9fc2d"
      },
      "outputs": [
        {
          "output_type": "execute_result",
          "data": {
            "text/plain": [
              "                           track_name                             track_uri  \\\n",
              "0  The View From The Afternoon - Live  spotify:track:6yZMhEmlZDbsH5ayXo0zaO   \n",
              "1                    R U Mine? - Live  spotify:track:30a6L5cAZgVbqA3QfO0RS5   \n",
              "2                      Star Treatment  spotify:track:0FgNSsaSZTvbLXUumSO8LQ   \n",
              "3               One Point Perspective  spotify:track:2AKwcNHeGAqCpD6etK425X   \n",
              "4                     American Sports  spotify:track:0mQiDbYxHElUp1eNpLZXaY   \n",
              "\n",
              "      artist_name release_date  \\\n",
              "0  Arctic Monkeys   2020-12-04   \n",
              "1  Arctic Monkeys   2020-12-04   \n",
              "2  Arctic Monkeys   2018-05-11   \n",
              "3  Arctic Monkeys   2018-05-11   \n",
              "4  Arctic Monkeys   2018-05-11   \n",
              "\n",
              "                                              genres  danceability  energy  \\\n",
              "0  ['east coast hip hop', 'gangster rap', 'hip ho...         0.252   0.933   \n",
              "1  ['east coast hip hop', 'gangster rap', 'hip ho...         0.196   0.959   \n",
              "2  ['east coast hip hop', 'gangster rap', 'hip ho...         0.581   0.767   \n",
              "3  ['east coast hip hop', 'gangster rap', 'hip ho...         0.714   0.585   \n",
              "4  ['east coast hip hop', 'gangster rap', 'hip ho...         0.372   0.865   \n",
              "\n",
              "    key  loudness  mode  speechiness  acousticness  liveness  valence  \\\n",
              "0   2.0    -7.330   1.0       0.2440       0.04660     0.861    0.187   \n",
              "1  11.0    -6.710   0.0       0.1500       0.13200     0.969    0.269   \n",
              "2   7.0    -5.026   0.0       0.0527       0.24300     0.141    0.673   \n",
              "3   8.0    -4.570   1.0       0.0419       0.05700     0.144    0.842   \n",
              "4   7.0    -4.288   0.0       0.0513       0.00169     0.127    0.594   \n",
              "\n",
              "     tempo  duration_ms  time_signature  duration  \n",
              "0  145.980     264227.0             4.0  4.403783  \n",
              "1   98.424     371853.0             4.0  6.197550  \n",
              "2  120.070     354640.0             4.0  5.910667  \n",
              "3   77.104     208640.0             4.0  3.477333  \n",
              "4  176.689     158040.0             3.0  2.634000  "
            ],
            "text/html": [
              "\n",
              "  <div id=\"df-083b0d7e-d1dc-465b-b69f-4f17047d1126\">\n",
              "    <div class=\"colab-df-container\">\n",
              "      <div>\n",
              "<style scoped>\n",
              "    .dataframe tbody tr th:only-of-type {\n",
              "        vertical-align: middle;\n",
              "    }\n",
              "\n",
              "    .dataframe tbody tr th {\n",
              "        vertical-align: top;\n",
              "    }\n",
              "\n",
              "    .dataframe thead th {\n",
              "        text-align: right;\n",
              "    }\n",
              "</style>\n",
              "<table border=\"1\" class=\"dataframe\">\n",
              "  <thead>\n",
              "    <tr style=\"text-align: right;\">\n",
              "      <th></th>\n",
              "      <th>track_name</th>\n",
              "      <th>track_uri</th>\n",
              "      <th>artist_name</th>\n",
              "      <th>release_date</th>\n",
              "      <th>genres</th>\n",
              "      <th>danceability</th>\n",
              "      <th>energy</th>\n",
              "      <th>key</th>\n",
              "      <th>loudness</th>\n",
              "      <th>mode</th>\n",
              "      <th>speechiness</th>\n",
              "      <th>acousticness</th>\n",
              "      <th>liveness</th>\n",
              "      <th>valence</th>\n",
              "      <th>tempo</th>\n",
              "      <th>duration_ms</th>\n",
              "      <th>time_signature</th>\n",
              "      <th>duration</th>\n",
              "    </tr>\n",
              "  </thead>\n",
              "  <tbody>\n",
              "    <tr>\n",
              "      <th>0</th>\n",
              "      <td>The View From The Afternoon - Live</td>\n",
              "      <td>spotify:track:6yZMhEmlZDbsH5ayXo0zaO</td>\n",
              "      <td>Arctic Monkeys</td>\n",
              "      <td>2020-12-04</td>\n",
              "      <td>['east coast hip hop', 'gangster rap', 'hip ho...</td>\n",
              "      <td>0.252</td>\n",
              "      <td>0.933</td>\n",
              "      <td>2.0</td>\n",
              "      <td>-7.330</td>\n",
              "      <td>1.0</td>\n",
              "      <td>0.2440</td>\n",
              "      <td>0.04660</td>\n",
              "      <td>0.861</td>\n",
              "      <td>0.187</td>\n",
              "      <td>145.980</td>\n",
              "      <td>264227.0</td>\n",
              "      <td>4.0</td>\n",
              "      <td>4.403783</td>\n",
              "    </tr>\n",
              "    <tr>\n",
              "      <th>1</th>\n",
              "      <td>R U Mine? - Live</td>\n",
              "      <td>spotify:track:30a6L5cAZgVbqA3QfO0RS5</td>\n",
              "      <td>Arctic Monkeys</td>\n",
              "      <td>2020-12-04</td>\n",
              "      <td>['east coast hip hop', 'gangster rap', 'hip ho...</td>\n",
              "      <td>0.196</td>\n",
              "      <td>0.959</td>\n",
              "      <td>11.0</td>\n",
              "      <td>-6.710</td>\n",
              "      <td>0.0</td>\n",
              "      <td>0.1500</td>\n",
              "      <td>0.13200</td>\n",
              "      <td>0.969</td>\n",
              "      <td>0.269</td>\n",
              "      <td>98.424</td>\n",
              "      <td>371853.0</td>\n",
              "      <td>4.0</td>\n",
              "      <td>6.197550</td>\n",
              "    </tr>\n",
              "    <tr>\n",
              "      <th>2</th>\n",
              "      <td>Star Treatment</td>\n",
              "      <td>spotify:track:0FgNSsaSZTvbLXUumSO8LQ</td>\n",
              "      <td>Arctic Monkeys</td>\n",
              "      <td>2018-05-11</td>\n",
              "      <td>['east coast hip hop', 'gangster rap', 'hip ho...</td>\n",
              "      <td>0.581</td>\n",
              "      <td>0.767</td>\n",
              "      <td>7.0</td>\n",
              "      <td>-5.026</td>\n",
              "      <td>0.0</td>\n",
              "      <td>0.0527</td>\n",
              "      <td>0.24300</td>\n",
              "      <td>0.141</td>\n",
              "      <td>0.673</td>\n",
              "      <td>120.070</td>\n",
              "      <td>354640.0</td>\n",
              "      <td>4.0</td>\n",
              "      <td>5.910667</td>\n",
              "    </tr>\n",
              "    <tr>\n",
              "      <th>3</th>\n",
              "      <td>One Point Perspective</td>\n",
              "      <td>spotify:track:2AKwcNHeGAqCpD6etK425X</td>\n",
              "      <td>Arctic Monkeys</td>\n",
              "      <td>2018-05-11</td>\n",
              "      <td>['east coast hip hop', 'gangster rap', 'hip ho...</td>\n",
              "      <td>0.714</td>\n",
              "      <td>0.585</td>\n",
              "      <td>8.0</td>\n",
              "      <td>-4.570</td>\n",
              "      <td>1.0</td>\n",
              "      <td>0.0419</td>\n",
              "      <td>0.05700</td>\n",
              "      <td>0.144</td>\n",
              "      <td>0.842</td>\n",
              "      <td>77.104</td>\n",
              "      <td>208640.0</td>\n",
              "      <td>4.0</td>\n",
              "      <td>3.477333</td>\n",
              "    </tr>\n",
              "    <tr>\n",
              "      <th>4</th>\n",
              "      <td>American Sports</td>\n",
              "      <td>spotify:track:0mQiDbYxHElUp1eNpLZXaY</td>\n",
              "      <td>Arctic Monkeys</td>\n",
              "      <td>2018-05-11</td>\n",
              "      <td>['east coast hip hop', 'gangster rap', 'hip ho...</td>\n",
              "      <td>0.372</td>\n",
              "      <td>0.865</td>\n",
              "      <td>7.0</td>\n",
              "      <td>-4.288</td>\n",
              "      <td>0.0</td>\n",
              "      <td>0.0513</td>\n",
              "      <td>0.00169</td>\n",
              "      <td>0.127</td>\n",
              "      <td>0.594</td>\n",
              "      <td>176.689</td>\n",
              "      <td>158040.0</td>\n",
              "      <td>3.0</td>\n",
              "      <td>2.634000</td>\n",
              "    </tr>\n",
              "  </tbody>\n",
              "</table>\n",
              "</div>\n",
              "      <button class=\"colab-df-convert\" onclick=\"convertToInteractive('df-083b0d7e-d1dc-465b-b69f-4f17047d1126')\"\n",
              "              title=\"Convert this dataframe to an interactive table.\"\n",
              "              style=\"display:none;\">\n",
              "        \n",
              "  <svg xmlns=\"http://www.w3.org/2000/svg\" height=\"24px\"viewBox=\"0 0 24 24\"\n",
              "       width=\"24px\">\n",
              "    <path d=\"M0 0h24v24H0V0z\" fill=\"none\"/>\n",
              "    <path d=\"M18.56 5.44l.94 2.06.94-2.06 2.06-.94-2.06-.94-.94-2.06-.94 2.06-2.06.94zm-11 1L8.5 8.5l.94-2.06 2.06-.94-2.06-.94L8.5 2.5l-.94 2.06-2.06.94zm10 10l.94 2.06.94-2.06 2.06-.94-2.06-.94-.94-2.06-.94 2.06-2.06.94z\"/><path d=\"M17.41 7.96l-1.37-1.37c-.4-.4-.92-.59-1.43-.59-.52 0-1.04.2-1.43.59L10.3 9.45l-7.72 7.72c-.78.78-.78 2.05 0 2.83L4 21.41c.39.39.9.59 1.41.59.51 0 1.02-.2 1.41-.59l7.78-7.78 2.81-2.81c.8-.78.8-2.07 0-2.86zM5.41 20L4 18.59l7.72-7.72 1.47 1.35L5.41 20z\"/>\n",
              "  </svg>\n",
              "      </button>\n",
              "      \n",
              "  <style>\n",
              "    .colab-df-container {\n",
              "      display:flex;\n",
              "      flex-wrap:wrap;\n",
              "      gap: 12px;\n",
              "    }\n",
              "\n",
              "    .colab-df-convert {\n",
              "      background-color: #E8F0FE;\n",
              "      border: none;\n",
              "      border-radius: 50%;\n",
              "      cursor: pointer;\n",
              "      display: none;\n",
              "      fill: #1967D2;\n",
              "      height: 32px;\n",
              "      padding: 0 0 0 0;\n",
              "      width: 32px;\n",
              "    }\n",
              "\n",
              "    .colab-df-convert:hover {\n",
              "      background-color: #E2EBFA;\n",
              "      box-shadow: 0px 1px 2px rgba(60, 64, 67, 0.3), 0px 1px 3px 1px rgba(60, 64, 67, 0.15);\n",
              "      fill: #174EA6;\n",
              "    }\n",
              "\n",
              "    [theme=dark] .colab-df-convert {\n",
              "      background-color: #3B4455;\n",
              "      fill: #D2E3FC;\n",
              "    }\n",
              "\n",
              "    [theme=dark] .colab-df-convert:hover {\n",
              "      background-color: #434B5C;\n",
              "      box-shadow: 0px 1px 3px 1px rgba(0, 0, 0, 0.15);\n",
              "      filter: drop-shadow(0px 1px 2px rgba(0, 0, 0, 0.3));\n",
              "      fill: #FFFFFF;\n",
              "    }\n",
              "  </style>\n",
              "\n",
              "      <script>\n",
              "        const buttonEl =\n",
              "          document.querySelector('#df-083b0d7e-d1dc-465b-b69f-4f17047d1126 button.colab-df-convert');\n",
              "        buttonEl.style.display =\n",
              "          google.colab.kernel.accessAllowed ? 'block' : 'none';\n",
              "\n",
              "        async function convertToInteractive(key) {\n",
              "          const element = document.querySelector('#df-083b0d7e-d1dc-465b-b69f-4f17047d1126');\n",
              "          const dataTable =\n",
              "            await google.colab.kernel.invokeFunction('convertToInteractive',\n",
              "                                                     [key], {});\n",
              "          if (!dataTable) return;\n",
              "\n",
              "          const docLinkHtml = 'Like what you see? Visit the ' +\n",
              "            '<a target=\"_blank\" href=https://colab.research.google.com/notebooks/data_table.ipynb>data table notebook</a>'\n",
              "            + ' to learn more about interactive tables.';\n",
              "          element.innerHTML = '';\n",
              "          dataTable['output_type'] = 'display_data';\n",
              "          await google.colab.output.renderOutput(dataTable, element);\n",
              "          const docLink = document.createElement('div');\n",
              "          docLink.innerHTML = docLinkHtml;\n",
              "          element.appendChild(docLink);\n",
              "        }\n",
              "      </script>\n",
              "    </div>\n",
              "  </div>\n",
              "  "
            ]
          },
          "metadata": {},
          "execution_count": 14
        }
      ],
      "source": [
        "audio_features = []\n",
        "for uri in df_tracks['track_uri'].values:\n",
        "  if sp.audio_features(uri)[0]: \n",
        "    audio_features.append(sp.audio_features(uri)[0])\n",
        "audio_features = pd.DataFrame(audio_features)[['danceability', 'energy', 'key', 'loudness', 'mode', 'speechiness', 'acousticness', 'liveness', 'valence', 'tempo', 'duration_ms', 'time_signature']]\n",
        "audio_features['duration'] = audio_features['duration_ms']/60000\n",
        "audio_features = pd.concat([df_tracks['track_name'],df_tracks['track_uri'],df_tracks['artist_name'],df_tracks['release_date'],df_tracks['genres'],audio_features],axis=1)\n",
        "audio_features.head()"
      ]
    },
    {
      "cell_type": "code",
      "source": [
        "audio_features.shape"
      ],
      "metadata": {
        "id": "A_rFAYzkjeko",
        "outputId": "26fe4ec5-a4ff-4266-9a1e-6ee7ca99aee6",
        "colab": {
          "base_uri": "https://localhost:8080/"
        }
      },
      "id": "A_rFAYzkjeko",
      "execution_count": null,
      "outputs": [
        {
          "output_type": "execute_result",
          "data": {
            "text/plain": [
              "(22182, 18)"
            ]
          },
          "metadata": {},
          "execution_count": 15
        }
      ]
    },
    {
      "cell_type": "code",
      "source": [
        "audio_features.to_csv('/content/drive/MyDrive/Colab Notebooks/audio_features_3_15000_37182.csv')"
      ],
      "metadata": {
        "id": "Z9vgc6207BUt"
      },
      "id": "Z9vgc6207BUt",
      "execution_count": null,
      "outputs": []
    },
    {
      "cell_type": "code",
      "source": [
        "from google.colab import drive\n",
        "drive.mount('/content/drive')"
      ],
      "metadata": {
        "colab": {
          "base_uri": "https://localhost:8080/"
        },
        "id": "MWt9VZWb7Gz1",
        "outputId": "6b4116da-0b3a-4035-a652-035755dfc86c"
      },
      "id": "MWt9VZWb7Gz1",
      "execution_count": null,
      "outputs": [
        {
          "output_type": "stream",
          "name": "stdout",
          "text": [
            "Mounted at /content/drive\n"
          ]
        }
      ]
    }
  ],
  "metadata": {
    "colab": {
      "name": "Bản sao của PF_songfeatures.ipynb",
      "provenance": [],
      "include_colab_link": true
    },
    "kernelspec": {
      "display_name": "Python 3 (ipykernel)",
      "language": "python",
      "name": "python3"
    },
    "language_info": {
      "codemirror_mode": {
        "name": "ipython",
        "version": 3
      },
      "file_extension": ".py",
      "mimetype": "text/x-python",
      "name": "python",
      "nbconvert_exporter": "python",
      "pygments_lexer": "ipython3",
      "version": "3.7.9"
    },
    "accelerator": "GPU"
  },
  "nbformat": 4,
  "nbformat_minor": 5
}