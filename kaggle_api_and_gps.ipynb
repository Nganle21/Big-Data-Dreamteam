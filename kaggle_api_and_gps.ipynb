{
 "cells": [
  {
   "cell_type": "markdown",
   "metadata": {},
   "source": [
    "# Fetch data from Kaggle with Kaggle API"
   ]
  },
  {
   "cell_type": "code",
   "execution_count": 3,
   "metadata": {},
   "outputs": [
    {
     "name": "stdout",
     "output_type": "stream",
     "text": [
      "Warning: Your Kaggle API key is readable by other users on this system! To fix this, you can run 'chmod 600 /Users/thunganle/.kaggle/kaggle.json'\n",
      "ref                                   title                              size  lastUpdated          downloadCount  voteCount  usabilityRating  \n",
      "------------------------------------  --------------------------------  -----  -------------------  -------------  ---------  ---------------  \n",
      "saurabhshahane/spotgen-music-dataset  Spotify and Genius Track Dataset  274MB  2022-05-21 16:57:22           1239         61  0.875            \n"
     ]
    }
   ],
   "source": [
    "!kaggle datasets list -s 'spotgen music dataset'"
   ]
  },
  {
   "cell_type": "markdown",
   "metadata": {},
   "source": [
    "https://www.youtube.com/watch?v=gkEbaMgvLs8"
   ]
  },
  {
   "cell_type": "code",
   "execution_count": 4,
   "metadata": {},
   "outputs": [
    {
     "name": "stdout",
     "output_type": "stream",
     "text": [
      "Warning: Your Kaggle API key is readable by other users on this system! To fix this, you can run 'chmod 600 /Users/thunganle/.kaggle/kaggle.json'\n",
      "Downloading spotgen-music-dataset.zip to /Users/thunganle/Desktop/Schreibtisch/BIPM/BigData/Big-Data-Dreamteam/Ngan\n",
      "100%|███████████████████████████████████████▉| 273M/274M [00:27<00:00, 10.5MB/s]\n",
      "100%|████████████████████████████████████████| 274M/274M [00:27<00:00, 10.3MB/s]\n"
     ]
    }
   ],
   "source": [
    "!kaggle datasets download -d 'saurabhshahane/spotgen-music-dataset'"
   ]
  },
  {
   "cell_type": "code",
   "execution_count": 39,
   "metadata": {},
   "outputs": [
    {
     "name": "stdout",
     "output_type": "stream",
     "text": [
      "Archive:  spotgen-music-dataset.zip\n",
      "replace /Users/thunganle/Project_Kaggle/SpotGenTrack/Data Sources/spotify_albums.csv? [y]es, [n]o, [A]ll, [N]one, [r]ename: ^C\n"
     ]
    }
   ],
   "source": [
    "!unzip spotgen-music-dataset.zip -d ~/Project_Kaggle"
   ]
  },
  {
   "cell_type": "code",
   "execution_count": 12,
   "metadata": {},
   "outputs": [
    {
     "name": "stdout",
     "output_type": "stream",
     "text": [
      "Collecting pyspark\n",
      "  Downloading pyspark-3.2.1.tar.gz (281.4 MB)\n",
      "\u001b[2K     \u001b[90m━━━━━━━━━━━━━━━━━━━━━━━━━━━━━━━━━━━━━━━\u001b[0m \u001b[32m281.4/281.4 MB\u001b[0m \u001b[31m2.1 MB/s\u001b[0m eta \u001b[36m0:00:00\u001b[0m00:01\u001b[0m00:01\u001b[0m\n",
      "\u001b[?25h  Preparing metadata (setup.py) ... \u001b[?25ldone\n",
      "\u001b[?25hCollecting py4j==0.10.9.3\n",
      "  Downloading py4j-0.10.9.3-py2.py3-none-any.whl (198 kB)\n",
      "\u001b[2K     \u001b[90m━━━━━━━━━━━━━━━━━━━━━━━━━━━━━━━━━━━━━━━\u001b[0m \u001b[32m199.0/199.0 KB\u001b[0m \u001b[31m8.6 MB/s\u001b[0m eta \u001b[36m0:00:00\u001b[0m\n",
      "\u001b[?25hUsing legacy 'setup.py install' for pyspark, since package 'wheel' is not installed.\n",
      "Installing collected packages: py4j, pyspark\n",
      "  Running setup.py install for pyspark ... \u001b[?25ldone\n",
      "\u001b[?25hSuccessfully installed py4j-0.10.9.3 pyspark-3.2.1\n",
      "\u001b[33mWARNING: You are using pip version 22.0.4; however, version 22.1 is available.\n",
      "You should consider upgrading via the '/Library/Frameworks/Python.framework/Versions/3.10/bin/python3.10 -m pip install --upgrade pip' command.\u001b[0m\u001b[33m\n",
      "\u001b[0m"
     ]
    }
   ],
   "source": [
    "!pip3 install pyspark"
   ]
  },
  {
   "cell_type": "code",
   "execution_count": 28,
   "metadata": {},
   "outputs": [],
   "source": [
    "from pyspark.sql import SparkSession\n",
    "spark = SparkSession.builder.getOrCreate()"
   ]
  },
  {
   "cell_type": "code",
   "execution_count": 40,
   "metadata": {},
   "outputs": [
    {
     "name": "stderr",
     "output_type": "stream",
     "text": [
      "                                                                                \r"
     ]
    }
   ],
   "source": [
    "df_artist = spark.read.csv('../../../../../../../../Users/thunganle/Project_Kaggle/SpotGenTrack/Data Sources/spotify_albums.csv')"
   ]
  },
  {
   "cell_type": "code",
   "execution_count": 43,
   "metadata": {},
   "outputs": [
    {
     "name": "stdout",
     "output_type": "stream",
     "text": [
      "+----+----------+--------------------+--------------------+--------------------+--------------------+--------------------+--------------------+--------------------+------------+--------------------+------------+--------------------+---------------+--------------------+-----+\n",
      "| _c0|       _c1|                 _c2|                 _c3|                 _c4|                 _c5|                 _c6|                 _c7|                 _c8|         _c9|                _c10|        _c11|                _c12|           _c13|                _c14| _c15|\n",
      "+----+----------+--------------------+--------------------+--------------------+--------------------+--------------------+--------------------+--------------------+------------+--------------------+------------+--------------------+---------------+--------------------+-----+\n",
      "|null|album_type|           artist_id|   available_markets|       external_urls|                href|                  id|              images|                name|release_date|release_date_prec...|total_tracks|            track_id|track_name_prev|                 uri| type|\n",
      "|   0|    single|3DiDSECUqqY1AuBP8...|['AD', 'AE', 'AR'...|{'spotify': 'http...|https://api.spoti...|1gAM7M4rBwEbSPeAQ...|[{'height': 640, ...|If I Ain't Got Yo...|  2019-02-08|                 day|           6|2iejTMy9XZ8Gaae0a...|       track_32|spotify:album:1gA...|album|\n",
      "|   1|     album|6s1pCNXcbdtQJlsnM...|['AD', 'AE', 'AR'...|{'spotify': 'http...|https://api.spoti...|4KfJZV7WfolYlxBzO...|[{'height': 640, ...|Shostakovich Symp...|  2019-03-01|                 day|           8|1WQfghEjszJJ4H8MA...|       track_11|spotify:album:4Kf...|album|\n",
      "|   2|    single|5YjfNaHq05WrwldRe...|['AD', 'AE', 'AR'...|{'spotify': 'http...|https://api.spoti...|7nLYY7uAVUb57kpd7...|[{'height': 640, ...|        Take My Bass|  2019-03-14|                 day|           1|3jJKj4QTK3v18ZSwp...|       track_15|spotify:album:7nL...|album|\n",
      "|   3|    single|2G9Vc16JCpnZmK4uG...|['AD', 'AE', 'AR'...|{'spotify': 'http...|https://api.spoti...|6p20Rt4x2Qn5mUMRi...|[{'height': 640, ...| Hypnotizing (Are U)|  2016-11-16|                 day|           1|1xGtDafUZbHyYC3Xa...|       track_46|spotify:album:6p2...|album|\n",
      "|   4|    single|2dwM9OcE4c3Ph1UBI...|['AD', 'AE', 'AR'...|{'spotify': 'http...|https://api.spoti...|1XeoOqC1q7U2iyLEQ...|[{'height': 640, ...|            Sunshine|  2018-07-20|                 day|           1|0gWtsXvXOzAT6FtM3...|       track_10|spotify:album:1Xe...|album|\n",
      "|   5|    single|6bwXuNL4AuC7w3Axs...|['AD', 'AE', 'AR'...|{'spotify': 'http...|https://api.spoti...|0LFnBypmyPreoqgBy...|[{'height': 640, ...|Moderniste - Sona...|  2019-03-01|                 day|           1|5rlcRoYi2Pnfpp5q6...|        track_8|spotify:album:0LF...|album|\n",
      "|   6|     album|5y9NnD1AZPcBVbDlu...|['AD', 'AE', 'AR'...|{'spotify': 'http...|https://api.spoti...|4ozx3bix6xomjtvIl...|[{'height': 640, ...|   An Enduring Voice|  2019-03-01|                 day|          11|6XW8jOlDrbhrPLykq...|       track_16|spotify:album:4oz...|album|\n",
      "|   7|    single|0W03t1E2FUo9WAMBw...|['AD', 'AE', 'AR'...|{'spotify': 'http...|https://api.spoti...|5mwUwmTB5dvONIX8U...|[{'height': 640, ...|               Quiet|  2019-03-15|                 day|           1|6BHHQJCjGtAxl9eZV...|       track_19|spotify:album:5mw...|album|\n",
      "|   8|     album|7GRrLcUxwtQLvOpO7...|['AD', 'AE', 'AR'...|{'spotify': 'http...|https://api.spoti...|2BlcdDBE62JOtVOgC...|[{'height': 640, ...|High Visceral, Pt. 1|  2016-03-19|                 day|          10|7sP57RtB31LWReHyQ...|       track_49|spotify:album:2Bl...|album|\n",
      "|   9|    single|5j1NzKToU6ZSzCkuI...|['AD', 'AE', 'AR'...|{'spotify': 'http...|https://api.spoti...|2WYcjaqZ159ruiClr...|[{'height': 640, ...|   Auténtica Llanera|  2018-08-17|                 day|           1|2FCIggXNdoHTXzVyP...|       track_21|spotify:album:2WY...|album|\n",
      "|  10|     album|2wOqMjp9TyABvtHdO...|['AD', 'AE', 'AR'...|{'spotify': 'http...|https://api.spoti...|4tpxeDnpQaQDCFt6g...|[{'height': 640, ...|Beethoven: 6 Baga...|  2019-03-01|                 day|          11|0vF8nd5yJQU4bmurk...|       track_10|spotify:album:4tp...|album|\n",
      "|  11|     album|13iBt0NnvWlaE9R21...|['AD', 'AE', 'AR'...|{'spotify': 'http...|https://api.spoti...|6ijzOqTgwLqi07oYn...|[{'height': 640, ...| Au Long de la Loire|  2019-03-01|                 day|          17|5v6RFQXo46SblxEYh...|       track_17|spotify:album:6ij...|album|\n",
      "|  12|    single|0n255T84TbJje4U9R...|['AD', 'AE', 'AR'...|{'spotify': 'http...|https://api.spoti...|2tgRVRHyZ45ecTMGp...|[{'height': 640, ...|      I Still Miss U|  2019-03-15|                 day|           1|1XHUsvM6USkfBRRYL...|       track_21|spotify:album:2tg...|album|\n",
      "|  13|     album|3bLCTs7b0rXgPLsuR...|['AD', 'AE', 'AR'...|{'spotify': 'http...|https://api.spoti...|3vlQK6zfkv0JpADgN...|[{'height': 640, ...|      Kolmekymppinen|        1980|                year|          12|3v4x9Hf96yLtEYctU...|        track_5|spotify:album:3vl...|album|\n",
      "|  14|    single|1CJIcvG0AwRBiclbf...|['AD', 'AE', 'AR'...|{'spotify': 'http...|https://api.spoti...|1zjJie8cQ9FUjt0aF...|[{'height': 640, ...|               Bruja|  2018-04-24|                 day|           1|45RBx5WYi0JFx6p69...|       track_22|spotify:album:1zj...|album|\n",
      "|  15|     album|3vrMRlMsFCU2SZTDA...|['AD', 'AE', 'AR'...|{'spotify': 'http...|https://api.spoti...|5FF5Bvr1QjshKPUfL...|[{'height': 640, ...|Sonatas for two v...|  2019-03-01|                 day|          14|2r3q57FhxdsCyYr0k...|       track_12|spotify:album:5FF...|album|\n",
      "|  16|     album|4NsS37EcAaYzIJHs8...|['AD', 'AE', 'AR'...|{'spotify': 'http...|https://api.spoti...|6sUSCnAhKZoJlEXqh...|[{'height': 640, ...|             Sirènes|  2019-03-01|                 day|          18|0eeQWYlmkHvqwBBNC...|       track_18|spotify:album:6sU...|album|\n",
      "|  17|    single|5jO3o2nsu0GTQBc8L...|['AD', 'AE', 'AR'...|{'spotify': 'http...|https://api.spoti...|7FJ9me2shzRAOW2zH...|[{'height': 640, ...|        Light of Day|  2019-03-01|                 day|           2|4QZpZd7dV4pyKo4la...|       track_29|spotify:album:7FJ...|album|\n",
      "|  18|    single|1nh1tWk4ZqRPrl0Xq...|['AD', 'AE', 'AR'...|{'spotify': 'http...|https://api.spoti...|7zG1CY6e15JVaNe2h...|[{'height': 640, ...|    Madame del Campo|  2015-08-03|                 day|           1|69OItPzxDMni6ywHk...|       track_39|spotify:album:7zG...|album|\n",
      "+----+----------+--------------------+--------------------+--------------------+--------------------+--------------------+--------------------+--------------------+------------+--------------------+------------+--------------------+---------------+--------------------+-----+\n",
      "only showing top 20 rows\n",
      "\n"
     ]
    }
   ],
   "source": [
    "df_artist.show()"
   ]
  },
  {
   "cell_type": "markdown",
   "metadata": {},
   "source": [
    "# Upload data to Google Cloud Storage"
   ]
  },
  {
   "cell_type": "code",
   "execution_count": null,
   "metadata": {},
   "outputs": [],
   "source": [
    "# Create API client.\n",
    "credentials = service_account.Credentials.from_service_account_info(\n",
    "    st.secrets[\"gcp_service_account\"]\n",
    ")\n",
    "client = storage.Client(credentials=credentials)"
   ]
  },
  {
   "cell_type": "code",
   "execution_count": null,
   "metadata": {},
   "outputs": [],
   "source": [
    "from google.cloud import storage\n",
    "storage_client = client\n",
    "\n",
    "def create_bucket(dataset_name):\n",
    "    \"\"\"Creates a new bucket. https://cloud.google.com/storage/docs/ \"\"\"\n",
    "    bucket = storage_client.create_bucket(dataset_name)\n",
    "    print('Bucket {} created'.format(bucket.name))\n",
    "\n",
    "def upload_blob(bucket_name, source_file_name, destination_blob_name):\n",
    "    \"\"\"Uploads a file to the bucket. https://cloud.google.com/storage/docs/ \"\"\"\n",
    "    bucket = storage_client.get_bucket(bucket_name)\n",
    "    blob = bucket.blob(destination_blob_name)\n",
    "    blob.upload_from_filename(source_file_name)\n",
    "    print('File {} uploaded to {}.'.format(\n",
    "        source_file_name,\n",
    "        destination_blob_name))"
   ]
  },
  {
   "cell_type": "code",
   "execution_count": 8,
   "metadata": {},
   "outputs": [],
   "source": [
    "bucket_name = 'big_data_lyrician'         \n",
    "try:\n",
    "    create_bucket(bucket_name)   \n",
    "except:\n",
    "    pass"
   ]
  },
  {
   "cell_type": "markdown",
   "metadata": {},
   "source": [
    "Here, we import our fetched csv to our Google Cloud Storage"
   ]
  },
  {
   "cell_type": "code",
   "execution_count": null,
   "metadata": {},
   "outputs": [],
   "source": [
    "local_data = 'spotify_tracks.csv'\n",
    "file_name = 'spotify_tracks.csv' \n",
    "upload_blob(bucket_name, local_data, file_name)"
   ]
  }
 ],
 "metadata": {
  "interpreter": {
   "hash": "aee8b7b246df8f9039afb4144a1f6fd8d2ca17a180786b69acc140d282b71a49"
  },
  "kernelspec": {
   "display_name": "Python 3.10.4 64-bit",
   "language": "python",
   "name": "python3"
  },
  "language_info": {
   "codemirror_mode": {
    "name": "ipython",
    "version": 3
   },
   "file_extension": ".py",
   "mimetype": "text/x-python",
   "name": "python",
   "nbconvert_exporter": "python",
   "pygments_lexer": "ipython3",
   "version": "3.10.4"
  },
  "orig_nbformat": 4
 },
 "nbformat": 4,
 "nbformat_minor": 2
}
